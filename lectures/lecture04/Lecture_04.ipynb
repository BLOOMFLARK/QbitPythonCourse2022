{
 "cells": [
  {
   "cell_type": "markdown",
   "metadata": {},
   "source": [
    "# Типы данных в Python"
   ]
  },
  {
   "cell_type": "markdown",
   "metadata": {},
   "source": [
    "## Сперва теория, потом задачки!"
   ]
  },
  {
   "cell_type": "code",
   "execution_count": null,
   "metadata": {},
   "outputs": [],
   "source": [
    "# Извлечение среза\n",
    "# Оператор извлечения среза: [start:stop:step]. start – начало среза, а stop – окончание, step - шаг;\n",
    "# символ с номером stop в срез не входит. По умолчанию первый индекс равен 0, а второй - длине строки.\n",
    "\n",
    "\n",
    "s = \"Привет\"\n",
    "print(s)\n",
    "\n",
    "print(s[:])\n",
    "print(s[1:-1]) # с первого (нумерация с нуля) до последнего, не включая последний\n",
    "print(s[::2]) # каждый второй символ от начала и до конца\n",
    "\n",
    "print(s[:1000000000]) # такое можно делать, питон делает автоматическую проверку на выход за границы\n",
    "\n",
    "print(s[:1000000000])"
   ]
  },
  {
   "cell_type": "markdown",
   "metadata": {},
   "source": [
    "# Циклы"
   ]
  },
  {
   "cell_type": "markdown",
   "metadata": {},
   "source": [
    "## for each цикл"
   ]
  },
  {
   "cell_type": "code",
   "execution_count": null,
   "metadata": {},
   "outputs": [],
   "source": [
    "# По строкам можно итерироваться, так как это \"коллекции\"\n",
    "# Для примера, int это не коллекция, не очень понятно как по ней можно итерироваться. Неделимая информация\n",
    "# char = string[i], print(char)\n",
    "for char in 'СТрока':\n",
    "    print(char)"
   ]
  },
  {
   "cell_type": "code",
   "execution_count": null,
   "metadata": {},
   "outputs": [],
   "source": [
    "# функция range\n",
    "rng = range(10)\n",
    "print(rng, type(rng))\n",
    "print(list(rng)) # встроенная функция, превращает итерабельный объект в список\n",
    "\n",
    "# Поэтому цикл for each может быть в таком виде:\n",
    "for i in range(10):\n",
    "    print(i)"
   ]
  },
  {
   "cell_type": "markdown",
   "metadata": {},
   "source": [
    "## цикл while"
   ]
  },
  {
   "cell_type": "code",
   "execution_count": null,
   "metadata": {
    "scrolled": true
   },
   "outputs": [],
   "source": [
    "string = 'djasdjasdla;la;svmjksafndkcmvjkdbvafklkavnbkjsngfaslc'\n",
    "string_len = len(string)\n",
    "\n",
    "# начинаем с индекса 0 и идем до индекса конца строки len(string) - 1\n",
    "# более низкоуровневый подход, for each проще и чаще используется\n",
    "indexer = 0 \n",
    "while indexer < string_len:\n",
    "    print(indexer, string[indexer])\n",
    "    indexer += 1"
   ]
  },
  {
   "cell_type": "markdown",
   "metadata": {},
   "source": [
    "## Задача 1"
   ]
  },
  {
   "cell_type": "code",
   "execution_count": null,
   "metadata": {
    "scrolled": true
   },
   "outputs": [],
   "source": [
    "# Напишите цикл, который итерируется с конца строки\n",
    "# С помощью слайса\n",
    "# С помощью индексов на низком уровне\n",
    "input_str = \"Строка которую нужно вывести в обратном порядке\"\n",
    "\n",
    "for el in ...:\n",
    "    print(el)\n",
    "\n",
    "for i in ...:\n",
    "    print(input_str[...])\n",
    "dir(input_str)"
   ]
  },
  {
   "cell_type": "markdown",
   "metadata": {},
   "source": [
    "## Задача 2"
   ]
  },
  {
   "cell_type": "code",
   "execution_count": null,
   "metadata": {},
   "outputs": [],
   "source": [
    "# МОЖЕМ ПРОПУСТИТЬ!\n",
    "# напишите функцию двумя способами подсчет суммы чисел, введенных пользователем с клавиатуры через пробел\n",
    "# функция input()\n",
    "\n",
    "# nums_str вида '123456789', без цифр > 9\n",
    "def sum_with_while(nums_str):\n",
    "    pass\n",
    "\n",
    "def sum_with_foreach(nums_str):\n",
    "    passы\n"
   ]
  },
  {
   "cell_type": "markdown",
   "metadata": {},
   "source": [
    "## Булев тип данных"
   ]
  },
  {
   "cell_type": "code",
   "execution_count": null,
   "metadata": {},
   "outputs": [],
   "source": [
    "print(type(False))\n",
    "\n",
    "# существует в единственном экземпляре\n",
    "a = True\n",
    "b = True\n",
    "print(id(a), id(b))"
   ]
  },
  {
   "cell_type": "code",
   "execution_count": null,
   "metadata": {},
   "outputs": [],
   "source": [
    "# операторы ==, >=, <=, != проверяет равенство значений по адресу\n",
    "a = 100\n",
    "b = 200\n",
    "print(a == b)\n",
    "\n",
    "a = 10000\n",
    "b = 10000\n",
    "print(a == b)\n",
    "\n",
    "# оператор is проверяет равенство адресов\n",
    "a = 100\n",
    "b = 200\n",
    "print(a is b) # По сути это id(a) == id(b)\n",
    "\n",
    "a = 10000\n",
    "b = 10000\n",
    "print(a is b)"
   ]
  },
  {
   "cell_type": "code",
   "execution_count": null,
   "metadata": {},
   "outputs": [],
   "source": [
    "print(True + True)\n",
    "print(True + False)\n",
    "print(True * False)\n",
    "print(True / False)"
   ]
  },
  {
   "cell_type": "code",
   "execution_count": null,
   "metadata": {},
   "outputs": [],
   "source": [
    "int(True), int(False)"
   ]
  },
  {
   "cell_type": "markdown",
   "metadata": {},
   "source": [
    "# Задача 3\n",
    "\n",
    "\n",
    "    Таблица истинности:\n",
    "    OR: (True, True) -> True, (True, False) -> True, (False, True) -> True, (False, False) -> False\n",
    "    AND: (True, True) -> True, все остальное FALSE\n",
    "    NOT: True -> False, False -> True\n",
    "    XOR: (True, True) -> False, (True, False) -> True, (False, True) -> True, (False, False) -> False"
   ]
  },
  {
   "cell_type": "code",
   "execution_count": null,
   "metadata": {},
   "outputs": [],
   "source": [
    "# Составление булевых выражений\n",
    "# 1. OR\n",
    "# 2. AND\n",
    "# 3. NOT\n",
    "# 4. XOR\n",
    "\n",
    "\n",
    "def my_or(bool1, bool2):\n",
    "    pass\n",
    "\n",
    "def my_and(bool1, bool2):\n",
    "    pass\n",
    "\n",
    "def my_not(bool1):\n",
    "    pass\n",
    "\n",
    "def my_xor(bool1, bool2):\n",
    "    pass"
   ]
  },
  {
   "cell_type": "code",
   "execution_count": null,
   "metadata": {},
   "outputs": [],
   "source": [
    "# if, оператор ветвления, необходимо, чтобы выполнялся не весь код последовательно, а только при выполнении какого-то\n",
    "# условия\n",
    "# Пример: Функция, возвращающая само число, если это число больше нуля\n",
    "# if <bool>: <code> else:\n",
    "\n",
    "def if_then_else_calculator(a, b, operator):\n",
    "    #TODO создадим простой калькулятор, который принимает a, b - числа (проверять не нужно!)\n",
    "    #и operator в виде строки \"plus\", \"minus\", \"divide\", \"mult\", \"pow\"\n",
    "    if operator == \"plus\":\n",
    "        return 0\n",
    "    if operator == \"minus\":\n",
    "        return 0\n",
    "    if operator == \"divide\":\n",
    "        return 0\n",
    "    if operator == \"mult\":\n",
    "        return 0\n",
    "    if operator == \"pow\":\n",
    "        return 0\n",
    "    raise ValueError(\"Bad operator call\")\n",
    "\n",
    "\n",
    "assert if_then_else_calculator(5, 877777777777777777777, \"plus\") == 877777777777777777782\n",
    "assert if_then_else_calculator(3467, 4987., \"plus\") == 8454.\n",
    "assert if_then_else_calculator(1000, 100, 'minus') == 900\n",
    "assert if_then_else_calculator(1000., 2000, 'minus') == -1000\n",
    "assert if_then_else_calculator(0., 100., 'minus') == -100\n",
    "assert if_then_else_calculator(1000, 100, 'mult') == 100000\n",
    "assert if_then_else_calculator(-2., 100, 'mult') == -200.\n",
    "assert if_then_else_calculator(-15., -2, 'mult') == 30.\n",
    "assert if_then_else_calculator(0., 100., 'mult') == 0.\n",
    "assert if_then_else_calculator(15, 3, 'divide') == 5\n",
    "assert if_then_else_calculator(7., 2., 'divide') == 3.5\n",
    "assert if_then_else_calculator(15, 3, 'pow') == 3375\n",
    "assert if_then_else_calculator(7., 2., 'pow') == 49."
   ]
  },
  {
   "cell_type": "markdown",
   "metadata": {},
   "source": [
    "## Объект None\n",
    "\n",
    "    Ключевое слово null обычно используется во многих языках программирования, таких как Java, C++, C# и   JavaScript. Это значение, которое присваивается переменной.\n",
    "\n",
    "    Концепция ключевого слова null в том, что она дает переменной нейтральное или \"нулевое\" поведение."
   ]
  },
  {
   "cell_type": "code",
   "execution_count": null,
   "metadata": {},
   "outputs": [],
   "source": [
    "# Это тоже заранее созданный объект\n",
    "my_none_variable = None\n",
    "\n",
    "print(my_none_variable, type(my_none_variable))"
   ]
  },
  {
   "cell_type": "code",
   "execution_count": null,
   "metadata": {},
   "outputs": [],
   "source": [
    "a = 10\n",
    "print(a is None) # вот так делать можно, адрес у него один поэтому это всегда корректно\n",
    "print(a == None) # так лучше не делать"
   ]
  },
  {
   "cell_type": "code",
   "execution_count": null,
   "metadata": {},
   "outputs": [],
   "source": [
    "def foo():\n",
    "    return\n",
    "\n",
    "def kek():\n",
    "    return None\n",
    "\n",
    "def bar():\n",
    "    a = 'lol'\n",
    "\n",
    "print(foo())\n",
    "print(kek)\n",
    "print(bar())"
   ]
  },
  {
   "cell_type": "markdown",
   "metadata": {},
   "source": [
    "## Массивы\n",
    "\n",
    "Массивов в python как таковых нет. Есть понятие списка, у которого под капотом лежит динамический массив.\n",
    "У массивов есть определенный набор методов. Рассмотрим их ниже"
   ]
  },
  {
   "cell_type": "code",
   "execution_count": null,
   "metadata": {
    "ExecuteTime": {
     "end_time": "2019-02-28T13:10:08.201391Z",
     "start_time": "2019-02-28T13:10:08.191342Z"
    }
   },
   "outputs": [],
   "source": [
    "#Список можно создать множеством способов, вот некоторые из них\n",
    "# Доступ по индексу a[0], a[1], ИЗМЕНЯЕМЫЕ! Что происходит при изменении?\n",
    "a = []\n",
    "a = list()\n",
    "a = [1, 2, 'яблоко']\n",
    "# a = [i for i in range(10)]\n",
    "a = [0] * 5"
   ]
  },
  {
   "cell_type": "markdown",
   "metadata": {},
   "source": [
    "# Задача 4\n",
    "    Напишите функцию change(lst), которая принимает список и меняет местами его i и j элементы. \n",
    "    В исходном списке минимум 2 элемента."
   ]
  },
  {
   "cell_type": "code",
   "execution_count": null,
   "metadata": {},
   "outputs": [],
   "source": [
    "def swap_elements(lst, i, j):\n",
    "    pass"
   ]
  },
  {
   "cell_type": "code",
   "execution_count": null,
   "metadata": {},
   "outputs": [],
   "source": [
    "# сколько элементов будет выведено?\n",
    "students = ['Ivan', 'Masha', 'Sasha']\n",
    "students += ['Olga']\n",
    "students += 'Olga' \n",
    "students"
   ]
  },
  {
   "cell_type": "code",
   "execution_count": null,
   "metadata": {
    "ExecuteTime": {
     "end_time": "2019-02-28T13:10:08.214497Z",
     "start_time": "2019-02-28T13:10:08.206224Z"
    }
   },
   "outputs": [],
   "source": [
    "#Вывести массив можно по-разному, как через print, так и преобразовав его\n",
    "a = [3, 4, 5]\n",
    "print(len(a))\n",
    "print(a)\n",
    "# print(\" \".join(str(i) for i in a))"
   ]
  },
  {
   "cell_type": "code",
   "execution_count": null,
   "metadata": {
    "ExecuteTime": {
     "end_time": "2019-02-28T13:10:08.243788Z",
     "start_time": "2019-02-28T13:10:08.232549Z"
    }
   },
   "outputs": [],
   "source": [
    "#К списку можно добавлять элементы, как в конец так и вставлять в середину\n",
    "a = []\n",
    "a.append(0)\n",
    "a.append(\"строка\")\n",
    "a.append(False)\n",
    "a.append(3 + 10)\n",
    "a.insert(1, 0.)\n",
    "print(a)"
   ]
  },
  {
   "cell_type": "code",
   "execution_count": null,
   "metadata": {
    "ExecuteTime": {
     "end_time": "2019-02-28T13:10:08.230021Z",
     "start_time": "2019-02-28T13:10:08.217267Z"
    }
   },
   "outputs": [],
   "source": [
    "#Можно делать срезы списка, указывает list[a:b:c] a-первый индекс, b-последний индекс не включая, c-шаг\n",
    "a = [i for i in range(10)] # Рассказать про функцию range\n",
    "print(a)\n",
    "print(a[0:4])\n",
    "print(a[::2])\n",
    "print(a[::-1])\n",
    "\n",
    "# Перепишите через цикл и append добавление [i for i in range(10)]"
   ]
  },
  {
   "cell_type": "code",
   "execution_count": null,
   "metadata": {
    "ExecuteTime": {
     "end_time": "2019-02-28T13:10:08.258276Z",
     "start_time": "2019-02-28T13:10:08.246201Z"
    }
   },
   "outputs": [],
   "source": [
    "#Элементы списка можно удалять, переопределять\n",
    "a = [0., 1.2, 3.4, \"строка\"]\n",
    "print(a)\n",
    "a.remove(1.2)\n",
    "print(a)\n",
    "a[2] = \"новое значение\"\n",
    "print(a)"
   ]
  },
  {
   "cell_type": "code",
   "execution_count": null,
   "metadata": {
    "ExecuteTime": {
     "end_time": "2019-02-28T13:10:08.309815Z",
     "start_time": "2019-02-28T13:10:08.278801Z"
    }
   },
   "outputs": [],
   "source": [
    "#Копирование списков!\n",
    "a = [1, 2, 3]\n",
    "b = a\n",
    "a[0]=100000000\n",
    "print(a)\n",
    "print(b)\n",
    "\n",
    "b = a[::] #аналогично вызову a.copy()\n",
    "a[0] = -1\n",
    "print(a)\n",
    "print(b)\n",
    "\n",
    "a = [1, 2, [3, 4]]\n",
    "b = a[::] \n",
    "a[2][0] = -1\n",
    "print(a)\n",
    "print(b)"
   ]
  },
  {
   "cell_type": "code",
   "execution_count": null,
   "metadata": {
    "ExecuteTime": {
     "end_time": "2019-02-28T13:10:08.321335Z",
     "start_time": "2019-02-28T13:10:08.312173Z"
    }
   },
   "outputs": [],
   "source": [
    "#Очистка списка\n",
    "a = [0, 1, 2, 3]\n",
    "print(a)\n",
    "a.clear()\n",
    "print(a)"
   ]
  },
  {
   "cell_type": "markdown",
   "metadata": {},
   "source": [
    "# Задача 5\n",
    "### Проверим умеем ли мы что-то делать со списками"
   ]
  },
  {
   "cell_type": "code",
   "execution_count": null,
   "metadata": {
    "ExecuteTime": {
     "end_time": "2019-02-28T13:10:08.335907Z",
     "start_time": "2019-02-28T13:10:08.322831Z"
    }
   },
   "outputs": [],
   "source": [
    "def list_calculator(a, operation, b=[]):\n",
    "    '''\n",
    "    :param a: список\n",
    "    :param operation: операция над массивом\n",
    "    :param b: опциональный параметр - список\n",
    "    :return преобразованный массив\n",
    "    Если operation \"revert\" возвращаться должен инвертированный массив a\n",
    "    operation == \"sum_ar\" должен возвращаться массив - результат сложения массивов a и b\n",
    "    operation == \"append\" должен возвращаться массив - результат добавления массива b к массиву a\n",
    "    operation == \"insert\" должен возвращаться массив с массивом b на 0 позиции массива a\n",
    "    '''\n",
    "    if operation == \"revert\":\n",
    "        return 0\n",
    "    if operation == \"sum_ar\":\n",
    "        return 0\n",
    "    if operation == \"append\":\n",
    "        return 0\n",
    "    if operation == \"insert\":\n",
    "        return 0\n",
    "    return a"
   ]
  },
  {
   "cell_type": "code",
   "execution_count": null,
   "metadata": {
    "ExecuteTime": {
     "end_time": "2019-02-28T13:10:08.360803Z",
     "start_time": "2019-02-28T13:10:08.337941Z"
    }
   },
   "outputs": [],
   "source": [
    "assert list_calculator([0, 1, 2], \"revert\") == [2, 1, 0]\n",
    "assert list_calculator([-3], \"revert\") == [-3]\n",
    "assert list_calculator([0, 1], \"append\", [3, 4]) == [0, 1, [3, 4]]\n",
    "assert list_calculator([0, 100, -34], \"append\", [0]) == [0, 100, -34, [0]]\n",
    "assert list_calculator([0, -10, -4], \"append\") == [0, -10, -4, []]\n",
    "assert list_calculator([10], \"sum_ar\") == [10]\n",
    "assert list_calculator([10, -2], \"sum_ar\", [0, -2]) == [10, -2, 0, -2]\n",
    "assert list_calculator([100, 200], \"insert\") == [[], 100, 200]\n",
    "assert list_calculator([-3, 400], \"insert\", [-45, 12]) == [[-45, 12], -3, 400]"
   ]
  },
  {
   "cell_type": "code",
   "execution_count": null,
   "metadata": {},
   "outputs": [],
   "source": [
    "# Функцию поиска максимального элемента. Сразу скажу что понадобится if и цикл.\n",
    "\n",
    "def find_min(lst):\n",
    "    pass"
   ]
  },
  {
   "cell_type": "markdown",
   "metadata": {},
   "source": [
    "## Кортежи (tuple)\n",
    "\n",
    "Неизменемые упорядоченные значения"
   ]
  },
  {
   "cell_type": "code",
   "execution_count": null,
   "metadata": {
    "ExecuteTime": {
     "end_time": "2019-02-28T13:10:17.708828Z",
     "start_time": "2019-02-28T13:10:17.700476Z"
    }
   },
   "outputs": [],
   "source": [
    "a = tuple()\n",
    "print(a)\n",
    "a = (1, 2)\n",
    "print(a)\n",
    "a[0] = 2"
   ]
  },
  {
   "cell_type": "code",
   "execution_count": null,
   "metadata": {
    "ExecuteTime": {
     "end_time": "2019-02-28T13:10:17.721075Z",
     "start_time": "2019-02-28T13:10:17.710911Z"
    }
   },
   "outputs": [],
   "source": [
    "#С кортежами работают все методы списков, которые не изменяют содержимое\n",
    "a = (1, 2, 3)\n",
    "print(a[0], a[2])\n",
    "print(len(a))"
   ]
  },
  {
   "cell_type": "code",
   "execution_count": null,
   "metadata": {
    "ExecuteTime": {
     "end_time": "2019-02-28T13:10:17.732023Z",
     "start_time": "2019-02-28T13:10:17.722984Z"
    }
   },
   "outputs": [],
   "source": [
    "#Например, аналогично спискам можем посчитать встречаемость объекта или индекс первого появления объекта\n",
    "t = (1, 2, 4, 1, 3, 2, 1)\n",
    "print(t.count(1))\n",
    "print(t.index(2))"
   ]
  },
  {
   "cell_type": "markdown",
   "metadata": {},
   "source": [
    "## Словарь (dict)\n",
    "\n",
    "Словарь - это пары неизменяемый ключ и значение"
   ]
  },
  {
   "cell_type": "code",
   "execution_count": null,
   "metadata": {
    "ExecuteTime": {
     "end_time": "2019-02-28T13:10:17.758578Z",
     "start_time": "2019-02-28T13:10:17.744356Z"
    }
   },
   "outputs": [],
   "source": [
    "#Создадим словарь\n",
    "d = dict(key=\"value\")\n",
    "d = {\"key\": \"value\"}\n",
    "\n",
    "d = dict([(\"key_1\", \"value_1\"), (\"key_2\", \"value_2\")])\n",
    "d = dict.fromkeys(['key_1', 'key_2'], \"value\")"
   ]
  },
  {
   "cell_type": "code",
   "execution_count": null,
   "metadata": {
    "ExecuteTime": {
     "end_time": "2019-02-28T13:10:17.769835Z",
     "start_time": "2019-02-28T13:10:17.760490Z"
    }
   },
   "outputs": [],
   "source": [
    "d = {} # = dict()\n",
    "d['one'] = 1\n",
    "d['oone'] = 2\n",
    "d['one'] = 3\n",
    "print(d)"
   ]
  },
  {
   "cell_type": "code",
   "execution_count": null,
   "metadata": {
    "ExecuteTime": {
     "end_time": "2019-02-28T13:10:17.787053Z",
     "start_time": "2019-02-28T13:10:17.771474Z"
    }
   },
   "outputs": [],
   "source": [
    "#Посмотрим на ключи, значения и пары ключ-значение. Позднее мы научимся итерироваться по ним\n",
    "d = {\"key_\" + str(i): \"value\" for i in range(10)}\n",
    "print(d.keys())\n",
    "print(d.values())\n",
    "print(d.items())"
   ]
  },
  {
   "cell_type": "code",
   "execution_count": null,
   "metadata": {
    "ExecuteTime": {
     "end_time": "2019-02-28T13:10:17.797816Z",
     "start_time": "2019-02-28T13:10:17.788725Z"
    }
   },
   "outputs": [],
   "source": [
    "print(type(d.keys()), type(d.values()), type(d.items()))"
   ]
  },
  {
   "cell_type": "code",
   "execution_count": null,
   "metadata": {
    "ExecuteTime": {
     "end_time": "2019-02-28T13:10:17.814752Z",
     "start_time": "2019-02-28T13:10:17.799721Z"
    }
   },
   "outputs": [],
   "source": [
    "#Если запросить ключ, который не лежит в мапе через d[], то вылетит ошибка. Лучше использовать get(key, \"default_value\")\n",
    "print(d.get(\"no_key\", \"Нет такого ключа, брат\"))\n",
    "print(d['key_1'])\n",
    "d['key_1'] = 'new_value'\n",
    "print(d['key_1'])"
   ]
  },
  {
   "cell_type": "code",
   "execution_count": null,
   "metadata": {
    "ExecuteTime": {
     "end_time": "2019-02-28T13:10:17.825265Z",
     "start_time": "2019-02-28T13:10:17.816487Z"
    }
   },
   "outputs": [],
   "source": [
    "#Бывает нужно \"слить\" два словаря. Можно это сделать по-разному\n",
    "d_1 = {\"key_1\": \"value_1\"}\n",
    "d_2 = {\"key_2\": \"value_2\"}\n",
    "d = dict(d_1, **d_2)\n",
    "d = {**d_1, **d_2}\n",
    "print(d)\n",
    "\n",
    "print('before', d_1)\n",
    "d_1.update(d_2)\n",
    "print('after', d_1)"
   ]
  },
  {
   "cell_type": "code",
   "execution_count": null,
   "metadata": {},
   "outputs": [],
   "source": [
    "popped_value = d_1.pop('key_1') # возвращает значение И удаляет\n",
    "d_1"
   ]
  },
  {
   "cell_type": "code",
   "execution_count": null,
   "metadata": {
    "ExecuteTime": {
     "end_time": "2019-02-28T13:10:17.881564Z",
     "start_time": "2019-02-28T13:10:17.875901Z"
    }
   },
   "outputs": [],
   "source": [
    "del d_1['key_2'] # удаляем элемент из словаря"
   ]
  },
  {
   "cell_type": "code",
   "execution_count": null,
   "metadata": {
    "ExecuteTime": {
     "end_time": "2019-02-28T13:10:17.896860Z",
     "start_time": "2019-02-28T13:10:17.883283Z"
    }
   },
   "outputs": [],
   "source": [
    "d_1"
   ]
  },
  {
   "cell_type": "code",
   "execution_count": null,
   "metadata": {},
   "outputs": [],
   "source": [
    "d_1 = {\"key_1\": \"value_1\"}\n",
    "_ = d_1.pop('key_1')"
   ]
  },
  {
   "cell_type": "markdown",
   "metadata": {},
   "source": [
    "# Задача 6\n",
    "    Посчитайте число каждого символа в строке"
   ]
  },
  {
   "cell_type": "code",
   "execution_count": null,
   "metadata": {},
   "outputs": [],
   "source": [
    "inpt_str = input()\n",
    "\n",
    "char_counter = {}\n",
    "for char in inpt_str:\n",
    "    pass"
   ]
  },
  {
   "cell_type": "markdown",
   "metadata": {},
   "source": [
    "## Множества (set)\n",
    "\n",
    "Множества реализованы как хеш-таблицы с заглушками вместо элементов-значений. \n",
    "\n",
    "\n",
    "В отличие от массивов, где элементы хранятся в виде последовательного списка, в множествах порядок хранения элементов неопределен (более того, элементы множества хранятся не подряд, как в списке, а при помощи хитрых алгоритмов). Это позволяет выполнять операции типа “проверить принадлежность элемента множеству” быстрее, чем просто перебирая все элементы множества."
   ]
  },
  {
   "cell_type": "code",
   "execution_count": null,
   "metadata": {
    "ExecuteTime": {
     "end_time": "2019-02-28T13:10:17.907942Z",
     "start_time": "2019-02-28T13:10:17.899070Z"
    }
   },
   "outputs": [],
   "source": [
    "#Создадим несколько множеств\n",
    "a = set('hello')\n",
    "print(a)\n",
    "a = set([\"k_1\", \"k_1\", \"k_1\", \"k_2\"])\n",
    "print(a)"
   ]
  },
  {
   "cell_type": "code",
   "execution_count": null,
   "metadata": {
    "ExecuteTime": {
     "end_time": "2019-02-28T13:10:17.927899Z",
     "start_time": "2019-02-28T13:10:17.910646Z"
    }
   },
   "outputs": [],
   "source": [
    "#В множество можно добавлять элементы и удалять их оттуда\n",
    "a = set(\"qbitcourse\")\n",
    "print(a)\n",
    "a.add(\"t\")\n",
    "print(a)\n",
    "a.add(\"y\")\n",
    "print(a)\n",
    "a.remove(\"e\")\n",
    "print(a)\n",
    "\n",
    "try:\n",
    "    a.remove(\"z\")\n",
    "except KeyError:\n",
    "    print(\"Ошибка\")\n",
    "    \n",
    "try:\n",
    "    a.discard(\"z\") # удаляем элемент если он существует\n",
    "    print(\"Нет ошибки\")\n",
    "except KeyError:\n",
    "    print(\"Ошибка\")"
   ]
  },
  {
   "cell_type": "code",
   "execution_count": null,
   "metadata": {
    "ExecuteTime": {
     "end_time": "2019-02-28T13:10:17.951085Z",
     "start_time": "2019-02-28T13:10:17.931552Z"
    }
   },
   "outputs": [],
   "source": [
    "#Над множествами работают все теоретико-множественные операции\n",
    "a = set(\"qbitcourse\")\n",
    "b = set(\"tehello\")\n",
    "print(a, b)\n",
    "\n",
    "#Объединение\n",
    "print(a.union(b))\n",
    "\n",
    "#Пересечение\n",
    "print(a.intersection(b))\n",
    "\n",
    "#Проверка непересечения -True если нет общих элементов\n",
    "print(a.isdisjoint(b))\n",
    "\n",
    "#Вычитание\n",
    "print(a.difference(b))\n",
    "\n",
    "#Проверка вхождения\n",
    "print(\"h\" in a)"
   ]
  },
  {
   "cell_type": "code",
   "execution_count": null,
   "metadata": {
    "ExecuteTime": {
     "end_time": "2019-02-28T13:10:17.964820Z",
     "start_time": "2019-02-28T13:10:17.953504Z"
    }
   },
   "outputs": [],
   "source": [
    "# Сравним set с list в случае, если нам нужно проводить проверку наличия\n",
    "# в ограниченном списке большого числа элементов\n",
    "# Проверяем if element in set / list\n",
    "\n",
    "num_list = [i for i in range(10000)]\n",
    "num_set = set([i for i in range(10000)])"
   ]
  },
  {
   "cell_type": "code",
   "execution_count": null,
   "metadata": {
    "ExecuteTime": {
     "end_time": "2019-02-28T13:10:17.998376Z",
     "start_time": "2019-02-28T13:10:17.966896Z"
    }
   },
   "outputs": [],
   "source": [
    "%%timeit # магическая команда, помогает измерить время выполнения кода в ячейке\n",
    "\n",
    "counter = 0\n",
    "for i in range(100000):\n",
    "    if i in num_set:\n",
    "        counter += 1"
   ]
  },
  {
   "cell_type": "code",
   "execution_count": null,
   "metadata": {
    "ExecuteTime": {
     "end_time": "2019-02-28T13:10:31.677651Z",
     "start_time": "2019-02-28T13:10:18.000298Z"
    }
   },
   "outputs": [],
   "source": [
    "%%timeit\n",
    "\n",
    "counter = 0\n",
    "for i in range(100000):\n",
    "    if i in num_list:\n",
    "        counter += 1"
   ]
  },
  {
   "cell_type": "code",
   "execution_count": null,
   "metadata": {},
   "outputs": [],
   "source": []
  },
  {
   "cell_type": "code",
   "execution_count": null,
   "metadata": {},
   "outputs": [],
   "source": []
  }
 ],
 "metadata": {
  "kernelspec": {
   "display_name": "Python 3",
   "language": "python",
   "name": "python3"
  },
  "language_info": {
   "codemirror_mode": {
    "name": "ipython",
    "version": 3
   },
   "file_extension": ".py",
   "mimetype": "text/x-python",
   "name": "python",
   "nbconvert_exporter": "python",
   "pygments_lexer": "ipython3",
   "version": "3.8.8"
  }
 },
 "nbformat": 4,
 "nbformat_minor": 2
}

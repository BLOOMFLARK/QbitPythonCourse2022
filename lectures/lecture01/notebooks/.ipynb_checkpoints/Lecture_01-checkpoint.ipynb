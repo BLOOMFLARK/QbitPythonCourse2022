{
 "cells": [
  {
   "cell_type": "markdown",
   "metadata": {},
   "source": [
    "# Типы данных в Python\n",
    "## Числа"
   ]
  },
  {
   "cell_type": "code",
   "execution_count": 1,
   "metadata": {
    "ExecuteTime": {
     "end_time": "2019-02-28T13:09:39.919622Z",
     "start_time": "2019-02-28T13:09:39.909718Z"
    }
   },
   "outputs": [
    {
     "name": "stdout",
     "output_type": "stream",
     "text": [
      "Type of a is <class 'int'>\n",
      "Type of b is <class 'float'>\n"
     ]
    }
   ],
   "source": [
    "a = 5\n",
    "b = 5.0\n",
    "print(\"Type of a is {}\".format(type(a)))\n",
    "print(\"Type of b is {}\".format(type(b)))"
   ]
  },
  {
   "cell_type": "code",
   "execution_count": 2,
   "metadata": {
    "ExecuteTime": {
     "end_time": "2019-02-28T13:09:39.930492Z",
     "start_time": "2019-02-28T13:09:39.922265Z"
    }
   },
   "outputs": [
    {
     "name": "stdout",
     "output_type": "stream",
     "text": [
      "11 12 13.0\n"
     ]
    }
   ],
   "source": [
    "#Числа можно складывать!\n",
    "c_1 = 5 + 6\n",
    "c_2 = a + 7\n",
    "c_3 = b + 8\n",
    "print(c_1, c_2, c_3)"
   ]
  },
  {
   "cell_type": "code",
   "execution_count": 3,
   "metadata": {
    "ExecuteTime": {
     "end_time": "2019-02-28T13:09:39.942529Z",
     "start_time": "2019-02-28T13:09:39.932981Z"
    }
   },
   "outputs": [
    {
     "name": "stdout",
     "output_type": "stream",
     "text": [
      "-2 -5 541.0\n"
     ]
    }
   ],
   "source": [
    "#Числа можно вычитать!\n",
    "c_1 = 6 - 8\n",
    "c_2 = a - 10\n",
    "c_3 = 546 - b\n",
    "print(c_1, c_2, c_3)"
   ]
  },
  {
   "cell_type": "code",
   "execution_count": 4,
   "metadata": {
    "ExecuteTime": {
     "end_time": "2019-02-28T13:09:39.958540Z",
     "start_time": "2019-02-28T13:09:39.945919Z"
    }
   },
   "outputs": [
    {
     "name": "stdout",
     "output_type": "stream",
     "text": [
      "36 30 35.0\n"
     ]
    }
   ],
   "source": [
    "#Числа можно умножать и возводить в степень!\n",
    "c_1 = 6 ** 2\n",
    "c_2 = a * 6\n",
    "c_3 = b * 7\n",
    "print(c_1, c_2, c_3)"
   ]
  },
  {
   "cell_type": "code",
   "execution_count": 5,
   "metadata": {
    "ExecuteTime": {
     "end_time": "2019-02-28T13:09:39.971060Z",
     "start_time": "2019-02-28T13:09:39.961970Z"
    }
   },
   "outputs": [
    {
     "name": "stdout",
     "output_type": "stream",
     "text": [
      "3.5 3 1\n"
     ]
    }
   ],
   "source": [
    "#Числа можно делить, брать остаток и целую часть!\n",
    "c_1 = 7 / 2\n",
    "c_2 = 7 // 2\n",
    "c_3 = 7 % 2\n",
    "print(c_1, c_2, c_3)"
   ]
  },
  {
   "cell_type": "code",
   "execution_count": 6,
   "metadata": {},
   "outputs": [
    {
     "name": "stdout",
     "output_type": "stream",
     "text": [
      "4440394176\n",
      "4440394208\n",
      "5 5 4440394208 4440394208\n"
     ]
    }
   ],
   "source": [
    "# Адрес объекта. \n",
    "# В Питоне все есть объект, когда мы создаем переменную мы создаем ссылку на объект в памяти\n",
    "# Зачем нужны ссылки? Чтобы при копировании не копировать сам объект:) \n",
    "# Ссылка почти всегда весит меньше чем объект, поэтому копируя ссылку (а не объект) мы экономим место.\n",
    "\n",
    "\n",
    "a = 4 # создаем ячейку в памяти, ссылку на ячейку возвращаем в переменную, называем ее \"a\"\n",
    "print(id(a))\n",
    "\n",
    "b = 5\n",
    "print(id(b))\n",
    "a = b # в переменную a копируем ссылку на объект, который лежит по ссылке b.\n",
    "print(a, b, id(a), id(b))"
   ]
  },
  {
   "cell_type": "markdown",
   "metadata": {},
   "source": [
    "## Mutable, immutable (изменяемые и не изменяемые объекты)\n",
    "    \n",
    "    Начнем с того, что в питоне все есть объект. \n",
    "    Объект - это сущность, способная сохранять свое состояние (информацию) и обеспечивающая набор операций (поведение) для проверки и изменения этого состояния. Об этом и классах подробнее на следующих занятиях.\n",
    "    \n",
    "    В примере выше число 4 - объект класса Integer (целых чисел), он имеет операции сложения, вычитания, и т.д.\n",
    "    \n",
    "    \n",
    "    К неизменяемым (immutable) типам относятся: целые числа (int),  числа с плавающей точкой (float), комплексные числа (complex), логические переменные (bool), кортежи (tuple), строки (str) и неизменяемые множества (frozen set).\n",
    "\n",
    "    К изменяемым (mutable) типам относятся: списки (list), множества (set), словари (dict).\n",
    "\n",
    "    Как уже было сказано ранее, при создании переменной, вначале создается объект, который имеет уникальный    идентификатор, тип и значение, после этого переменная может ссылаться на созданный объект.\n",
    "\n",
    "    Неизменяемость типа данных означает, что созданный объект больше не изменяется."
   ]
  },
  {
   "cell_type": "code",
   "execution_count": 7,
   "metadata": {},
   "outputs": [
    {
     "name": "stdout",
     "output_type": "stream",
     "text": [
      "4440394528\n",
      "4440394496\n"
     ]
    }
   ],
   "source": [
    "k = 15\n",
    "print(id(k))\n",
    "k = 14\n",
    "print(id(k))"
   ]
  },
  {
   "cell_type": "markdown",
   "metadata": {},
   "source": [
    "### Keywords. Вы могли заметить, что некоторые функции (type, id) окрашиваются в зеленый."
   ]
  },
  {
   "cell_type": "code",
   "execution_count": 8,
   "metadata": {},
   "outputs": [
    {
     "name": "stdout",
     "output_type": "stream",
     "text": [
      "Python keywords: \n",
      " ['False', 'None', 'True', 'and', 'as', 'assert', 'async', 'await', 'break', 'class', 'continue', 'def', 'del', 'elif', 'else', 'except', 'finally', 'for', 'from', 'global', 'if', 'import', 'in', 'is', 'lambda', 'nonlocal', 'not', 'or', 'pass', 'raise', 'return', 'try', 'while', 'with', 'yield']\n"
     ]
    }
   ],
   "source": [
    "import keyword\n",
    "\n",
    "print(\"Python keywords: \\n\", keyword.kwlist)"
   ]
  },
  {
   "cell_type": "markdown",
   "metadata": {},
   "source": [
    "### Проверим можем ли мы что-то делать с числами"
   ]
  },
  {
   "cell_type": "code",
   "execution_count": 9,
   "metadata": {
    "ExecuteTime": {
     "end_time": "2019-02-28T13:09:39.986002Z",
     "start_time": "2019-02-28T13:09:39.973514Z"
    }
   },
   "outputs": [],
   "source": [
    "def if_then_else_calculator(a, b, operator):\n",
    "    #TODO создадим простой калькулятор, который принимает a, b - числа (проверять не нужно!)\n",
    "    #и operator в виде строки \"plus\", \"minus\", \"divide\", \"mult\", \"pow\"\n",
    "    if operator == \"plus\":\n",
    "        return 0\n",
    "    if operator == \"minus\":\n",
    "        return 0\n",
    "    if operator == \"divide\":\n",
    "        return 0\n",
    "    if operator == \"mult\":\n",
    "        return 0\n",
    "    if operator == \"pow\":\n",
    "        return 0\n",
    "    raise ValueError(\"Bad operator call\")"
   ]
  },
  {
   "cell_type": "code",
   "execution_count": 10,
   "metadata": {
    "ExecuteTime": {
     "end_time": "2019-02-28T13:09:40.062896Z",
     "start_time": "2019-02-28T13:09:39.988516Z"
    }
   },
   "outputs": [
    {
     "ename": "AssertionError",
     "evalue": "",
     "output_type": "error",
     "traceback": [
      "\u001b[0;31m---------------------------------------------------------------------------\u001b[0m",
      "\u001b[0;31mAssertionError\u001b[0m                            Traceback (most recent call last)",
      "\u001b[0;32m<ipython-input-10-d91fe56a9355>\u001b[0m in \u001b[0;36m<module>\u001b[0;34m\u001b[0m\n\u001b[0;32m----> 1\u001b[0;31m \u001b[0;32massert\u001b[0m \u001b[0mif_then_else_calculator\u001b[0m\u001b[0;34m(\u001b[0m\u001b[0;36m5\u001b[0m\u001b[0;34m,\u001b[0m \u001b[0;36m877777777777777777777\u001b[0m\u001b[0;34m,\u001b[0m \u001b[0;34m\"plus\"\u001b[0m\u001b[0;34m)\u001b[0m \u001b[0;34m==\u001b[0m \u001b[0;36m877777777777777777782\u001b[0m\u001b[0;34m\u001b[0m\u001b[0;34m\u001b[0m\u001b[0m\n\u001b[0m\u001b[1;32m      2\u001b[0m \u001b[0;32massert\u001b[0m \u001b[0mif_then_else_calculator\u001b[0m\u001b[0;34m(\u001b[0m\u001b[0;36m3467\u001b[0m\u001b[0;34m,\u001b[0m \u001b[0;36m4987.\u001b[0m\u001b[0;34m,\u001b[0m \u001b[0;34m\"plus\"\u001b[0m\u001b[0;34m)\u001b[0m \u001b[0;34m==\u001b[0m \u001b[0;36m8454.\u001b[0m\u001b[0;34m\u001b[0m\u001b[0;34m\u001b[0m\u001b[0m\n\u001b[1;32m      3\u001b[0m \u001b[0;32massert\u001b[0m \u001b[0mif_then_else_calculator\u001b[0m\u001b[0;34m(\u001b[0m\u001b[0;36m1000\u001b[0m\u001b[0;34m,\u001b[0m \u001b[0;36m100\u001b[0m\u001b[0;34m,\u001b[0m \u001b[0;34m'minus'\u001b[0m\u001b[0;34m)\u001b[0m \u001b[0;34m==\u001b[0m \u001b[0;36m900\u001b[0m\u001b[0;34m\u001b[0m\u001b[0;34m\u001b[0m\u001b[0m\n\u001b[1;32m      4\u001b[0m \u001b[0;32massert\u001b[0m \u001b[0mif_then_else_calculator\u001b[0m\u001b[0;34m(\u001b[0m\u001b[0;36m1000.\u001b[0m\u001b[0;34m,\u001b[0m \u001b[0;36m2000\u001b[0m\u001b[0;34m,\u001b[0m \u001b[0;34m'minus'\u001b[0m\u001b[0;34m)\u001b[0m \u001b[0;34m==\u001b[0m \u001b[0;34m-\u001b[0m\u001b[0;36m1000\u001b[0m\u001b[0;34m\u001b[0m\u001b[0;34m\u001b[0m\u001b[0m\n\u001b[1;32m      5\u001b[0m \u001b[0;32massert\u001b[0m \u001b[0mif_then_else_calculator\u001b[0m\u001b[0;34m(\u001b[0m\u001b[0;36m0.\u001b[0m\u001b[0;34m,\u001b[0m \u001b[0;36m100.\u001b[0m\u001b[0;34m,\u001b[0m \u001b[0;34m'minus'\u001b[0m\u001b[0;34m)\u001b[0m \u001b[0;34m==\u001b[0m \u001b[0;34m-\u001b[0m\u001b[0;36m100\u001b[0m\u001b[0;34m\u001b[0m\u001b[0;34m\u001b[0m\u001b[0m\n",
      "\u001b[0;31mAssertionError\u001b[0m: "
     ]
    }
   ],
   "source": [
    "assert if_then_else_calculator(5, 877777777777777777777, \"plus\") == 877777777777777777782\n",
    "assert if_then_else_calculator(3467, 4987., \"plus\") == 8454.\n",
    "assert if_then_else_calculator(1000, 100, 'minus') == 900\n",
    "assert if_then_else_calculator(1000., 2000, 'minus') == -1000\n",
    "assert if_then_else_calculator(0., 100., 'minus') == -100\n",
    "assert if_then_else_calculator(1000, 100, 'mult') == 100000\n",
    "assert if_then_else_calculator(-2., 100, 'mult') == -200.\n",
    "assert if_then_else_calculator(-15., -2, 'mult') == 30.\n",
    "assert if_then_else_calculator(0., 100., 'mult') == 0.\n",
    "assert if_then_else_calculator(15, 3, 'divide') == 5\n",
    "assert if_then_else_calculator(7., 2., 'divide') == 3.5\n",
    "assert if_then_else_calculator(15, 3, 'pow') == 3375\n",
    "assert if_then_else_calculator(7., 2., 'pow') == 49."
   ]
  },
  {
   "cell_type": "markdown",
   "metadata": {},
   "source": [
    "## Строки\n",
    "Строки - это тоже объект! Они неизменяемы. Создать строку можно окружив её одинарными, двойными или тройными кавычками. Перенос строки осуществляется символом \\."
   ]
  },
  {
   "cell_type": "code",
   "execution_count": 11,
   "metadata": {
    "scrolled": true
   },
   "outputs": [
    {
     "data": {
      "text/plain": [
       "{'__name__': '__main__',\n",
       " '__doc__': 'Automatically created module for IPython interactive environment',\n",
       " '__package__': None,\n",
       " '__loader__': None,\n",
       " '__spec__': None,\n",
       " '__builtin__': <module 'builtins' (built-in)>,\n",
       " '__builtins__': <module 'builtins' (built-in)>,\n",
       " '_ih': ['',\n",
       "  'a = 5\\nb = 5.0\\nprint(\"Type of a is {}\".format(type(a)))\\nprint(\"Type of b is {}\".format(type(b)))',\n",
       "  '#Числа можно складывать!\\nc_1 = 5 + 6\\nc_2 = a + 7\\nc_3 = b + 8\\nprint(c_1, c_2, c_3)',\n",
       "  '#Числа можно вычитать!\\nc_1 = 6 - 8\\nc_2 = a - 10\\nc_3 = 546 - b\\nprint(c_1, c_2, c_3)',\n",
       "  '#Числа можно умножать и возводить в степень!\\nc_1 = 6 ** 2\\nc_2 = a * 6\\nc_3 = b * 7\\nprint(c_1, c_2, c_3)',\n",
       "  '#Числа можно делить, брать остаток и целую часть!\\nc_1 = 7 / 2\\nc_2 = 7 // 2\\nc_3 = 7 % 2\\nprint(c_1, c_2, c_3)',\n",
       "  '# Адрес объекта. \\n# В Питоне все есть объект, когда мы создаем переменную мы создаем ссылку на объект в памяти\\n# Зачем нужны ссылки? Чтобы при копировании не копировать сам объект:) \\n# Ссылка почти всегда весит меньше чем объект, поэтому копируя ссылку (а не объект) мы экономим место.\\n\\n\\na = 4 # создаем ячейку в памяти, ссылку на ячейку возвращаем в переменную, называем ее \"a\"\\nprint(id(a))\\n\\nb = 5\\nprint(id(b))\\na = b # в переменную a копируем ссылку на объект, который лежит по ссылке b.\\nprint(a, b, id(a), id(b))',\n",
       "  'k = 15\\nprint(id(k))\\nk = 14\\nprint(id(k))',\n",
       "  'import keyword\\n\\nprint(\"Python keywords: \\\\n\", keyword.kwlist)',\n",
       "  'def if_then_else_calculator(a, b, operator):\\n    #TODO создадим простой калькулятор, который принимает a, b - числа (проверять не нужно!)\\n    #и operator в виде строки \"plus\", \"minus\", \"divide\", \"mult\", \"pow\"\\n    if operator == \"plus\":\\n        return 0\\n    if operator == \"minus\":\\n        return 0\\n    if operator == \"divide\":\\n        return 0\\n    if operator == \"mult\":\\n        return 0\\n    if operator == \"pow\":\\n        return 0\\n    raise ValueError(\"Bad operator call\")',\n",
       "  'assert if_then_else_calculator(5, 877777777777777777777, \"plus\") == 877777777777777777782\\nassert if_then_else_calculator(3467, 4987., \"plus\") == 8454.\\nassert if_then_else_calculator(1000, 100, \\'minus\\') == 900\\nassert if_then_else_calculator(1000., 2000, \\'minus\\') == -1000\\nassert if_then_else_calculator(0., 100., \\'minus\\') == -100\\nassert if_then_else_calculator(1000, 100, \\'mult\\') == 100000\\nassert if_then_else_calculator(-2., 100, \\'mult\\') == -200.\\nassert if_then_else_calculator(-15., -2, \\'mult\\') == 30.\\nassert if_then_else_calculator(0., 100., \\'mult\\') == 0.\\nassert if_then_else_calculator(15, 3, \\'divide\\') == 5\\nassert if_then_else_calculator(7., 2., \\'divide\\') == 3.5\\nassert if_then_else_calculator(15, 3, \\'pow\\') == 3375\\nassert if_then_else_calculator(7., 2., \\'pow\\') == 49.',\n",
       "  'globals()'],\n",
       " '_oh': {},\n",
       " '_dh': ['/Users/i.utkin/GIT/python_ds_course_qbit/lectures/lecture01/notebooks'],\n",
       " 'In': ['',\n",
       "  'a = 5\\nb = 5.0\\nprint(\"Type of a is {}\".format(type(a)))\\nprint(\"Type of b is {}\".format(type(b)))',\n",
       "  '#Числа можно складывать!\\nc_1 = 5 + 6\\nc_2 = a + 7\\nc_3 = b + 8\\nprint(c_1, c_2, c_3)',\n",
       "  '#Числа можно вычитать!\\nc_1 = 6 - 8\\nc_2 = a - 10\\nc_3 = 546 - b\\nprint(c_1, c_2, c_3)',\n",
       "  '#Числа можно умножать и возводить в степень!\\nc_1 = 6 ** 2\\nc_2 = a * 6\\nc_3 = b * 7\\nprint(c_1, c_2, c_3)',\n",
       "  '#Числа можно делить, брать остаток и целую часть!\\nc_1 = 7 / 2\\nc_2 = 7 // 2\\nc_3 = 7 % 2\\nprint(c_1, c_2, c_3)',\n",
       "  '# Адрес объекта. \\n# В Питоне все есть объект, когда мы создаем переменную мы создаем ссылку на объект в памяти\\n# Зачем нужны ссылки? Чтобы при копировании не копировать сам объект:) \\n# Ссылка почти всегда весит меньше чем объект, поэтому копируя ссылку (а не объект) мы экономим место.\\n\\n\\na = 4 # создаем ячейку в памяти, ссылку на ячейку возвращаем в переменную, называем ее \"a\"\\nprint(id(a))\\n\\nb = 5\\nprint(id(b))\\na = b # в переменную a копируем ссылку на объект, который лежит по ссылке b.\\nprint(a, b, id(a), id(b))',\n",
       "  'k = 15\\nprint(id(k))\\nk = 14\\nprint(id(k))',\n",
       "  'import keyword\\n\\nprint(\"Python keywords: \\\\n\", keyword.kwlist)',\n",
       "  'def if_then_else_calculator(a, b, operator):\\n    #TODO создадим простой калькулятор, который принимает a, b - числа (проверять не нужно!)\\n    #и operator в виде строки \"plus\", \"minus\", \"divide\", \"mult\", \"pow\"\\n    if operator == \"plus\":\\n        return 0\\n    if operator == \"minus\":\\n        return 0\\n    if operator == \"divide\":\\n        return 0\\n    if operator == \"mult\":\\n        return 0\\n    if operator == \"pow\":\\n        return 0\\n    raise ValueError(\"Bad operator call\")',\n",
       "  'assert if_then_else_calculator(5, 877777777777777777777, \"plus\") == 877777777777777777782\\nassert if_then_else_calculator(3467, 4987., \"plus\") == 8454.\\nassert if_then_else_calculator(1000, 100, \\'minus\\') == 900\\nassert if_then_else_calculator(1000., 2000, \\'minus\\') == -1000\\nassert if_then_else_calculator(0., 100., \\'minus\\') == -100\\nassert if_then_else_calculator(1000, 100, \\'mult\\') == 100000\\nassert if_then_else_calculator(-2., 100, \\'mult\\') == -200.\\nassert if_then_else_calculator(-15., -2, \\'mult\\') == 30.\\nassert if_then_else_calculator(0., 100., \\'mult\\') == 0.\\nassert if_then_else_calculator(15, 3, \\'divide\\') == 5\\nassert if_then_else_calculator(7., 2., \\'divide\\') == 3.5\\nassert if_then_else_calculator(15, 3, \\'pow\\') == 3375\\nassert if_then_else_calculator(7., 2., \\'pow\\') == 49.',\n",
       "  'globals()'],\n",
       " 'Out': {},\n",
       " 'get_ipython': <bound method InteractiveShell.get_ipython of <ipykernel.zmqshell.ZMQInteractiveShell object at 0x7fd53e79b940>>,\n",
       " 'exit': <IPython.core.autocall.ZMQExitAutocall at 0x7fd53e81b190>,\n",
       " 'quit': <IPython.core.autocall.ZMQExitAutocall at 0x7fd53e81b190>,\n",
       " '_': '',\n",
       " '__': '',\n",
       " '___': '',\n",
       " '_i': 'assert if_then_else_calculator(5, 877777777777777777777, \"plus\") == 877777777777777777782\\nassert if_then_else_calculator(3467, 4987., \"plus\") == 8454.\\nassert if_then_else_calculator(1000, 100, \\'minus\\') == 900\\nassert if_then_else_calculator(1000., 2000, \\'minus\\') == -1000\\nassert if_then_else_calculator(0., 100., \\'minus\\') == -100\\nassert if_then_else_calculator(1000, 100, \\'mult\\') == 100000\\nassert if_then_else_calculator(-2., 100, \\'mult\\') == -200.\\nassert if_then_else_calculator(-15., -2, \\'mult\\') == 30.\\nassert if_then_else_calculator(0., 100., \\'mult\\') == 0.\\nassert if_then_else_calculator(15, 3, \\'divide\\') == 5\\nassert if_then_else_calculator(7., 2., \\'divide\\') == 3.5\\nassert if_then_else_calculator(15, 3, \\'pow\\') == 3375\\nassert if_then_else_calculator(7., 2., \\'pow\\') == 49.',\n",
       " '_ii': 'def if_then_else_calculator(a, b, operator):\\n    #TODO создадим простой калькулятор, который принимает a, b - числа (проверять не нужно!)\\n    #и operator в виде строки \"plus\", \"minus\", \"divide\", \"mult\", \"pow\"\\n    if operator == \"plus\":\\n        return 0\\n    if operator == \"minus\":\\n        return 0\\n    if operator == \"divide\":\\n        return 0\\n    if operator == \"mult\":\\n        return 0\\n    if operator == \"pow\":\\n        return 0\\n    raise ValueError(\"Bad operator call\")',\n",
       " '_iii': 'import keyword\\n\\nprint(\"Python keywords: \\\\n\", keyword.kwlist)',\n",
       " '_i1': 'a = 5\\nb = 5.0\\nprint(\"Type of a is {}\".format(type(a)))\\nprint(\"Type of b is {}\".format(type(b)))',\n",
       " 'a': 5,\n",
       " 'b': 5,\n",
       " '_i2': '#Числа можно складывать!\\nc_1 = 5 + 6\\nc_2 = a + 7\\nc_3 = b + 8\\nprint(c_1, c_2, c_3)',\n",
       " 'c_1': 3.5,\n",
       " 'c_2': 3,\n",
       " 'c_3': 1,\n",
       " '_i3': '#Числа можно вычитать!\\nc_1 = 6 - 8\\nc_2 = a - 10\\nc_3 = 546 - b\\nprint(c_1, c_2, c_3)',\n",
       " '_i4': '#Числа можно умножать и возводить в степень!\\nc_1 = 6 ** 2\\nc_2 = a * 6\\nc_3 = b * 7\\nprint(c_1, c_2, c_3)',\n",
       " '_i5': '#Числа можно делить, брать остаток и целую часть!\\nc_1 = 7 / 2\\nc_2 = 7 // 2\\nc_3 = 7 % 2\\nprint(c_1, c_2, c_3)',\n",
       " '_i6': '# Адрес объекта. \\n# В Питоне все есть объект, когда мы создаем переменную мы создаем ссылку на объект в памяти\\n# Зачем нужны ссылки? Чтобы при копировании не копировать сам объект:) \\n# Ссылка почти всегда весит меньше чем объект, поэтому копируя ссылку (а не объект) мы экономим место.\\n\\n\\na = 4 # создаем ячейку в памяти, ссылку на ячейку возвращаем в переменную, называем ее \"a\"\\nprint(id(a))\\n\\nb = 5\\nprint(id(b))\\na = b # в переменную a копируем ссылку на объект, который лежит по ссылке b.\\nprint(a, b, id(a), id(b))',\n",
       " '_i7': 'k = 15\\nprint(id(k))\\nk = 14\\nprint(id(k))',\n",
       " 'k': 14,\n",
       " '_i8': 'import keyword\\n\\nprint(\"Python keywords: \\\\n\", keyword.kwlist)',\n",
       " 'keyword': <module 'keyword' from '/Users/i.utkin/opt/anaconda3/lib/python3.8/keyword.py'>,\n",
       " '_i9': 'def if_then_else_calculator(a, b, operator):\\n    #TODO создадим простой калькулятор, который принимает a, b - числа (проверять не нужно!)\\n    #и operator в виде строки \"plus\", \"minus\", \"divide\", \"mult\", \"pow\"\\n    if operator == \"plus\":\\n        return 0\\n    if operator == \"minus\":\\n        return 0\\n    if operator == \"divide\":\\n        return 0\\n    if operator == \"mult\":\\n        return 0\\n    if operator == \"pow\":\\n        return 0\\n    raise ValueError(\"Bad operator call\")',\n",
       " 'if_then_else_calculator': <function __main__.if_then_else_calculator(a, b, operator)>,\n",
       " '_i10': 'assert if_then_else_calculator(5, 877777777777777777777, \"plus\") == 877777777777777777782\\nassert if_then_else_calculator(3467, 4987., \"plus\") == 8454.\\nassert if_then_else_calculator(1000, 100, \\'minus\\') == 900\\nassert if_then_else_calculator(1000., 2000, \\'minus\\') == -1000\\nassert if_then_else_calculator(0., 100., \\'minus\\') == -100\\nassert if_then_else_calculator(1000, 100, \\'mult\\') == 100000\\nassert if_then_else_calculator(-2., 100, \\'mult\\') == -200.\\nassert if_then_else_calculator(-15., -2, \\'mult\\') == 30.\\nassert if_then_else_calculator(0., 100., \\'mult\\') == 0.\\nassert if_then_else_calculator(15, 3, \\'divide\\') == 5\\nassert if_then_else_calculator(7., 2., \\'divide\\') == 3.5\\nassert if_then_else_calculator(15, 3, \\'pow\\') == 3375\\nassert if_then_else_calculator(7., 2., \\'pow\\') == 49.',\n",
       " '_i11': 'globals()'}"
      ]
     },
     "execution_count": 11,
     "metadata": {},
     "output_type": "execute_result"
    }
   ],
   "source": [
    "globals()"
   ]
  },
  {
   "cell_type": "code",
   "execution_count": 12,
   "metadata": {
    "ExecuteTime": {
     "end_time": "2019-02-28T13:09:51.286426Z",
     "start_time": "2019-02-28T13:09:51.275381Z"
    }
   },
   "outputs": [
    {
     "name": "stdout",
     "output_type": "stream",
     "text": [
      "Строка 1 с одинарными кавычками\n",
      "Строка 2 с одинарными кавычками и переносом\n",
      "Строка 3 с двойными кавычками\n",
      "Строка 4 с двойнми кавычками и переносом\n",
      "Строка 5 с тройными кавычками\n",
      "Строка 6 с тройными кавычками\n",
      "и переносом, как видите при тройных кавычках знак переноса не нужен\n",
      "Строка 7 с \"текстом в кавычках\"\n"
     ]
    }
   ],
   "source": [
    "s_1 = 'Строка 1 с одинарными кавычками'\n",
    "s_2 = 'Строка 2 с одинарными кавычками \\\n",
    "и переносом'\n",
    "s_3 = \"Строка 3 с двойными кавычками\"\n",
    "s_4 = \"Строка 4 с двойнми кавычками \\\n",
    "и переносом\"\n",
    "s_5 = '''Строка 5 с тройными кавычками'''\n",
    "s_6 = '''Строка 6 с тройными кавычками\n",
    "и переносом, как видите при тройных кавычках знак переноса не нужен'''\n",
    "s_7 = '''Строка 7 с \"текстом в кавычках\"'''\n",
    "for i in range(1, 8):\n",
    "    print(globals()[\"s_\" + str(i)])"
   ]
  },
  {
   "cell_type": "code",
   "execution_count": 13,
   "metadata": {},
   "outputs": [
    {
     "name": "stdout",
     "output_type": "stream",
     "text": [
      "Первый абзац Второй абзац\n",
      "\n",
      "Первый абзац\n",
      "Второй абзац\n",
      "Первый абзац\\nВторой абзац\n"
     ]
    }
   ],
   "source": [
    "# Экранирование\n",
    "print('Первый абзац Второй абзац')\n",
    "print()\n",
    "print('Первый абзац\\nВторой абзац')\n",
    "\n",
    "print(r'Первый абзац\\nВторой абзац') # сырая строка, без экранирования экранируемых символов"
   ]
  },
  {
   "cell_type": "code",
   "execution_count": 14,
   "metadata": {
    "ExecuteTime": {
     "end_time": "2019-02-28T13:09:51.297826Z",
     "start_time": "2019-02-28T13:09:51.288924Z"
    }
   },
   "outputs": [
    {
     "name": "stdout",
     "output_type": "stream",
     "text": [
      "Длины строки 25\n",
      "Первый символ строки Т\n"
     ]
    }
   ],
   "source": [
    "#Можно обратиться к символам строки, можно запросить длину строки\n",
    "s = \"Тестовая строка для длины\"\n",
    "print(\"Длины строки %d\" % len(s)) # len - встроенный метод\n",
    "print(\"Первый символ строки %s\" % s[0])"
   ]
  },
  {
   "cell_type": "code",
   "execution_count": 15,
   "metadata": {},
   "outputs": [
    {
     "name": "stdout",
     "output_type": "stream",
     "text": [
      "spameggs\n"
     ]
    }
   ],
   "source": [
    "# Строки можно складывать\n",
    "s1 = 'spam'\n",
    "s2 = 'eggs'\n",
    "print(s1 + s2)"
   ]
  },
  {
   "cell_type": "code",
   "execution_count": 16,
   "metadata": {
    "ExecuteTime": {
     "end_time": "2019-02-28T13:09:51.312576Z",
     "start_time": "2019-02-28T13:09:51.300794Z"
    }
   },
   "outputs": [
    {
     "name": "stdout",
     "output_type": "stream",
     "text": [
      "Строка прИИИИИИИИИИИмер\n"
     ]
    }
   ],
   "source": [
    "#В строках можно заменять определенные символы\n",
    "s = \"Строка пример\"\n",
    "s = s.replace(\"и\", 'ИИИИИИИИИИИ')\n",
    "print(s)"
   ]
  },
  {
   "cell_type": "code",
   "execution_count": 17,
   "metadata": {
    "ExecuteTime": {
     "end_time": "2019-02-28T13:09:51.324320Z",
     "start_time": "2019-02-28T13:09:51.315128Z"
    }
   },
   "outputs": [
    {
     "name": "stdout",
     "output_type": "stream",
     "text": [
      "['Строка', 'криворукого', 'криворука']\n"
     ]
    }
   ],
   "source": [
    "#Строки можно разбивать по случайному символу\n",
    "s = \"Строка\\irкриворукого\\irкриворука\"\n",
    "print(s.split(\"\\ir\")) # возрващает список, что это обсудим дальше"
   ]
  },
  {
   "cell_type": "code",
   "execution_count": 18,
   "metadata": {
    "ExecuteTime": {
     "end_time": "2019-02-28T13:09:51.341233Z",
     "start_time": "2019-02-28T13:09:51.326851Z"
    }
   },
   "outputs": [
    {
     "name": "stdout",
     "output_type": "stream",
     "text": [
      "    Строка с пробелами и табуляциями в начале и конце \t\n",
      "Строка с пробелами и табуляциями в начале и конце\n",
      "ааааааа СТрока с какими-то символами в начале и в конце ааааааааа\n",
      " СТрока с какими-то символами в начале и в конце \n"
     ]
    }
   ],
   "source": [
    "#У строк можно убирать незначащие символы с начала и конца строки\n",
    "s = \"    Строка с пробелами и табуляциями в начале и конце \\t\"\n",
    "print(s)\n",
    "print(s.strip())\n",
    "s = \"ааааааа СТрока с какими-то символами в начале и в конце ааааааааа\"\n",
    "print(s)\n",
    "print(s.strip(\"а\"))"
   ]
  },
  {
   "cell_type": "code",
   "execution_count": 19,
   "metadata": {
    "ExecuteTime": {
     "end_time": "2019-02-28T13:09:51.353157Z",
     "start_time": "2019-02-28T13:09:51.343659Z"
    }
   },
   "outputs": [
    {
     "name": "stdout",
     "output_type": "stream",
     "text": [
      "СТРОКА НИЖНИМ РЕГИСТРОМ\n",
      "Строка нижним регистром\n",
      "капс странная строка\n",
      "Капс странная строка\n"
     ]
    }
   ],
   "source": [
    "#Строки можно переводить из нижнего регистра в верхний, из верхнего в нижний\n",
    "#Можно приводить к формату - заглавная первая буква\n",
    "s = \"строка нижним регистром\"\n",
    "print(s.upper())\n",
    "print(s.capitalize())\n",
    "s = \"КаПс СтРанНая СТРОКА\"\n",
    "print(s.lower())\n",
    "print(s.capitalize())"
   ]
  },
  {
   "cell_type": "code",
   "execution_count": 20,
   "metadata": {},
   "outputs": [
    {
     "name": "stdout",
     "output_type": "stream",
     "text": [
      "Привет\n",
      "Привет\n",
      "риве\n",
      "Пие\n",
      "Привет\n",
      "Привет\n"
     ]
    }
   ],
   "source": [
    "# Извлечение среза\n",
    "# Оператор извлечения среза: [start:stop:step]. start – начало среза, а stop – окончание, step - шаг;\n",
    "# символ с номером stop в срез не входит. По умолчанию первый индекс равен 0, а второй - длине строки.\n",
    "\n",
    "\n",
    "s = \"Привет\"\n",
    "print(s)\n",
    "\n",
    "print(s[:])\n",
    "print(s[1:-1]) # с первого (нумерация с нуля) до последнего, не включая последний\n",
    "print(s[::2]) # каждый второй символ от начала и до конца\n",
    "\n",
    "print(s[:1000000000]) # такое можно делать, питон делает автоматическую проверку на выход за границы\n",
    "\n",
    "print(s[:1000000000])"
   ]
  },
  {
   "cell_type": "markdown",
   "metadata": {
    "ExecuteTime": {
     "end_time": "2019-02-28T13:09:51.370045Z",
     "start_time": "2019-02-28T13:09:51.354914Z"
    }
   },
   "source": [
    "    1. Как вы думаете, что будет, если сделать s[1000:100000]?\n",
    "    2. Попробуйте инвертировать строку срезом. Привет -> тевирП"
   ]
  },
  {
   "cell_type": "code",
   "execution_count": 21,
   "metadata": {
    "ExecuteTime": {
     "end_time": "2019-02-28T13:09:51.387609Z",
     "start_time": "2019-02-28T13:09:51.371672Z"
    }
   },
   "outputs": [
    {
     "name": "stdout",
     "output_type": "stream",
     "text": [
      "True\n",
      "True\n",
      "False\n",
      "False\n"
     ]
    }
   ],
   "source": [
    "#Можно проверять содежимое строки\n",
    "s = \"12\"\n",
    "print(s.isdigit())\n",
    "print(s.isdecimal())\n",
    "print(s.isspace())\n",
    "print(s.islower())"
   ]
  },
  {
   "cell_type": "markdown",
   "metadata": {},
   "source": [
    "# https://pythonworld.ru/tipy-dannyx-v-python/stroki-funkcii-i-metody-strok.html"
   ]
  },
  {
   "cell_type": "markdown",
   "metadata": {},
   "source": [
    "## Проверим можем ли мы что-то делать со строками"
   ]
  },
  {
   "cell_type": "code",
   "execution_count": 23,
   "metadata": {
    "ExecuteTime": {
     "end_time": "2019-02-28T13:09:51.414599Z",
     "start_time": "2019-02-28T13:09:51.406791Z"
    }
   },
   "outputs": [],
   "source": [
    "def string_normalizer(input_str):\n",
    "    #TODO Привести строку в вид: Заглавная первая буква, отсутствие лишних пробелов \n",
    "    return input_str"
   ]
  },
  {
   "cell_type": "code",
   "execution_count": 24,
   "metadata": {
    "ExecuteTime": {
     "end_time": "2019-02-28T13:09:51.434714Z",
     "start_time": "2019-02-28T13:09:51.416401Z"
    }
   },
   "outputs": [
    {
     "ename": "AssertionError",
     "evalue": "",
     "output_type": "error",
     "traceback": [
      "\u001b[0;31m---------------------------------------------------------------------------\u001b[0m",
      "\u001b[0;31mAssertionError\u001b[0m                            Traceback (most recent call last)",
      "\u001b[0;32m<ipython-input-24-57cc6f4bd19e>\u001b[0m in \u001b[0;36m<module>\u001b[0;34m\u001b[0m\n\u001b[0;32m----> 1\u001b[0;31m \u001b[0;32massert\u001b[0m \u001b[0mstring_normalizer\u001b[0m\u001b[0;34m(\u001b[0m\u001b[0;34m\"просто строка\"\u001b[0m\u001b[0;34m)\u001b[0m \u001b[0;34m==\u001b[0m \u001b[0;34m\"Просто строка\"\u001b[0m\u001b[0;34m\u001b[0m\u001b[0;34m\u001b[0m\u001b[0m\n\u001b[0m\u001b[1;32m      2\u001b[0m \u001b[0;32massert\u001b[0m \u001b[0mstring_normalizer\u001b[0m\u001b[0;34m(\u001b[0m\u001b[0;34m\"         пробелы  вперели       \"\u001b[0m\u001b[0;34m)\u001b[0m \u001b[0;34m==\u001b[0m \u001b[0;34m\"Пробелы  вперели\"\u001b[0m\u001b[0;34m\u001b[0m\u001b[0;34m\u001b[0m\u001b[0m\n\u001b[1;32m      3\u001b[0m \u001b[0;32massert\u001b[0m \u001b[0mstring_normalizer\u001b[0m\u001b[0;34m(\u001b[0m\u001b[0;34m\"Нормальная строка\"\u001b[0m\u001b[0;34m)\u001b[0m \u001b[0;34m==\u001b[0m \u001b[0;34m\"Нормальная строка\"\u001b[0m\u001b[0;34m\u001b[0m\u001b[0;34m\u001b[0m\u001b[0m\n\u001b[1;32m      4\u001b[0m \u001b[0;32massert\u001b[0m \u001b[0mstring_normalizer\u001b[0m\u001b[0;34m(\u001b[0m\u001b[0;34m\"\\tну и табы\\t\"\u001b[0m\u001b[0;34m)\u001b[0m \u001b[0;34m==\u001b[0m \u001b[0;34m\"Ну и табы\"\u001b[0m\u001b[0;34m\u001b[0m\u001b[0;34m\u001b[0m\u001b[0m\n",
      "\u001b[0;31mAssertionError\u001b[0m: "
     ]
    }
   ],
   "source": [
    "assert string_normalizer(\"просто строка\") == \"Просто строка\"\n",
    "assert string_normalizer(\"         пробелы  вперели       \") == \"Пробелы  вперели\"\n",
    "assert string_normalizer(\"Нормальная строка\") == \"Нормальная строка\"\n",
    "assert string_normalizer(\"\\tну и табы\\t\") == \"Ну и табы\""
   ]
  },
  {
   "cell_type": "markdown",
   "metadata": {},
   "source": [
    "## Булев тип данных"
   ]
  },
  {
   "cell_type": "code",
   "execution_count": 25,
   "metadata": {},
   "outputs": [
    {
     "name": "stdout",
     "output_type": "stream",
     "text": [
      "<class 'bool'>\n",
      "4440172984 4440172984\n"
     ]
    }
   ],
   "source": [
    "print(type(False))\n",
    "\n",
    "# существует в единственном экземпляре\n",
    "a = True\n",
    "b = True\n",
    "print(id(a), id(b))"
   ]
  },
  {
   "cell_type": "code",
   "execution_count": 26,
   "metadata": {},
   "outputs": [
    {
     "name": "stdout",
     "output_type": "stream",
     "text": [
      "False\n",
      "False\n",
      "False\n",
      "True\n"
     ]
    }
   ],
   "source": [
    "# оператор is проверяет равенство адресов\n",
    "a = 100\n",
    "b = 200\n",
    "print(a is b)\n",
    "\n",
    "a = 10000\n",
    "b = 10000\n",
    "print(a is b)\n",
    "\n",
    "# операторы ==, >=, <=, != проверяет равенство значений по адресу\n",
    "a = 100\n",
    "b = 200\n",
    "print(a == b)\n",
    "\n",
    "a = 10000\n",
    "b = 10000\n",
    "print(a == b)"
   ]
  },
  {
   "cell_type": "code",
   "execution_count": 27,
   "metadata": {},
   "outputs": [
    {
     "name": "stdout",
     "output_type": "stream",
     "text": [
      "2\n",
      "1\n",
      "0\n"
     ]
    },
    {
     "ename": "ZeroDivisionError",
     "evalue": "division by zero",
     "output_type": "error",
     "traceback": [
      "\u001b[0;31m---------------------------------------------------------------------------\u001b[0m",
      "\u001b[0;31mZeroDivisionError\u001b[0m                         Traceback (most recent call last)",
      "\u001b[0;32m<ipython-input-27-5d130ed06de0>\u001b[0m in \u001b[0;36m<module>\u001b[0;34m\u001b[0m\n\u001b[1;32m      2\u001b[0m \u001b[0mprint\u001b[0m\u001b[0;34m(\u001b[0m\u001b[0;32mTrue\u001b[0m \u001b[0;34m+\u001b[0m \u001b[0;32mFalse\u001b[0m\u001b[0;34m)\u001b[0m\u001b[0;34m\u001b[0m\u001b[0;34m\u001b[0m\u001b[0m\n\u001b[1;32m      3\u001b[0m \u001b[0mprint\u001b[0m\u001b[0;34m(\u001b[0m\u001b[0;32mTrue\u001b[0m \u001b[0;34m*\u001b[0m \u001b[0;32mFalse\u001b[0m\u001b[0;34m)\u001b[0m\u001b[0;34m\u001b[0m\u001b[0;34m\u001b[0m\u001b[0m\n\u001b[0;32m----> 4\u001b[0;31m \u001b[0mprint\u001b[0m\u001b[0;34m(\u001b[0m\u001b[0;32mTrue\u001b[0m \u001b[0;34m/\u001b[0m \u001b[0;32mFalse\u001b[0m\u001b[0;34m)\u001b[0m\u001b[0;34m\u001b[0m\u001b[0;34m\u001b[0m\u001b[0m\n\u001b[0m",
      "\u001b[0;31mZeroDivisionError\u001b[0m: division by zero"
     ]
    }
   ],
   "source": [
    "print(True + True)\n",
    "print(True + False)\n",
    "print(True * False)\n",
    "print(True / False)"
   ]
  },
  {
   "cell_type": "code",
   "execution_count": 28,
   "metadata": {},
   "outputs": [
    {
     "name": "stdout",
     "output_type": "stream",
     "text": [
      "True\n",
      "False\n"
     ]
    }
   ],
   "source": [
    "# Как вы думаете, почему так?\n",
    "a = 5\n",
    "b = 5\n",
    "print(a is b)\n",
    "\n",
    "a = 1000\n",
    "b = 1000\n",
    "print(a is b)"
   ]
  },
  {
   "cell_type": "code",
   "execution_count": 29,
   "metadata": {},
   "outputs": [],
   "source": [
    "### [-5, 256]"
   ]
  },
  {
   "cell_type": "markdown",
   "metadata": {},
   "source": [
    "## Объект None\n",
    "\n",
    "    Ключевое слово null обычно используется во многих языках программирования, таких как Java, C++, C# и   JavaScript. Это значение, которое присваивается переменной.\n",
    "\n",
    "    Концепция ключевого слова null в том, что она дает переменной нейтральное или \"нулевое\" поведение."
   ]
  },
  {
   "cell_type": "code",
   "execution_count": 30,
   "metadata": {},
   "outputs": [
    {
     "name": "stdout",
     "output_type": "stream",
     "text": [
      "None <class 'NoneType'>\n"
     ]
    }
   ],
   "source": [
    "# Это тоже заранее созданный объект\n",
    "my_none_variable = None\n",
    "\n",
    "print(my_none_variable, type(my_none_variable))"
   ]
  },
  {
   "cell_type": "code",
   "execution_count": 31,
   "metadata": {},
   "outputs": [
    {
     "name": "stdout",
     "output_type": "stream",
     "text": [
      "False\n",
      "False\n"
     ]
    }
   ],
   "source": [
    "a = 10\n",
    "print(a is None) # вот так делать можно, адрес у него один поэтому это всегда корректно\n",
    "print(a == None) # так лучше не делать"
   ]
  },
  {
   "cell_type": "markdown",
   "metadata": {},
   "source": [
    "## Массивы\n",
    "\n",
    "Массивов в python как таковых нет. Есть понятие списка, у которого под капотом лежит динамический массив.\n",
    "У массивов есть определенный набор методов. Рассмотрим их ниже"
   ]
  },
  {
   "cell_type": "code",
   "execution_count": 32,
   "metadata": {
    "ExecuteTime": {
     "end_time": "2019-02-28T13:10:08.201391Z",
     "start_time": "2019-02-28T13:10:08.191342Z"
    }
   },
   "outputs": [],
   "source": [
    "#Список можно создать множеством способов, вот некоторые из них\n",
    "a = []\n",
    "a = list()\n",
    "a = [1, 2, 'яблоко']\n",
    "a = [i for i in range(10)]\n",
    "a = [0] * 5\n",
    "\n",
    "a = [[i for i in range(10)] for _ in range(5)]"
   ]
  },
  {
   "cell_type": "code",
   "execution_count": 33,
   "metadata": {
    "ExecuteTime": {
     "end_time": "2019-02-28T13:10:08.214497Z",
     "start_time": "2019-02-28T13:10:08.206224Z"
    }
   },
   "outputs": [
    {
     "name": "stdout",
     "output_type": "stream",
     "text": [
      "3\n",
      "[3, 4, 5]\n",
      "3 4 5\n"
     ]
    }
   ],
   "source": [
    "#Вывести массив можно по-разному, как через print, так и преобразовав его\n",
    "a = [3, 4, 5]\n",
    "print(len(a))\n",
    "print(a)\n",
    "print(\" \".join(str(i) for i in a))"
   ]
  },
  {
   "cell_type": "code",
   "execution_count": 34,
   "metadata": {
    "ExecuteTime": {
     "end_time": "2019-02-28T13:10:08.230021Z",
     "start_time": "2019-02-28T13:10:08.217267Z"
    }
   },
   "outputs": [
    {
     "name": "stdout",
     "output_type": "stream",
     "text": [
      "[0, 1, 2, 3, 4, 5, 6, 7, 8, 9]\n",
      "[0, 1, 2, 3]\n",
      "[0, 2, 4, 6, 8]\n",
      "[9, 8, 7, 6, 5, 4, 3, 2, 1, 0]\n"
     ]
    }
   ],
   "source": [
    "#Можно делать срезы списка, указывает list[a:b:c] a-первый индекс, b-последний индекс не включая, c-шаг\n",
    "a = [i for i in range(10)]\n",
    "print(a)\n",
    "print(a[0:4])\n",
    "print(a[::2])\n",
    "print(a[::-1])"
   ]
  },
  {
   "cell_type": "code",
   "execution_count": 35,
   "metadata": {
    "ExecuteTime": {
     "end_time": "2019-02-28T13:10:08.243788Z",
     "start_time": "2019-02-28T13:10:08.232549Z"
    }
   },
   "outputs": [
    {
     "name": "stdout",
     "output_type": "stream",
     "text": [
      "[0, 0.0, 'строка', False, <function <lambda> at 0x7fd53e938310>]\n",
      "   строка для нормализации\n"
     ]
    }
   ],
   "source": [
    "#К списку можно добавлять элементы, как в конец так и вставлять в середину\n",
    "a = []\n",
    "a.append(0)\n",
    "a.append(\"строка\")\n",
    "a.append(False)\n",
    "a.insert(1, 0.)\n",
    "a.append(lambda x: string_normalizer(x))\n",
    "print(a)\n",
    "print(a[4](\"   строка для нормализации\"))"
   ]
  },
  {
   "cell_type": "code",
   "execution_count": 36,
   "metadata": {
    "ExecuteTime": {
     "end_time": "2019-02-28T13:10:08.258276Z",
     "start_time": "2019-02-28T13:10:08.246201Z"
    }
   },
   "outputs": [
    {
     "name": "stdout",
     "output_type": "stream",
     "text": [
      "[0.0, 1.2, 3.4, 'строка']\n",
      "[0.0, 3.4, 'строка']\n",
      "[0.0, 3.4, 'новое значение']\n"
     ]
    }
   ],
   "source": [
    "#Элементы списка можно удалять, переопределять\n",
    "a = [0., 1.2, 3.4, \"строка\"]\n",
    "print(a)\n",
    "a.remove(1.2)\n",
    "print(a)\n",
    "a[2] = \"новое значение\"\n",
    "print(a)"
   ]
  },
  {
   "cell_type": "code",
   "execution_count": 37,
   "metadata": {
    "ExecuteTime": {
     "end_time": "2019-02-28T13:10:08.276273Z",
     "start_time": "2019-02-28T13:10:08.260382Z"
    }
   },
   "outputs": [
    {
     "name": "stdout",
     "output_type": "stream",
     "text": [
      "[0, 1, 2, 3, 4, 5, 6, 7, 8, 9]\n",
      "[9, 8, 7, 6, 5, 4, 3, 2, 1, 0]\n",
      "[0, 1, 2, 3, 4, 5, 6, 7, 8, 9]\n"
     ]
    }
   ],
   "source": [
    "#Можно сортировать список по ключу, искать индекс элемента по значению\n",
    "a = [i for i in range(10)]\n",
    "print(a)\n",
    "a.reverse()\n",
    "print(a)\n",
    "a.sort()\n",
    "print(a)"
   ]
  },
  {
   "cell_type": "code",
   "execution_count": 38,
   "metadata": {
    "ExecuteTime": {
     "end_time": "2019-02-28T13:10:08.309815Z",
     "start_time": "2019-02-28T13:10:08.278801Z"
    }
   },
   "outputs": [
    {
     "name": "stdout",
     "output_type": "stream",
     "text": [
      "[100000000, 2, 3]\n",
      "[100000000, 2, 3]\n",
      "[-1, 2, 3]\n",
      "[100000000, 2, 3]\n",
      "[1, 2, [-1, 4]]\n",
      "[1, 2, [-1, 4]]\n"
     ]
    }
   ],
   "source": [
    "#Копирование списков!\n",
    "a = [1, 2, 3]\n",
    "b = a\n",
    "a[0]=100000000\n",
    "print(a)\n",
    "print(b)\n",
    "\n",
    "b = a[::] #аналогично вызову a.copy()\n",
    "a[0] = -1\n",
    "print(a)\n",
    "print(b)\n",
    "\n",
    "a = [1, 2, [3, 4]]\n",
    "b = a[::] \n",
    "a[2][0] = -1\n",
    "print(a)\n",
    "print(b)"
   ]
  },
  {
   "cell_type": "code",
   "execution_count": 39,
   "metadata": {
    "ExecuteTime": {
     "end_time": "2019-02-28T13:10:08.321335Z",
     "start_time": "2019-02-28T13:10:08.312173Z"
    }
   },
   "outputs": [
    {
     "name": "stdout",
     "output_type": "stream",
     "text": [
      "[0, 1, 2, 3]\n",
      "[]\n"
     ]
    }
   ],
   "source": [
    "#Очистка списка\n",
    "a = [0, 1, 2, 3]\n",
    "print(a)\n",
    "a.clear()\n",
    "print(a)"
   ]
  },
  {
   "cell_type": "markdown",
   "metadata": {},
   "source": [
    "### Проверим умеем ли мы что-то делать со списками"
   ]
  },
  {
   "cell_type": "code",
   "execution_count": 40,
   "metadata": {
    "ExecuteTime": {
     "end_time": "2019-02-28T13:10:08.335907Z",
     "start_time": "2019-02-28T13:10:08.322831Z"
    }
   },
   "outputs": [],
   "source": [
    "def list_calculator(a, operation, b=[]):\n",
    "    '''\n",
    "    :param a: список\n",
    "    :param operation: операция над массивом\n",
    "    :param b: опциональный параметр - список\n",
    "    :return преобразованный массив\n",
    "    Если operation \"revert\" возвращаться должен инвертированный массив a\n",
    "    operation == \"sum_ar\" должен возвращаться массив - результат сложения массивов a и b\n",
    "    operation == \"append\" должен возвращаться массив - результат добавления массива b к массиву a\n",
    "    operation == \"insert\" должен возвращаться массив с массивом b на 0 позиции массива a\n",
    "    '''\n",
    "    if operation == \"revert\":\n",
    "        return 0\n",
    "    if operation == \"sum_ar\":\n",
    "        return 0\n",
    "    if operation == \"append\":\n",
    "        return 0\n",
    "    if operation == \"insert\":\n",
    "        return 0\n",
    "    return a"
   ]
  },
  {
   "cell_type": "code",
   "execution_count": 41,
   "metadata": {
    "ExecuteTime": {
     "end_time": "2019-02-28T13:10:08.360803Z",
     "start_time": "2019-02-28T13:10:08.337941Z"
    }
   },
   "outputs": [
    {
     "ename": "AssertionError",
     "evalue": "",
     "output_type": "error",
     "traceback": [
      "\u001b[0;31m---------------------------------------------------------------------------\u001b[0m",
      "\u001b[0;31mAssertionError\u001b[0m                            Traceback (most recent call last)",
      "\u001b[0;32m<ipython-input-41-ba87b1343600>\u001b[0m in \u001b[0;36m<module>\u001b[0;34m\u001b[0m\n\u001b[0;32m----> 1\u001b[0;31m \u001b[0;32massert\u001b[0m \u001b[0mlist_calculator\u001b[0m\u001b[0;34m(\u001b[0m\u001b[0;34m[\u001b[0m\u001b[0;36m0\u001b[0m\u001b[0;34m,\u001b[0m \u001b[0;36m1\u001b[0m\u001b[0;34m,\u001b[0m \u001b[0;36m2\u001b[0m\u001b[0;34m]\u001b[0m\u001b[0;34m,\u001b[0m \u001b[0;34m\"revert\"\u001b[0m\u001b[0;34m)\u001b[0m \u001b[0;34m==\u001b[0m \u001b[0;34m[\u001b[0m\u001b[0;36m2\u001b[0m\u001b[0;34m,\u001b[0m \u001b[0;36m1\u001b[0m\u001b[0;34m,\u001b[0m \u001b[0;36m0\u001b[0m\u001b[0;34m]\u001b[0m\u001b[0;34m\u001b[0m\u001b[0;34m\u001b[0m\u001b[0m\n\u001b[0m\u001b[1;32m      2\u001b[0m \u001b[0;32massert\u001b[0m \u001b[0mlist_calculator\u001b[0m\u001b[0;34m(\u001b[0m\u001b[0;34m[\u001b[0m\u001b[0;34m-\u001b[0m\u001b[0;36m3\u001b[0m\u001b[0;34m]\u001b[0m\u001b[0;34m,\u001b[0m \u001b[0;34m\"revert\"\u001b[0m\u001b[0;34m)\u001b[0m \u001b[0;34m==\u001b[0m \u001b[0;34m[\u001b[0m\u001b[0;34m-\u001b[0m\u001b[0;36m3\u001b[0m\u001b[0;34m]\u001b[0m\u001b[0;34m\u001b[0m\u001b[0;34m\u001b[0m\u001b[0m\n\u001b[1;32m      3\u001b[0m \u001b[0;32massert\u001b[0m \u001b[0mlist_calculator\u001b[0m\u001b[0;34m(\u001b[0m\u001b[0;34m[\u001b[0m\u001b[0;36m0\u001b[0m\u001b[0;34m,\u001b[0m \u001b[0;36m1\u001b[0m\u001b[0;34m]\u001b[0m\u001b[0;34m,\u001b[0m \u001b[0;34m\"append\"\u001b[0m\u001b[0;34m,\u001b[0m \u001b[0;34m[\u001b[0m\u001b[0;36m3\u001b[0m\u001b[0;34m,\u001b[0m \u001b[0;36m4\u001b[0m\u001b[0;34m]\u001b[0m\u001b[0;34m)\u001b[0m \u001b[0;34m==\u001b[0m \u001b[0;34m[\u001b[0m\u001b[0;36m0\u001b[0m\u001b[0;34m,\u001b[0m \u001b[0;36m1\u001b[0m\u001b[0;34m,\u001b[0m \u001b[0;34m[\u001b[0m\u001b[0;36m3\u001b[0m\u001b[0;34m,\u001b[0m \u001b[0;36m4\u001b[0m\u001b[0;34m]\u001b[0m\u001b[0;34m]\u001b[0m\u001b[0;34m\u001b[0m\u001b[0;34m\u001b[0m\u001b[0m\n\u001b[1;32m      4\u001b[0m \u001b[0;32massert\u001b[0m \u001b[0mlist_calculator\u001b[0m\u001b[0;34m(\u001b[0m\u001b[0;34m[\u001b[0m\u001b[0;36m0\u001b[0m\u001b[0;34m,\u001b[0m \u001b[0;36m100\u001b[0m\u001b[0;34m,\u001b[0m \u001b[0;34m-\u001b[0m\u001b[0;36m34\u001b[0m\u001b[0;34m]\u001b[0m\u001b[0;34m,\u001b[0m \u001b[0;34m\"append\"\u001b[0m\u001b[0;34m,\u001b[0m \u001b[0;34m[\u001b[0m\u001b[0;36m0\u001b[0m\u001b[0;34m]\u001b[0m\u001b[0;34m)\u001b[0m \u001b[0;34m==\u001b[0m \u001b[0;34m[\u001b[0m\u001b[0;36m0\u001b[0m\u001b[0;34m,\u001b[0m \u001b[0;36m100\u001b[0m\u001b[0;34m,\u001b[0m \u001b[0;34m-\u001b[0m\u001b[0;36m34\u001b[0m\u001b[0;34m,\u001b[0m \u001b[0;34m[\u001b[0m\u001b[0;36m0\u001b[0m\u001b[0;34m]\u001b[0m\u001b[0;34m]\u001b[0m\u001b[0;34m\u001b[0m\u001b[0;34m\u001b[0m\u001b[0m\n\u001b[1;32m      5\u001b[0m \u001b[0;32massert\u001b[0m \u001b[0mlist_calculator\u001b[0m\u001b[0;34m(\u001b[0m\u001b[0;34m[\u001b[0m\u001b[0;36m0\u001b[0m\u001b[0;34m,\u001b[0m \u001b[0;34m-\u001b[0m\u001b[0;36m10\u001b[0m\u001b[0;34m,\u001b[0m \u001b[0;34m-\u001b[0m\u001b[0;36m4\u001b[0m\u001b[0;34m]\u001b[0m\u001b[0;34m,\u001b[0m \u001b[0;34m\"append\"\u001b[0m\u001b[0;34m)\u001b[0m \u001b[0;34m==\u001b[0m \u001b[0;34m[\u001b[0m\u001b[0;36m0\u001b[0m\u001b[0;34m,\u001b[0m \u001b[0;34m-\u001b[0m\u001b[0;36m10\u001b[0m\u001b[0;34m,\u001b[0m \u001b[0;34m-\u001b[0m\u001b[0;36m4\u001b[0m\u001b[0;34m,\u001b[0m \u001b[0;34m[\u001b[0m\u001b[0;34m]\u001b[0m\u001b[0;34m]\u001b[0m\u001b[0;34m\u001b[0m\u001b[0;34m\u001b[0m\u001b[0m\n",
      "\u001b[0;31mAssertionError\u001b[0m: "
     ]
    }
   ],
   "source": [
    "assert list_calculator([0, 1, 2], \"revert\") == [2, 1, 0]\n",
    "assert list_calculator([-3], \"revert\") == [-3]\n",
    "assert list_calculator([0, 1], \"append\", [3, 4]) == [0, 1, [3, 4]]\n",
    "assert list_calculator([0, 100, -34], \"append\", [0]) == [0, 100, -34, [0]]\n",
    "assert list_calculator([0, -10, -4], \"append\") == [0, -10, -4, []]\n",
    "assert list_calculator([10], \"sum_ar\") == [10]\n",
    "assert list_calculator([10, -2], \"sum_ar\", [0, -2]) == [10, -2, 0, -2]\n",
    "assert list_calculator([100, 200], \"insert\") == [[], 100, 200]\n",
    "assert list_calculator([-3, 400], \"insert\", [-45, 12]) == [[-45, 12], -3, 400]"
   ]
  },
  {
   "cell_type": "markdown",
   "metadata": {},
   "source": [
    "## Кортежи (tuple)\n",
    "\n",
    "Неизменемые упорядоченные значения"
   ]
  },
  {
   "cell_type": "code",
   "execution_count": 42,
   "metadata": {
    "ExecuteTime": {
     "end_time": "2019-02-28T13:10:17.708828Z",
     "start_time": "2019-02-28T13:10:17.700476Z"
    }
   },
   "outputs": [
    {
     "name": "stdout",
     "output_type": "stream",
     "text": [
      "()\n",
      "(1, 2)\n"
     ]
    }
   ],
   "source": [
    "a = tuple()\n",
    "print(a)\n",
    "a = (1, 2)\n",
    "print(a)"
   ]
  },
  {
   "cell_type": "code",
   "execution_count": 43,
   "metadata": {
    "ExecuteTime": {
     "end_time": "2019-02-28T13:10:17.721075Z",
     "start_time": "2019-02-28T13:10:17.710911Z"
    }
   },
   "outputs": [
    {
     "name": "stdout",
     "output_type": "stream",
     "text": [
      "1 3\n",
      "3\n"
     ]
    }
   ],
   "source": [
    "#С кортежами работают все методы списков, которые не изменяют содержимое\n",
    "a = (1, 2, 3)\n",
    "print(a[0], a[2])\n",
    "print(len(a))"
   ]
  },
  {
   "cell_type": "code",
   "execution_count": 44,
   "metadata": {
    "ExecuteTime": {
     "end_time": "2019-02-28T13:10:17.732023Z",
     "start_time": "2019-02-28T13:10:17.722984Z"
    }
   },
   "outputs": [
    {
     "name": "stdout",
     "output_type": "stream",
     "text": [
      "3\n",
      "1\n"
     ]
    }
   ],
   "source": [
    "#Например, аналогично спискам можем посчитать встречаемость объекта или индекс первого появления объекта\n",
    "t = (1, 2, 4, 1, 3, 2, 1)\n",
    "print(t.count(1))\n",
    "print(t.index(2))"
   ]
  },
  {
   "cell_type": "code",
   "execution_count": 45,
   "metadata": {
    "ExecuteTime": {
     "end_time": "2019-02-28T13:10:17.742753Z",
     "start_time": "2019-02-28T13:10:17.734094Z"
    }
   },
   "outputs": [
    {
     "name": "stdout",
     "output_type": "stream",
     "text": [
      "5\n",
      "3\n"
     ]
    }
   ],
   "source": [
    "#Легендарный питоновский swap переменных\n",
    "a = 3\n",
    "b = 5\n",
    "a, b = b, a\n",
    "print(a)\n",
    "print(b)"
   ]
  },
  {
   "cell_type": "markdown",
   "metadata": {},
   "source": [
    "## Словарь (dict)\n",
    "\n",
    "Словарь - это пары неизменяемый ключ и значение"
   ]
  },
  {
   "cell_type": "code",
   "execution_count": 46,
   "metadata": {
    "ExecuteTime": {
     "end_time": "2019-02-28T13:10:17.758578Z",
     "start_time": "2019-02-28T13:10:17.744356Z"
    }
   },
   "outputs": [],
   "source": [
    "#Создадим словарь\n",
    "d = dict(key=\"value\")\n",
    "d = {\"key\": \"value\"}\n",
    "d = dict([(\"key_1\", \"value_1\"), (\"key_2\", \"value_2\")])\n",
    "d = dict.fromkeys(['key_1', 'key_2'], \"value\")"
   ]
  },
  {
   "cell_type": "code",
   "execution_count": 47,
   "metadata": {
    "ExecuteTime": {
     "end_time": "2019-02-28T13:10:17.769835Z",
     "start_time": "2019-02-28T13:10:17.760490Z"
    }
   },
   "outputs": [],
   "source": [
    "d = {} # = dict()\n",
    "d['one'] = 1\n",
    "d['oone'] = 2"
   ]
  },
  {
   "cell_type": "code",
   "execution_count": 48,
   "metadata": {
    "ExecuteTime": {
     "end_time": "2019-02-28T13:10:17.787053Z",
     "start_time": "2019-02-28T13:10:17.771474Z"
    }
   },
   "outputs": [
    {
     "name": "stdout",
     "output_type": "stream",
     "text": [
      "dict_keys(['key_0', 'key_1', 'key_2', 'key_3', 'key_4', 'key_5', 'key_6', 'key_7', 'key_8', 'key_9'])\n",
      "dict_values(['value', 'value', 'value', 'value', 'value', 'value', 'value', 'value', 'value', 'value'])\n",
      "dict_items([('key_0', 'value'), ('key_1', 'value'), ('key_2', 'value'), ('key_3', 'value'), ('key_4', 'value'), ('key_5', 'value'), ('key_6', 'value'), ('key_7', 'value'), ('key_8', 'value'), ('key_9', 'value')])\n"
     ]
    }
   ],
   "source": [
    "#Посмотрим на ключи, значения и пары ключ-значение. Позднее мы научимся итерироваться по ним\n",
    "d = {\"key_\" + str(i):\"value\" for i in range(10)}\n",
    "print(d.keys())\n",
    "print(d.values())\n",
    "print(d.items())"
   ]
  },
  {
   "cell_type": "code",
   "execution_count": 49,
   "metadata": {
    "ExecuteTime": {
     "end_time": "2019-02-28T13:10:17.797816Z",
     "start_time": "2019-02-28T13:10:17.788725Z"
    }
   },
   "outputs": [
    {
     "name": "stdout",
     "output_type": "stream",
     "text": [
      "<class 'dict_keys'> <class 'dict_values'> <class 'dict_items'>\n"
     ]
    }
   ],
   "source": [
    "print(type(d.keys()), type(d.values()), type(d.items()))"
   ]
  },
  {
   "cell_type": "code",
   "execution_count": 50,
   "metadata": {
    "ExecuteTime": {
     "end_time": "2019-02-28T13:10:17.814752Z",
     "start_time": "2019-02-28T13:10:17.799721Z"
    }
   },
   "outputs": [
    {
     "name": "stdout",
     "output_type": "stream",
     "text": [
      "value_non\n",
      "value\n",
      "new_value\n"
     ]
    }
   ],
   "source": [
    "#Если запросить ключ, который не лежит в мапе через d[], то вылетит ошибка. Лучше использовать get(key, \"default_value\")\n",
    "print(d.get(\"no_key\", \"value_non\"))\n",
    "print(d['key_1'])\n",
    "d['key_1'] = 'new_value'\n",
    "print(d['key_1'])"
   ]
  },
  {
   "cell_type": "code",
   "execution_count": 51,
   "metadata": {
    "ExecuteTime": {
     "end_time": "2019-02-28T13:10:17.825265Z",
     "start_time": "2019-02-28T13:10:17.816487Z"
    }
   },
   "outputs": [
    {
     "name": "stdout",
     "output_type": "stream",
     "text": [
      "{'key_1': 'value_1', 'key_2': 'value_2'}\n",
      "before {'key_1': 'value_1'}\n",
      "after {'key_1': 'value_1', 'key_2': 'value_2'}\n"
     ]
    }
   ],
   "source": [
    "#Бывает нужно \"слить\" два словаря. Можно это сделать по-разному\n",
    "d_1 = {\"key_1\": \"value_1\"}\n",
    "d_2 = {\"key_2\": \"value_2\"}\n",
    "d = dict(d_1, **d_2)\n",
    "d = {**d_1, **d_2}\n",
    "print(d)\n",
    "\n",
    "print('before', d_1)\n",
    "d_1.update(d_2)\n",
    "print('after', d_1)"
   ]
  },
  {
   "cell_type": "code",
   "execution_count": 52,
   "metadata": {},
   "outputs": [
    {
     "data": {
      "text/plain": [
       "{'key_2': 'value_2'}"
      ]
     },
     "execution_count": 52,
     "metadata": {},
     "output_type": "execute_result"
    }
   ],
   "source": [
    "popped_value = d_1.pop('key_1') # возвращает значение И удаляет\n",
    "d_1"
   ]
  },
  {
   "cell_type": "code",
   "execution_count": 53,
   "metadata": {
    "ExecuteTime": {
     "end_time": "2019-02-28T13:10:17.881564Z",
     "start_time": "2019-02-28T13:10:17.875901Z"
    }
   },
   "outputs": [],
   "source": [
    "del d_1['key_2'] # удаляем элемент из словаря"
   ]
  },
  {
   "cell_type": "code",
   "execution_count": 54,
   "metadata": {
    "ExecuteTime": {
     "end_time": "2019-02-28T13:10:17.896860Z",
     "start_time": "2019-02-28T13:10:17.883283Z"
    }
   },
   "outputs": [
    {
     "data": {
      "text/plain": [
       "{}"
      ]
     },
     "execution_count": 54,
     "metadata": {},
     "output_type": "execute_result"
    }
   ],
   "source": [
    "d_1"
   ]
  },
  {
   "cell_type": "code",
   "execution_count": 55,
   "metadata": {},
   "outputs": [],
   "source": [
    "d_1 = {\"key_1\": \"value_1\"}\n",
    "_ = d_1.pop('key_1')"
   ]
  },
  {
   "cell_type": "markdown",
   "metadata": {},
   "source": [
    "https://pythonworld.ru/tipy-dannyx-v-python/slovari-dict-funkcii-i-metody-slovarej.html"
   ]
  },
  {
   "cell_type": "markdown",
   "metadata": {},
   "source": [
    "## Множества (set)\n",
    "\n",
    "Множества реализованы как хеш-таблицы с заглушками вместо элементов-значений. \n",
    "\n",
    "\n",
    "В отличие от массивов, где элементы хранятся в виде последовательного списка, в множествах порядок хранения элементов неопределен (более того, элементы множества хранятся не подряд, как в списке, а при помощи хитрых алгоритмов). Это позволяет выполнять операции типа “проверить принадлежность элемента множеству” быстрее, чем просто перебирая все элементы множества."
   ]
  },
  {
   "cell_type": "code",
   "execution_count": 56,
   "metadata": {
    "ExecuteTime": {
     "end_time": "2019-02-28T13:10:17.907942Z",
     "start_time": "2019-02-28T13:10:17.899070Z"
    }
   },
   "outputs": [
    {
     "name": "stdout",
     "output_type": "stream",
     "text": [
      "{'l', 'e', 'o', 'h'}\n",
      "{'k_1', 'k_2'}\n"
     ]
    }
   ],
   "source": [
    "#Создадим несколько множеств\n",
    "a = set('hello')\n",
    "print(a)\n",
    "a = set([\"k_1\", \"k_1\", \"k_1\", \"k_2\"])\n",
    "print(a)"
   ]
  },
  {
   "cell_type": "code",
   "execution_count": 57,
   "metadata": {
    "ExecuteTime": {
     "end_time": "2019-02-28T13:10:17.927899Z",
     "start_time": "2019-02-28T13:10:17.910646Z"
    }
   },
   "outputs": [
    {
     "name": "stdout",
     "output_type": "stream",
     "text": [
      "{'i', 'q', 'r', 'b', 'c', 'o', 's', 't', 'e', 'u'}\n",
      "{'i', 'q', 'r', 'b', 'c', 'o', 's', 't', 'e', 'u'}\n",
      "{'i', 'q', 'r', 'b', 'c', 'o', 's', 't', 'e', 'u', 'y'}\n",
      "{'i', 'q', 'r', 'b', 'c', 'o', 's', 't', 'u', 'y'}\n",
      "Ошибка\n",
      "Нет ошибки\n"
     ]
    }
   ],
   "source": [
    "#В множество можно добавлять элементы и удалять их оттуда\n",
    "a = set(\"qbitcourse\")\n",
    "print(a)\n",
    "a.add(\"t\")\n",
    "print(a)\n",
    "a.add(\"y\")\n",
    "print(a)\n",
    "a.remove(\"e\")\n",
    "print(a)\n",
    "\n",
    "try:\n",
    "    a.remove(\"z\")\n",
    "except KeyError:\n",
    "    print(\"Ошибка\")\n",
    "    \n",
    "try:\n",
    "    a.discard(\"z\") # удаляем элемент если он существует\n",
    "    print(\"Нет ошибки\")\n",
    "except KeyError:\n",
    "    print(\"Ошибка\")"
   ]
  },
  {
   "cell_type": "code",
   "execution_count": 58,
   "metadata": {
    "ExecuteTime": {
     "end_time": "2019-02-28T13:10:17.951085Z",
     "start_time": "2019-02-28T13:10:17.931552Z"
    }
   },
   "outputs": [
    {
     "name": "stdout",
     "output_type": "stream",
     "text": [
      "{'i', 'q', 'r', 'b', 'c', 'o', 's', 't', 'e', 'u'} {'l', 'o', 't', 'e', 'h'}\n",
      "{'i', 'q', 'r', 'l', 'b', 'c', 'o', 's', 't', 'e', 'h', 'u'}\n",
      "{'t', 'e', 'o'}\n",
      "False\n",
      "{'i', 'q', 'r', 'b', 'c', 's', 'u'}\n",
      "False\n"
     ]
    }
   ],
   "source": [
    "#Над множествами работают все теоретико-множественные операции\n",
    "a = set(\"qbitcourse\")\n",
    "b = set(\"tehello\")\n",
    "print(a, b)\n",
    "\n",
    "#Объединение\n",
    "print(a.union(b))\n",
    "\n",
    "#Пересечение\n",
    "print(a.intersection(b))\n",
    "\n",
    "#Проверка непересечения -True если нет общих элементов\n",
    "print(a.isdisjoint(b))\n",
    "\n",
    "#Вычитание\n",
    "print(a.difference(b))\n",
    "\n",
    "#Проверка вхождения\n",
    "print(\"h\" in a)"
   ]
  },
  {
   "cell_type": "code",
   "execution_count": 59,
   "metadata": {
    "ExecuteTime": {
     "end_time": "2019-02-28T13:10:17.964820Z",
     "start_time": "2019-02-28T13:10:17.953504Z"
    }
   },
   "outputs": [],
   "source": [
    "# Сравним set с list в случае, если нам нужно проводить проверку наличия\n",
    "# в ограниченном списке большого числа элементов\n",
    "# Проверяем if element in set / list\n",
    "\n",
    "num_list = [i for i in range(10000)]\n",
    "num_set = set([i for i in range(10000)])"
   ]
  },
  {
   "cell_type": "code",
   "execution_count": null,
   "metadata": {
    "ExecuteTime": {
     "end_time": "2019-02-28T13:10:17.998376Z",
     "start_time": "2019-02-28T13:10:17.966896Z"
    }
   },
   "outputs": [],
   "source": [
    "%%timeit # магическая команда, помогает измерить время выполнения кода в ячейке\n",
    "\n",
    "counter = 0\n",
    "for i in range(100000):\n",
    "    if i in num_set:\n",
    "        counter += 1"
   ]
  },
  {
   "cell_type": "code",
   "execution_count": null,
   "metadata": {
    "ExecuteTime": {
     "end_time": "2019-02-28T13:10:31.677651Z",
     "start_time": "2019-02-28T13:10:18.000298Z"
    }
   },
   "outputs": [],
   "source": [
    "%%timeit\n",
    "\n",
    "counter = 0\n",
    "for i in range(100000):\n",
    "    if i in num_list:\n",
    "        counter += 1"
   ]
  },
  {
   "cell_type": "code",
   "execution_count": null,
   "metadata": {},
   "outputs": [],
   "source": []
  },
  {
   "cell_type": "code",
   "execution_count": null,
   "metadata": {},
   "outputs": [],
   "source": []
  }
 ],
 "metadata": {
  "kernelspec": {
   "display_name": "Python 3",
   "language": "python",
   "name": "python3"
  },
  "language_info": {
   "codemirror_mode": {
    "name": "ipython",
    "version": 3
   },
   "file_extension": ".py",
   "mimetype": "text/x-python",
   "name": "python",
   "nbconvert_exporter": "python",
   "pygments_lexer": "ipython3",
   "version": "3.8.8"
  }
 },
 "nbformat": 4,
 "nbformat_minor": 2
}

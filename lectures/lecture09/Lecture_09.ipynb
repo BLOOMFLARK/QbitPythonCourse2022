{
 "cells": [
  {
   "cell_type": "markdown",
   "metadata": {},
   "source": [
    "# Задачи на списки\n",
    "    1.Инвертировать список\n",
    "    2.Написать функцию подсчета суммы чисел в произвольном списке\n",
    "    3.Функция меняющая местами i, j элементы\n",
    "        def swap_elements(lst, i, j):\n",
    "            pass\n",
    "    4.Написать функцию, которая проходится по всем числам от 1 до 100000 и отдает список только четных числел\n",
    "        def get_only_even_numbers(numbers):\n",
    "            pass\n",
    "    5. Найдите сумму и произведение элементов списка. Результаты вывести на экран;\n",
    "    6. Определите, есть ли в списке повторяющиеся элементы, если да, то вывести на экран это значение;\n",
    "    7.Поменять местами самый большой и самый маленький элементы списка;\n",
    " \n",
    "# Задачи на словари:\n",
    "    1. Подсчет символов в строке (делали)\n",
    "    2. Скрабл \n",
    "        А, В, Е, И, Н, О, Р, С, Т – 1 очко;\n",
    "        Д, К, Л, М, П, У – 2 очка;\n",
    "        Б, Г, Ё, Ь, Я – 3 очка;\n",
    "        Й, Ы – 4 очка;\n",
    "        Ж, З, Х, Ц, Ч – 5 очков;\n",
    "        Ш, Э, Ю – 8 очков;\n",
    "        Ф, Щ, Ъ – 10 очков.\n",
    "      Напишите программу, которая вычисляет стоимость введенного пользователем слова (CASE INDEPENDENT). Будем считать, что на вход  подается только одно слово, которое содержит либо только английские, либо только русские буквы.\n",
    "    3. Подсчет цифр в строке, сколько и каких цифр в строке. Есть такой метод строк / односимвольных строк 'Моя строка'.isidigit() -> True, False\n",
    "\n",
    "# Boolean\n",
    "    1. Написать функцию xor\n",
    "    XOR: (True, True) -> False, (True, False) -> True, (False, True) -> True, (False, False) -> False\n",
    "    def my_xor(bool1, bool2):\n",
    "        pass\n",
    "\n",
    "# String\n",
    "    1. Функция is_palindrom(str), говорит является ли str палиндромом. \"довод\" -> True, \"кот\" -> False\n",
    "    2. Заменить убрать все пробельные символы в строке. Метод строк - replace.\n",
    "    \n",
    "    \n",
    "# Int\n",
    "    1. Используя стандартные арифметические операции представьте самое большое целое число из цифр 4, 4, 4 и приведите его значение.\n",
    "    \n",
    " \n",
    "# Set\n",
    "    1. Найти множество символов из article.txt\n",
    "    \n",
    "    \n",
    "    \n",
    "    На обработку поступает натуральное число, нужно вывести на экран максимальную цифру числа, кратную 3\n",
    "    \n",
    "    - Сперва разберем ошибки в коде\n",
    "    - Потом напишем сами без чисел вообще, только строки"
   ]
  },
  {
   "cell_type": "markdown",
   "metadata": {},
   "source": [
    "# План\n",
    "   \n",
    "   # 1. Повторим \n",
    "       - чем списки отличаются от кортежей?\n",
    "       - что такое словарь\n",
    "       - какие бывают циклы?\n",
    "       - что такое функция и как ее можно написать?\n",
    "       - Как работают if - else выражения?\n",
    "       - что такое модуль?\n",
    "      \n",
    "   # 2. Файлы\n",
    "   \n",
    "   # 3. Классы, напишем свой объект!"
   ]
  },
  {
   "cell_type": "markdown",
   "metadata": {},
   "source": [
    "# Файлы"
   ]
  },
  {
   "cell_type": "markdown",
   "metadata": {},
   "source": [
    "> Открытие / закрытие, чтение и запись.\n",
    "\n",
    "> Итак, начнем. Прежде, чем работать с файлом, его надо открыть. С этим замечательно справится встроенная функция open:"
   ]
  },
  {
   "cell_type": "code",
   "execution_count": null,
   "metadata": {},
   "outputs": [],
   "source": [
    "modes = {\n",
    "    'Запись': 'r',\n",
    "    'Чтение': 'w',\n",
    "    'Дозапись': 'a' #в конец файла\n",
    "}\n",
    "\n",
    "f = open(file='mytext.txt', mode='w', encoding='utf-8')\n",
    "type(f)"
   ]
  },
  {
   "cell_type": "code",
   "execution_count": null,
   "metadata": {},
   "outputs": [],
   "source": [
    "f.write(\"Hello world \\n Next Line\")\n",
    "\n",
    "# Обязательно надо закрыть, так как держать файл открытым - означает использовать часть ресурсов компьютера\n",
    "f.close()"
   ]
  },
  {
   "cell_type": "code",
   "execution_count": null,
   "metadata": {},
   "outputs": [],
   "source": [
    "# Менеджер контекста (делает всю грязную работу за нас)\n",
    "\n",
    "with open(file='text.txt', mode='r', encoding='utf-8') as f:\n",
    "    print(f.read())\n",
    "    print(f\"In context File is closed? = {f.closed}\")\n",
    "print(f\"After context File is closed? = {f.closed}\")"
   ]
  },
  {
   "cell_type": "code",
   "execution_count": 2,
   "metadata": {},
   "outputs": [
    {
     "name": "stdout",
     "output_type": "stream",
     "text": [
      "['Вечерело\\n', 'Жужжали мухи\\n', 'Светил фонарик\\n', 'Кипела вода в чайнике\\n', 'Венера зажглась на небе\\n', 'Деревья шумели\\n', 'Тучи разошлись\\n', 'Листва зеленела\\n']\n"
     ]
    }
   ],
   "source": [
    "# Метод readlines\n",
    "with open(file='article.txt', mode='r', encoding='utf-8') as f:\n",
    "    print(f.readlines())"
   ]
  },
  {
   "cell_type": "markdown",
   "metadata": {},
   "source": [
    "# Задача\n",
    "\n",
    "    Напишите функцию read_last(lines, file), которая будет открывать определенный файл file и выводить на печать построчно последние строки в количестве lines."
   ]
  },
  {
   "cell_type": "code",
   "execution_count": null,
   "metadata": {},
   "outputs": [],
   "source": []
  },
  {
   "cell_type": "markdown",
   "metadata": {},
   "source": [
    "# Классы\n",
    "\n",
    "> В Python всё является объектом.\n",
    "\n",
    "> Когда переменных в коде становится много, их объединяют в группы — получаются объекты. Добраться до переменной, прикрепленной к объекту можно через точку:\n",
    "    \n",
    "    obj.method_to_call()"
   ]
  },
  {
   "cell_type": "markdown",
   "metadata": {},
   "source": [
    ">   А теперь узнаем значение прикрепленной переменной __class__. Она хранит тип данных и имеется у любого объекта в Python, в том числе у строки:"
   ]
  },
  {
   "cell_type": "code",
   "execution_count": 5,
   "metadata": {},
   "outputs": [
    {
     "name": "stdout",
     "output_type": "stream",
     "text": [
      "22\n",
      "<class 'str'>\n",
      "<class 'str'>\n"
     ]
    }
   ],
   "source": [
    "print('строка это тоже объект'.__len__())\n",
    "print('строка это тоже объект'.__class__) # это по сути делает type()\n",
    "\n",
    "print(type('строка это тоже объект'))"
   ]
  },
  {
   "cell_type": "markdown",
   "metadata": {},
   "source": [
    "> Прикрепленные переменные и прикрепленные функции — методы — имеют так много общего, что вместе их называют атрибутами.\n",
    "\n",
    "> Объект — это набор атрибутов: прикрепленных переменных и функций. До любого атрибута можно добраться через точку .:"
   ]
  },
  {
   "cell_type": "code",
   "execution_count": null,
   "metadata": {},
   "outputs": [],
   "source": []
  },
  {
   "cell_type": "markdown",
   "metadata": {},
   "source": [
    "## Давайте напишем с вами объект - человек"
   ]
  },
  {
   "cell_type": "code",
   "execution_count": 16,
   "metadata": {},
   "outputs": [],
   "source": [
    "class Human:\n",
    "    \n",
    "    # атрибуты класса, что-то описательное, что своействено любому человеку\n",
    "    class_type = 'chordates' # тип хордовые\n",
    "    classs = 'mammals' # млекопитающие\n",
    "    \n",
    "    # Инициализация с параметрами. Здесь мы задаем параметры человека, у разных людей разное имя и возраст, например\n",
    "    def __init__(self, name, age):\n",
    "        self.name = name\n",
    "        self.age = age\n",
    "    \n",
    "    # Методы. Что любой человек может делать? МЕТОД КЛАССА\n",
    "    def say(): \n",
    "        print(\"Hello, i am Human\")\n",
    "    \n",
    "    # Что может делать конкретный объект - человек, МЕТОД ОБЪЕКТА\n",
    "    def say2(self): # self, ссылка на конкретного человека\n",
    "        print(f\"Hello, i am {self.name}\")"
   ]
  },
  {
   "cell_type": "code",
   "execution_count": 17,
   "metadata": {},
   "outputs": [
    {
     "name": "stdout",
     "output_type": "stream",
     "text": [
      "Hello, i am Vasya\n",
      "Hello, i am Vika\n",
      "Hello, i am Human\n"
     ]
    }
   ],
   "source": [
    "# вот так создаются объекты\n",
    "vasya = Human('Vasya', 105)\n",
    "vika = Human('Vika', 1000)\n",
    "\n",
    "\n",
    "vasya.say2()\n",
    "vika.say2()\n",
    "\n",
    "Human.say()"
   ]
  },
  {
   "cell_type": "code",
   "execution_count": 18,
   "metadata": {},
   "outputs": [
    {
     "ename": "TypeError",
     "evalue": "say2() missing 1 required positional argument: 'self'",
     "output_type": "error",
     "traceback": [
      "\u001b[0;31m---------------------------------------------------------------------------\u001b[0m",
      "\u001b[0;31mTypeError\u001b[0m                                 Traceback (most recent call last)",
      "\u001b[0;32m<ipython-input-18-18d210021c7a>\u001b[0m in \u001b[0;36m<module>\u001b[0;34m\u001b[0m\n\u001b[0;32m----> 1\u001b[0;31m \u001b[0mHuman\u001b[0m\u001b[0;34m.\u001b[0m\u001b[0msay2\u001b[0m\u001b[0;34m(\u001b[0m\u001b[0;34m)\u001b[0m \u001b[0;31m# упадет, как вы думаете почему?\u001b[0m\u001b[0;34m\u001b[0m\u001b[0;34m\u001b[0m\u001b[0m\n\u001b[0m",
      "\u001b[0;31mTypeError\u001b[0m: say2() missing 1 required positional argument: 'self'"
     ]
    }
   ],
   "source": [
    "Human.say2() # упадет, как вы думаете почему?"
   ]
  },
  {
   "cell_type": "code",
   "execution_count": 19,
   "metadata": {},
   "outputs": [
    {
     "data": {
      "text/plain": [
       "{'name': 'Vika', 'age': 1000}"
      ]
     },
     "execution_count": 19,
     "metadata": {},
     "output_type": "execute_result"
    }
   ],
   "source": [
    "vars(vika)"
   ]
  },
  {
   "cell_type": "code",
   "execution_count": 23,
   "metadata": {},
   "outputs": [],
   "source": [
    "# Атрибуты можно добавлять налету! это и функций касается!\n",
    "vika.height = 160\n",
    "\n",
    "# Лучше так не делать, но так делать можно :)\n",
    "# Например можно сделать опечатку и vika будет хранить height, а vasya hgeiht\n",
    "# Чтобы было одинаково, лучше ообъявлять обязательные атрибуты в __init__"
   ]
  },
  {
   "cell_type": "code",
   "execution_count": 21,
   "metadata": {},
   "outputs": [
    {
     "data": {
      "text/plain": [
       "{'name': 'Vika', 'age': 1000, 'height': 160}"
      ]
     },
     "execution_count": 21,
     "metadata": {},
     "output_type": "execute_result"
    }
   ],
   "source": [
    "vars(vika)"
   ]
  },
  {
   "cell_type": "markdown",
   "metadata": {},
   "source": [
    "# В питоне можно написать свой класс целых чисел!\n",
    "\n",
    "    - Объекты этого класса будет можно складывать, умножать и т.д."
   ]
  },
  {
   "cell_type": "code",
   "execution_count": 24,
   "metadata": {},
   "outputs": [],
   "source": [
    "class MyInteger:\n",
    "    \n",
    "    def __init__(self, num, description):\n",
    "        self.num = num # само число\n",
    "        self.descr = description # описание\n",
    "    \n",
    "    # Магический метод, возвращающий строкове представление объекта\n",
    "    def __str__(self):\n",
    "        return f\"num={self.num}, description={self.descr}\"\n",
    "    \n",
    "    # Магический метод для сложения двух объектов типа MyInteger\n",
    "    # self - первый объект в сумме, other - второй объект в сумме\n",
    "    def __add__(self, other):\n",
    "        # Определим логику так:\n",
    "        new_num = self.num + other.num\n",
    "        new_descr = f\"{self.descr} + {other.descr}\"\n",
    "    \n",
    "        # Обязательно возвращаем объект такого же типа. Результат сложения 1 + 2\n",
    "        # Возвращает новый объект 3, типа int\n",
    "        return MyInteger(new_num, new_descr)\n",
    "    \n",
    "    # Магический метод, который вызывается при сравнении объектов типа MyInteger\n",
    "    def __eq__(self, other):\n",
    "        return self.num == self.other\n",
    "    \n",
    "    def __getitem__(self, idx):\n",
    "        # Получение элемента через индекс, a[idx]\n",
    "        return self.descr[idx]\n",
    "    \n",
    "    def __setitem__(self, idx, value):\n",
    "        # Присвоению value по idx\n",
    "        self.descr[idx] = value\n",
    "    \n",
    "    # Аналогично определяются __ne__(self, other) !=, >=, < и т.д.\n",
    "    #  __ne__(self, other)\n",
    "    # Определяет поведение оператора неравенства, !=.\n",
    "    # \n",
    "    # __lt__(self, other)\n",
    "    # Определяет поведение оператора меньше, <.\n",
    "    # \n",
    "    # __gt__(self, other)\n",
    "    # Определяет поведение оператора больше, >.\n",
    "    # \n",
    "    # __le__(self, other)\n",
    "    # Определяет поведение оператора меньше или равно, <=.\n",
    "    # \n",
    "    # __ge__(self, other)\n",
    "    # Определяет поведение оператора больше или равно, >=.\n",
    "    \n",
    "    \n",
    "    # __sub__(self, other)\n",
    "    # Вычитание.\n",
    "    # \n",
    "    # __mul__(self, other)\n",
    "    # Умножение.\n",
    "    # \n",
    "    # __floordiv__(self, other)\n",
    "    # Целочисленное деление, оператор //.\n",
    "    # \n",
    "    # __div__(self, other)\n",
    "    # Деление, оператор /.\n",
    "    # \n",
    "    # __truediv__(self, other)\n",
    "    # Правильное деление. Заметьте, что это работает только когда используется from __future__ import division.\n",
    "    # \n",
    "    # __mod__(self, other)\n",
    "    # Остаток от деления, оператор %.\n",
    "    # \n",
    "    # __divmod__(self, other)\n",
    "    # Определяет поведение для встроенной функции divmod().\n",
    "    # \n",
    "    # __pow__\n",
    "    # Возведение в степень, оператор **.\n",
    "    \n",
    "    \n",
    "    \n",
    "    \n",
    "    #__call__(self, [args...])\n",
    "    # Позволяет любому экземпляру вашего класса быть вызванным как-будто он функция.\n",
    "    # Главным образом это означает, что x() означает то же, что и x.__call__().\n",
    "    # Заметьте, __call__ принимает произвольное число аргументов;\n",
    "    # то есть, вы можете определить __call__ так же как любую другую функцию,\n",
    "    # принимающую столько аргументов, сколько вам нужно.\n",
    "    \n",
    "    # Давайте придумаем, что должен делать наш объект, при вызове как функция"
   ]
  },
  {
   "cell_type": "code",
   "execution_count": 28,
   "metadata": {},
   "outputs": [
    {
     "name": "stdout",
     "output_type": "stream",
     "text": [
      "num=5, description=пять\n"
     ]
    }
   ],
   "source": [
    "five = MyInteger(5, 'пять')\n",
    "three = MyInteger(3, 'три')\n",
    "print(five)"
   ]
  },
  {
   "cell_type": "code",
   "execution_count": 29,
   "metadata": {},
   "outputs": [
    {
     "name": "stdout",
     "output_type": "stream",
     "text": [
      "num=8, description=три + пять\n"
     ]
    }
   ],
   "source": [
    "eight = three + five\n",
    "\n",
    "print(eight)"
   ]
  },
  {
   "cell_type": "code",
   "execution_count": 30,
   "metadata": {},
   "outputs": [
    {
     "data": {
      "text/plain": [
       "'я'"
      ]
     },
     "execution_count": 30,
     "metadata": {},
     "output_type": "execute_result"
    }
   ],
   "source": [
    "five[1]"
   ]
  },
  {
   "cell_type": "code",
   "execution_count": 31,
   "metadata": {},
   "outputs": [
    {
     "ename": "TypeError",
     "evalue": "'str' object does not support item assignment",
     "output_type": "error",
     "traceback": [
      "\u001b[0;31m---------------------------------------------------------------------------\u001b[0m",
      "\u001b[0;31mTypeError\u001b[0m                                 Traceback (most recent call last)",
      "\u001b[0;32m<ipython-input-31-e0941d6392a3>\u001b[0m in \u001b[0;36m<module>\u001b[0;34m\u001b[0m\n\u001b[0;32m----> 1\u001b[0;31m \u001b[0mfive\u001b[0m\u001b[0;34m[\u001b[0m\u001b[0;36m1\u001b[0m\u001b[0;34m]\u001b[0m \u001b[0;34m=\u001b[0m \u001b[0;34m'т'\u001b[0m\u001b[0;34m\u001b[0m\u001b[0;34m\u001b[0m\u001b[0m\n\u001b[0m",
      "\u001b[0;32m<ipython-input-24-555d7dcccd55>\u001b[0m in \u001b[0;36m__setitem__\u001b[0;34m(self, idx, value)\u001b[0m\n\u001b[1;32m     30\u001b[0m     \u001b[0;32mdef\u001b[0m \u001b[0m__setitem__\u001b[0m\u001b[0;34m(\u001b[0m\u001b[0mself\u001b[0m\u001b[0;34m,\u001b[0m \u001b[0midx\u001b[0m\u001b[0;34m,\u001b[0m \u001b[0mvalue\u001b[0m\u001b[0;34m)\u001b[0m\u001b[0;34m:\u001b[0m\u001b[0;34m\u001b[0m\u001b[0;34m\u001b[0m\u001b[0m\n\u001b[1;32m     31\u001b[0m         \u001b[0;31m# Присвоению value по idx\u001b[0m\u001b[0;34m\u001b[0m\u001b[0;34m\u001b[0m\u001b[0;34m\u001b[0m\u001b[0m\n\u001b[0;32m---> 32\u001b[0;31m         \u001b[0mself\u001b[0m\u001b[0;34m.\u001b[0m\u001b[0mdescr\u001b[0m\u001b[0;34m[\u001b[0m\u001b[0midx\u001b[0m\u001b[0;34m]\u001b[0m \u001b[0;34m=\u001b[0m \u001b[0mvalue\u001b[0m\u001b[0;34m\u001b[0m\u001b[0;34m\u001b[0m\u001b[0m\n\u001b[0m\u001b[1;32m     33\u001b[0m \u001b[0;34m\u001b[0m\u001b[0m\n\u001b[1;32m     34\u001b[0m     \u001b[0;31m# Аналогично определяются __ne__(self, other) !=, >=, < и т.д.\u001b[0m\u001b[0;34m\u001b[0m\u001b[0;34m\u001b[0m\u001b[0;34m\u001b[0m\u001b[0m\n",
      "\u001b[0;31mTypeError\u001b[0m: 'str' object does not support item assignment"
     ]
    }
   ],
   "source": [
    "five[1] = 'т'"
   ]
  },
  {
   "cell_type": "markdown",
   "metadata": {},
   "source": [
    "# Задание, написать класс ВЕКТОР с размерностью 2\n",
    "\n",
    "    Вектор это набор чисел, например (1, 2).\n",
    "    \n",
    "     - Вектора можно складывать: (1, 2) + (3, 4) = (4, 6)\n",
    "     - Умножать: (1, 2) * (3, 4) = (3, 8)\n",
    "     - Вычитать\n",
    "     - Сравнивать\n",
    "     - Вычислять длину вектора = sqrt(x^2 + y^2)"
   ]
  },
  {
   "cell_type": "code",
   "execution_count": null,
   "metadata": {},
   "outputs": [],
   "source": []
  }
 ],
 "metadata": {
  "kernelspec": {
   "display_name": "Python 3",
   "language": "python",
   "name": "python3"
  },
  "language_info": {
   "codemirror_mode": {
    "name": "ipython",
    "version": 3
   },
   "file_extension": ".py",
   "mimetype": "text/x-python",
   "name": "python",
   "nbconvert_exporter": "python",
   "pygments_lexer": "ipython3",
   "version": "3.8.8"
  }
 },
 "nbformat": 4,
 "nbformat_minor": 2
}

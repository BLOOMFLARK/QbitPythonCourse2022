{
 "cells": [
  {
   "cell_type": "markdown",
   "metadata": {},
   "source": [
    "# Задачи на списки\n",
    "    1.Инвертировать список\n",
    "    2.Написать функцию подсчета суммы чисел в произвольном списке\n",
    "    3.Функция меняющая местами i, j элементы\n",
    "        def swap_elements(lst, i, j):\n",
    "            pass\n",
    "    4.Написать функцию, которая проходится по всем числам от 1 до 100000 и отдает список только четных числел\n",
    "        def get_only_even_numbers(numbers):\n",
    "            pass\n",
    "    5. Найдите сумму и произведение элементов списка. Результаты вывести на экран;\n",
    "    6. Определите, есть ли в списке повторяющиеся элементы, если да, то вывести на экран это значение;\n",
    "    7.Поменять местами самый большой и самый маленький элементы списка;\n",
    " \n",
    "# Задачи на словари:\n",
    "    1. Подсчет символов в строке (делали)\n",
    "    2. Скрабл \n",
    "        А, В, Е, И, Н, О, Р, С, Т – 1 очко;\n",
    "        Д, К, Л, М, П, У – 2 очка;\n",
    "        Б, Г, Ё, Ь, Я – 3 очка;\n",
    "        Й, Ы – 4 очка;\n",
    "        Ж, З, Х, Ц, Ч – 5 очков;\n",
    "        Ш, Э, Ю – 8 очков;\n",
    "        Ф, Щ, Ъ – 10 очков.\n",
    "      Напишите программу, которая вычисляет стоимость введенного пользователем слова (CASE INDEPENDENT). Будем считать, что на вход  подается только одно слово, которое содержит либо только английские, либо только русские буквы.\n",
    "    3. Подсчет цифр в строке, сколько и каких цифр в строке. Есть такой метод строк / односимвольных строк 'Моя строка'.isidigit() -> True, False\n",
    "\n",
    "# Boolean\n",
    "    1. Написать функцию xor\n",
    "    XOR: (True, True) -> False, (True, False) -> True, (False, True) -> True, (False, False) -> False\n",
    "    def my_xor(bool1, bool2):\n",
    "        pass\n",
    "\n",
    "# String\n",
    "    1. Функция is_palindrom(str), говорит является ли str палиндромом. \"довод\" -> True, \"кот\" -> False\n",
    "    2. Заменить убрать все пробельные символы в строке. Метод строк - replace.\n",
    "    \n",
    "    \n",
    "# Int\n",
    "    1. Используя стандартные арифметические операции представьте самое большое целое число из цифр 4, 4, 4 и приведите его значение.\n",
    "    \n",
    " \n",
    "# Set\n",
    "    1. Найти множество символов из article.txt\n",
    "    \n",
    "    \n",
    "    \n",
    "    На обработку поступает натуральное число, нужно вывести на экран максимальную цифру числа, кратную 3\n",
    "    \n",
    "    - Сперва разберем ошибки в коде\n",
    "    - Потом напишем сами без чисел вообще, только строки"
   ]
  },
  {
   "cell_type": "code",
   "execution_count": null,
   "metadata": {},
   "outputs": [],
   "source": [
    "# Циклы: while, for each, чем отличаются?\n",
    "# Списки: коллекция из объектов, а в питоне - все есть объект, [a, b, 1, 'dasd', dictionary]\n",
    "# Словарь: отображение ключей на значения. {key: value}"
   ]
  },
  {
   "cell_type": "code",
   "execution_count": null,
   "metadata": {},
   "outputs": [],
   "source": [
    "# Операция вхождения \"in\" есть у многих типов данных (у контейнерных и словарей)\n",
    "# 'a' in dictionary - проверяет есть ли ключ 'a' в словаре\n",
    "# 12 in list - проверяет, если ли число 12 (любой объект) в списке\n",
    "# 'строка' in string - проверяет есть ли слово строка в данной строке"
   ]
  },
  {
   "cell_type": "markdown",
   "metadata": {},
   "source": [
    "# Модули. Recap"
   ]
  },
  {
   "cell_type": "markdown",
   "metadata": {},
   "source": [
    "    Модуль – кусок кода, который можно использовать в другом коде. В самом простом случае это файл. В любом проекте функциональность разбивается на куски, каждый кусок селится в свой модуль."
   ]
  },
  {
   "cell_type": "code",
   "execution_count": null,
   "metadata": {},
   "outputs": [],
   "source": [
    "import math\n",
    "math.sqrt(4), math.sqrt(10)"
   ]
  },
  {
   "cell_type": "markdown",
   "metadata": {},
   "source": [
    "# Файлы"
   ]
  },
  {
   "cell_type": "markdown",
   "metadata": {},
   "source": [
    "> Открытие / закрытие, чтение и запись.\n",
    "\n",
    "> Итак, начнем. Прежде, чем работать с файлом, его надо открыть. С этим замечательно справится встроенная функция open:"
   ]
  },
  {
   "cell_type": "code",
   "execution_count": null,
   "metadata": {},
   "outputs": [],
   "source": [
    "modes = {\n",
    "    'Запись': 'r',\n",
    "    'Чтение': 'w',\n",
    "    'Дозапись': 'a' #в конец файла\n",
    "}\n",
    "\n",
    "f = open(file='mytext.txt', mode='w', encoding='utf-8')\n",
    "type(f)"
   ]
  },
  {
   "cell_type": "code",
   "execution_count": null,
   "metadata": {},
   "outputs": [],
   "source": [
    "f.write(\"Hello world \\n Next Line\")\n",
    "\n",
    "# Обязательно надо закрыть, так как держать файл открытым - означает использовать часть ресурсов компьютера\n",
    "f.close()"
   ]
  },
  {
   "cell_type": "code",
   "execution_count": null,
   "metadata": {},
   "outputs": [],
   "source": [
    "# Менеджер контекста (делает всю грязную работу за нас)\n",
    "\n",
    "with open(file='text.txt', mode='r', encoding='utf-8') as f:\n",
    "    print(f.read())\n",
    "    print(f\"In context File is closed? = {f.closed}\")\n",
    "print(f\"After context File is closed? = {f.closed}\")"
   ]
  },
  {
   "cell_type": "code",
   "execution_count": 2,
   "metadata": {},
   "outputs": [
    {
     "name": "stdout",
     "output_type": "stream",
     "text": [
      "['Вечерело\\n', 'Жужжали мухи\\n', 'Светил фонарик\\n', 'Кипела вода в чайнике\\n', 'Венера зажглась на небе\\n', 'Деревья шумели\\n', 'Тучи разошлись\\n', 'Листва зеленела\\n']\n"
     ]
    }
   ],
   "source": [
    "# Метод readlines\n",
    "with open(file='article.txt', mode='r', encoding='utf-8') as f:\n",
    "    print(f.readlines())"
   ]
  },
  {
   "cell_type": "markdown",
   "metadata": {},
   "source": [
    "# Задача\n",
    "\n",
    "    Напишите функцию read_last(lines, file), которая будет открывать определенный файл file и выводить на печать построчно последние строки в количестве lines."
   ]
  },
  {
   "cell_type": "code",
   "execution_count": null,
   "metadata": {},
   "outputs": [],
   "source": []
  }
 ],
 "metadata": {
  "kernelspec": {
   "display_name": "Python 3",
   "language": "python",
   "name": "python3"
  },
  "language_info": {
   "codemirror_mode": {
    "name": "ipython",
    "version": 3
   },
   "file_extension": ".py",
   "mimetype": "text/x-python",
   "name": "python",
   "nbconvert_exporter": "python",
   "pygments_lexer": "ipython3",
   "version": "3.8.8"
  }
 },
 "nbformat": 4,
 "nbformat_minor": 2
}

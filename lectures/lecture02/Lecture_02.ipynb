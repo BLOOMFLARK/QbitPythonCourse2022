{
 "cells": [
  {
   "cell_type": "markdown",
   "metadata": {},
   "source": [
    "# Типы данных в Python\n",
    "## Числа"
   ]
  },
  {
   "cell_type": "code",
   "execution_count": 1,
   "metadata": {},
   "outputs": [],
   "source": [
    "# - комментарий"
   ]
  },
  {
   "cell_type": "code",
   "execution_count": 2,
   "metadata": {
    "ExecuteTime": {
     "end_time": "2019-02-28T13:09:39.919622Z",
     "start_time": "2019-02-28T13:09:39.909718Z"
    }
   },
   "outputs": [
    {
     "name": "stdout",
     "output_type": "stream",
     "text": [
      "<class 'int'>\n",
      "<class 'float'>\n"
     ]
    }
   ],
   "source": [
    "a = 5\n",
    "b = 5.0\n",
    "print(type(a)) # Тут рассказать про объекты, пример с человеком\n",
    "print(type(b))"
   ]
  },
  {
   "cell_type": "code",
   "execution_count": null,
   "metadata": {},
   "outputs": [],
   "source": [
    "# +, -, **, *, //, %"
   ]
  },
  {
   "cell_type": "code",
   "execution_count": 6,
   "metadata": {},
   "outputs": [
    {
     "name": "stdout",
     "output_type": "stream",
     "text": [
      "4440394176\n",
      "4440394208\n",
      "5 5 4440394208 4440394208\n"
     ]
    }
   ],
   "source": [
    "# Адрес объекта. \n",
    "# В Питоне все есть объект, когда мы создаем переменную мы создаем ссылку на объект в памяти\n",
    "# Зачем нужны ссылки? Чтобы при копировании не копировать сам объект:) \n",
    "# Ссылка почти всегда весит меньше чем объект, поэтому копируя ссылку (а не объект) мы экономим место.\n",
    "\n",
    "\n",
    "a = 4 # создаем ячейку в памяти, ссылку на ячейку возвращаем в переменную, называем ее \"a\"\n",
    "print(id(a))\n",
    "\n",
    "b = 5\n",
    "print(id(b))\n",
    "a = b # в переменную a копируем ссылку на объект, который лежит по ссылке b.\n",
    "print(a, b, id(a), id(b))"
   ]
  },
  {
   "cell_type": "markdown",
   "metadata": {},
   "source": [
    "## Приоритет операций"
   ]
  },
  {
   "cell_type": "code",
   "execution_count": 16,
   "metadata": {},
   "outputs": [],
   "source": [
    "# Чему будет равно выражение?\n",
    "a = 5 * 3 + 16 / 2 ** 3\n",
    "\n",
    "# а вот это?\n",
    "a = 5 * (3 + 6 / 2 ** 3)\n",
    "\n",
    "# и это?\n",
    "a = 5 * (3 + 16) / 2 ** 3\n",
    "\n",
    "# Приведите к целому типу число 2.99, int\n",
    "# СОставьте выражение и вычислите значение 42 делить на 4 + 2 * -2"
   ]
  },
  {
   "cell_type": "code",
   "execution_count": 7,
   "metadata": {},
   "outputs": [
    {
     "name": "stdout",
     "output_type": "stream",
     "text": [
      "4440394528\n",
      "4440394496\n"
     ]
    }
   ],
   "source": [
    "k = 15\n",
    "print(id(k))\n",
    "k = 14\n",
    "print(id(k))"
   ]
  },
  {
   "cell_type": "markdown",
   "metadata": {},
   "source": [
    "### Проверим можем ли мы что-то делать с числами"
   ]
  },
  {
   "cell_type": "code",
   "execution_count": 19,
   "metadata": {
    "ExecuteTime": {
     "end_time": "2019-02-28T13:09:39.986002Z",
     "start_time": "2019-02-28T13:09:39.973514Z"
    }
   },
   "outputs": [],
   "source": [
    "# Функция - это объект, принимающий аргументы и возвращающий значение.\n",
    "# Пример x**2, def f(x): return x ** 2\n",
    "\n",
    "def plus(a, b):\n",
    "    pass\n",
    "\n",
    "def minus(a, b):\n",
    "    pass\n",
    "\n",
    "def formula_gerona(a, b, c):\n",
    "    pass\n"
   ]
  },
  {
   "cell_type": "code",
   "execution_count": null,
   "metadata": {},
   "outputs": [],
   "source": []
  },
  {
   "cell_type": "markdown",
   "metadata": {},
   "source": [
    "## Строки\n",
    "\n",
    "    Строки - это тоже объект! Применяются для записи текстовой информации. По своей сути это последовательности односимвольных строк.\n",
    "    \n",
    "    Они неизменяемы. Создать строку можно окружив её одинарными, двойными или тройными кавычками. Перенос строки осуществляется символом \\."
   ]
  },
  {
   "cell_type": "code",
   "execution_count": 12,
   "metadata": {
    "ExecuteTime": {
     "end_time": "2019-02-28T13:09:51.286426Z",
     "start_time": "2019-02-28T13:09:51.275381Z"
    }
   },
   "outputs": [
    {
     "name": "stdout",
     "output_type": "stream",
     "text": [
      "Строка 1 с одинарными кавычками\n",
      "Строка 2 с одинарными кавычками и переносом\n",
      "Строка 3 с двойными кавычками\n",
      "Строка 4 с двойнми кавычками и переносом\n",
      "Строка 5 с тройными кавычками\n",
      "Строка 6 с тройными кавычками\n",
      "и переносом, как видите при тройных кавычках знак переноса не нужен\n",
      "Строка 7 с \"текстом в кавычках\"\n"
     ]
    }
   ],
   "source": [
    "s_1 = 'Строка 1 с одинарными кавычками'\n",
    "s_2 = 'Строка 2 с одинарными кавычками \\ \n",
    "и переносом' # спец символ, который говорит питону, погоди, строка слишком длинная, она еще не закончена\n",
    "s_25 = 'Строка 2.5 без символа переноса строки\n",
    "экранирования'\n",
    "s_3 = \"Строка 3 с двойными кавычками\"\n",
    "s_4 = \"Строка 4 с двойнми кавычками \\\n",
    "и переносом\"\n",
    "s_5 = '''Строка 5 с тройными кавычками'''\n",
    "s_6 = '''Строка 6 с тройными кавычками\n",
    "и переносом, как видите при тройных кавычках знак переноса не нужен'''\n",
    "s_7 = '''Строка 7 с \"текстом в кавычках\"''' # Сколько слева символов кавычек, столько должно быть и справа\n",
    "# при этом ''' 'вот такое не прокатит' ''', символы должны быть разными.\n",
    "for i in range(1, 8):\n",
    "    print(globals()[\"s_\" + str(i)])"
   ]
  },
  {
   "cell_type": "code",
   "execution_count": 22,
   "metadata": {},
   "outputs": [
    {
     "data": {
      "text/plain": [
       "('A', 65)"
      ]
     },
     "execution_count": 22,
     "metadata": {},
     "output_type": "execute_result"
    }
   ],
   "source": [
    "chr(65), ord('A')"
   ]
  },
  {
   "cell_type": "code",
   "execution_count": 13,
   "metadata": {},
   "outputs": [
    {
     "name": "stdout",
     "output_type": "stream",
     "text": [
      "Первый абзац Второй абзац\n",
      "\n",
      "Первый абзац\n",
      "Второй абзац\n",
      "Первый абзац\\nВторой абзац\n"
     ]
    }
   ],
   "source": [
    "# Экранирование\n",
    "print('Первый абзац Второй абзац')\n",
    "print()\n",
    "print('Первый абзац\\nВторой абзац')\n",
    "\n",
    "print(r'Первый абзац\\nВторой абзац') # сырая строка, без экранирования экранируемых символов"
   ]
  },
  {
   "cell_type": "code",
   "execution_count": 3,
   "metadata": {
    "scrolled": true
   },
   "outputs": [
    {
     "data": {
      "text/plain": [
       "['__add__',\n",
       " '__class__',\n",
       " '__contains__',\n",
       " '__delattr__',\n",
       " '__dir__',\n",
       " '__doc__',\n",
       " '__eq__',\n",
       " '__format__',\n",
       " '__ge__',\n",
       " '__getattribute__',\n",
       " '__getitem__',\n",
       " '__getnewargs__',\n",
       " '__gt__',\n",
       " '__hash__',\n",
       " '__init__',\n",
       " '__init_subclass__',\n",
       " '__iter__',\n",
       " '__le__',\n",
       " '__len__',\n",
       " '__lt__',\n",
       " '__mod__',\n",
       " '__mul__',\n",
       " '__ne__',\n",
       " '__new__',\n",
       " '__reduce__',\n",
       " '__reduce_ex__',\n",
       " '__repr__',\n",
       " '__rmod__',\n",
       " '__rmul__',\n",
       " '__setattr__',\n",
       " '__sizeof__',\n",
       " '__str__',\n",
       " '__subclasshook__',\n",
       " 'capitalize',\n",
       " 'casefold',\n",
       " 'center',\n",
       " 'count',\n",
       " 'encode',\n",
       " 'endswith',\n",
       " 'expandtabs',\n",
       " 'find',\n",
       " 'format',\n",
       " 'format_map',\n",
       " 'index',\n",
       " 'isalnum',\n",
       " 'isalpha',\n",
       " 'isascii',\n",
       " 'isdecimal',\n",
       " 'isdigit',\n",
       " 'isidentifier',\n",
       " 'islower',\n",
       " 'isnumeric',\n",
       " 'isprintable',\n",
       " 'isspace',\n",
       " 'istitle',\n",
       " 'isupper',\n",
       " 'join',\n",
       " 'ljust',\n",
       " 'lower',\n",
       " 'lstrip',\n",
       " 'maketrans',\n",
       " 'partition',\n",
       " 'replace',\n",
       " 'rfind',\n",
       " 'rindex',\n",
       " 'rjust',\n",
       " 'rpartition',\n",
       " 'rsplit',\n",
       " 'rstrip',\n",
       " 'split',\n",
       " 'splitlines',\n",
       " 'startswith',\n",
       " 'strip',\n",
       " 'swapcase',\n",
       " 'title',\n",
       " 'translate',\n",
       " 'upper',\n",
       " 'zfill']"
      ]
     },
     "execution_count": 3,
     "metadata": {},
     "output_type": "execute_result"
    }
   ],
   "source": [
    "# так как строки это объекты, у объектов есть методы\n",
    "dir('строка')"
   ]
  },
  {
   "cell_type": "code",
   "execution_count": 17,
   "metadata": {
    "ExecuteTime": {
     "end_time": "2019-02-28T13:09:51.297826Z",
     "start_time": "2019-02-28T13:09:51.288924Z"
    }
   },
   "outputs": [
    {
     "name": "stdout",
     "output_type": "stream",
     "text": [
      "Т е\n",
      "Строка в строке:  Тестовая строка\n",
      "15\n"
     ]
    }
   ],
   "source": [
    "#Можно обратиться к символам строки, можно запросить длину строки\n",
    "s = \"Тестовая строка\"\n",
    "print(s[0], s[1])\n",
    "print(\"Строка в строке:  {}\".format(s))\n",
    "print(len(s))"
   ]
  },
  {
   "cell_type": "code",
   "execution_count": null,
   "metadata": {},
   "outputs": [],
   "source": [
    "# Задание напишите Длина строки \"сама строка\" равна len(s)"
   ]
  },
  {
   "cell_type": "code",
   "execution_count": 18,
   "metadata": {},
   "outputs": [
    {
     "ename": "TypeError",
     "evalue": "'str' object does not support item assignment",
     "output_type": "error",
     "traceback": [
      "\u001b[0;31m---------------------------------------------------------------------------\u001b[0m",
      "\u001b[0;31mTypeError\u001b[0m                                 Traceback (most recent call last)",
      "\u001b[0;32m<ipython-input-18-fdc93624deb9>\u001b[0m in \u001b[0;36m<module>\u001b[0;34m\u001b[0m\n\u001b[1;32m      1\u001b[0m \u001b[0;31m# Строки неизменяемые\u001b[0m\u001b[0;34m\u001b[0m\u001b[0;34m\u001b[0m\u001b[0;34m\u001b[0m\u001b[0m\n\u001b[0;32m----> 2\u001b[0;31m \u001b[0ms\u001b[0m\u001b[0;34m[\u001b[0m\u001b[0;36m0\u001b[0m\u001b[0;34m]\u001b[0m \u001b[0;34m=\u001b[0m \u001b[0;34m'Q'\u001b[0m\u001b[0;34m\u001b[0m\u001b[0;34m\u001b[0m\u001b[0m\n\u001b[0m",
      "\u001b[0;31mTypeError\u001b[0m: 'str' object does not support item assignment"
     ]
    }
   ],
   "source": [
    "# Строки неизменяемые\n",
    "s[0] = 'Q'"
   ]
  },
  {
   "cell_type": "code",
   "execution_count": 15,
   "metadata": {},
   "outputs": [
    {
     "name": "stdout",
     "output_type": "stream",
     "text": [
      "spameggs\n",
      "spamspamspamspamspam\n"
     ]
    }
   ],
   "source": [
    "# Строки можно складывать\n",
    "s1 = 'spam'\n",
    "s2 = 'eggs'\n",
    "print(s1 + s2)\n",
    "\n",
    "# Даже можно умножать\n",
    "print(s1 * 5)"
   ]
  },
  {
   "cell_type": "code",
   "execution_count": 16,
   "metadata": {
    "ExecuteTime": {
     "end_time": "2019-02-28T13:09:51.312576Z",
     "start_time": "2019-02-28T13:09:51.300794Z"
    }
   },
   "outputs": [
    {
     "name": "stdout",
     "output_type": "stream",
     "text": [
      "Строка прИИИИИИИИИИИмер\n"
     ]
    }
   ],
   "source": [
    "#В строках можно заменять определенные символы\n",
    "s = \"Строка пример\"\n",
    "s = s.replace(\"и\", 'ИИИИИИИИИИИ')\n",
    "print(s)"
   ]
  },
  {
   "cell_type": "code",
   "execution_count": 17,
   "metadata": {
    "ExecuteTime": {
     "end_time": "2019-02-28T13:09:51.324320Z",
     "start_time": "2019-02-28T13:09:51.315128Z"
    }
   },
   "outputs": [
    {
     "name": "stdout",
     "output_type": "stream",
     "text": [
      "['Строка', 'криворукого', 'криворука']\n"
     ]
    }
   ],
   "source": [
    "#Строки можно разбивать по случайному символу\n",
    "s = \"Строка\\irкриворукого\\irкриворука\"\n",
    "print(s.split(\"\\ir\")) # возрващает список, что это обсудим дальше"
   ]
  },
  {
   "cell_type": "code",
   "execution_count": 18,
   "metadata": {
    "ExecuteTime": {
     "end_time": "2019-02-28T13:09:51.341233Z",
     "start_time": "2019-02-28T13:09:51.326851Z"
    }
   },
   "outputs": [
    {
     "name": "stdout",
     "output_type": "stream",
     "text": [
      "    Строка с пробелами и табуляциями в начале и конце \t\n",
      "Строка с пробелами и табуляциями в начале и конце\n",
      "ааааааа СТрока с какими-то символами в начале и в конце ааааааааа\n",
      " СТрока с какими-то символами в начале и в конце \n"
     ]
    }
   ],
   "source": [
    "#У строк можно убирать незначащие символы с начала и конца строки\n",
    "s = \"    Строка с пробелами и табуляциями в начале и конце \\t\"\n",
    "print(s)\n",
    "print(s.strip())\n",
    "s = \"ааааааа СТрока с какими-то символами в начале и в конце ааааааааа\"\n",
    "print(s)\n",
    "print(s.strip(\"а\"))"
   ]
  },
  {
   "cell_type": "code",
   "execution_count": 19,
   "metadata": {
    "ExecuteTime": {
     "end_time": "2019-02-28T13:09:51.353157Z",
     "start_time": "2019-02-28T13:09:51.343659Z"
    }
   },
   "outputs": [
    {
     "name": "stdout",
     "output_type": "stream",
     "text": [
      "СТРОКА НИЖНИМ РЕГИСТРОМ\n",
      "Строка нижним регистром\n",
      "капс странная строка\n",
      "Капс странная строка\n"
     ]
    }
   ],
   "source": [
    "#Строки можно переводить из нижнего регистра в верхний, из верхнего в нижний\n",
    "#Можно приводить к формату - заглавная первая буква\n",
    "s = \"строка нижним регистром\"\n",
    "print(s.upper())\n",
    "print(s.capitalize())\n",
    "s = \"КаПс СтРанНая СТРОКА\"\n",
    "print(s.lower())\n",
    "print(s.capitalize())"
   ]
  },
  {
   "cell_type": "code",
   "execution_count": 20,
   "metadata": {},
   "outputs": [
    {
     "name": "stdout",
     "output_type": "stream",
     "text": [
      "Привет\n",
      "Привет\n",
      "риве\n",
      "Пие\n",
      "Привет\n",
      "Привет\n"
     ]
    }
   ],
   "source": [
    "# Извлечение среза\n",
    "# Оператор извлечения среза: [start:stop:step]. start – начало среза, а stop – окончание, step - шаг;\n",
    "# символ с номером stop в срез не входит. По умолчанию первый индекс равен 0, а второй - длине строки.\n",
    "\n",
    "\n",
    "s = \"Привет\"\n",
    "print(s)\n",
    "\n",
    "print(s[:])\n",
    "print(s[1:-1]) # с первого (нумерация с нуля) до последнего, не включая последний\n",
    "print(s[::2]) # каждый второй символ от начала и до конца\n",
    "\n",
    "print(s[:1000000000]) # такое можно делать, питон делает автоматическую проверку на выход за границы\n",
    "\n",
    "print(s[:1000000000])"
   ]
  },
  {
   "cell_type": "markdown",
   "metadata": {
    "ExecuteTime": {
     "end_time": "2019-02-28T13:09:51.370045Z",
     "start_time": "2019-02-28T13:09:51.354914Z"
    }
   },
   "source": [
    "    1. Как вы думаете, что будет, если сделать s[1000:100000]?\n",
    "    2. Попробуйте инвертировать строку срезом. Привет -> тевирП"
   ]
  },
  {
   "cell_type": "code",
   "execution_count": 21,
   "metadata": {
    "ExecuteTime": {
     "end_time": "2019-02-28T13:09:51.387609Z",
     "start_time": "2019-02-28T13:09:51.371672Z"
    }
   },
   "outputs": [
    {
     "name": "stdout",
     "output_type": "stream",
     "text": [
      "True\n",
      "True\n",
      "False\n",
      "False\n"
     ]
    }
   ],
   "source": [
    "#Можно проверять содежимое строки\n",
    "s = \"12\"\n",
    "print(s.isdigit())\n",
    "print(s.isdecimal())\n",
    "print(s.isspace())\n",
    "print(s.islower())"
   ]
  },
  {
   "cell_type": "code",
   "execution_count": null,
   "metadata": {},
   "outputs": [],
   "source": [
    "# По строкам можно итерироваться\n",
    "# char = string[i], print(char)\n",
    "for char in 'СТрока':\n",
    "    print(char)"
   ]
  },
  {
   "cell_type": "code",
   "execution_count": null,
   "metadata": {},
   "outputs": [],
   "source": [
    "# Напишите функцию для вывода символов строки"
   ]
  },
  {
   "cell_type": "markdown",
   "metadata": {},
   "source": [
    "# https://pythonworld.ru/tipy-dannyx-v-python/stroki-funkcii-i-metody-strok.html"
   ]
  },
  {
   "cell_type": "markdown",
   "metadata": {},
   "source": [
    "## Проверим можем ли мы что-то делать со строками"
   ]
  },
  {
   "cell_type": "code",
   "execution_count": 23,
   "metadata": {
    "ExecuteTime": {
     "end_time": "2019-02-28T13:09:51.414599Z",
     "start_time": "2019-02-28T13:09:51.406791Z"
    }
   },
   "outputs": [],
   "source": [
    "# можно загуглить методы строк\n",
    "def string_normalizer(input_str):\n",
    "    #TODO Привести строку в вид: Заглавная первая буква, отсутствие лишних пробелов \n",
    "    return input_str"
   ]
  },
  {
   "cell_type": "code",
   "execution_count": 24,
   "metadata": {
    "ExecuteTime": {
     "end_time": "2019-02-28T13:09:51.434714Z",
     "start_time": "2019-02-28T13:09:51.416401Z"
    }
   },
   "outputs": [
    {
     "ename": "AssertionError",
     "evalue": "",
     "output_type": "error",
     "traceback": [
      "\u001b[0;31m---------------------------------------------------------------------------\u001b[0m",
      "\u001b[0;31mAssertionError\u001b[0m                            Traceback (most recent call last)",
      "\u001b[0;32m<ipython-input-24-57cc6f4bd19e>\u001b[0m in \u001b[0;36m<module>\u001b[0;34m\u001b[0m\n\u001b[0;32m----> 1\u001b[0;31m \u001b[0;32massert\u001b[0m \u001b[0mstring_normalizer\u001b[0m\u001b[0;34m(\u001b[0m\u001b[0;34m\"просто строка\"\u001b[0m\u001b[0;34m)\u001b[0m \u001b[0;34m==\u001b[0m \u001b[0;34m\"Просто строка\"\u001b[0m\u001b[0;34m\u001b[0m\u001b[0;34m\u001b[0m\u001b[0m\n\u001b[0m\u001b[1;32m      2\u001b[0m \u001b[0;32massert\u001b[0m \u001b[0mstring_normalizer\u001b[0m\u001b[0;34m(\u001b[0m\u001b[0;34m\"         пробелы  вперели       \"\u001b[0m\u001b[0;34m)\u001b[0m \u001b[0;34m==\u001b[0m \u001b[0;34m\"Пробелы  вперели\"\u001b[0m\u001b[0;34m\u001b[0m\u001b[0;34m\u001b[0m\u001b[0m\n\u001b[1;32m      3\u001b[0m \u001b[0;32massert\u001b[0m \u001b[0mstring_normalizer\u001b[0m\u001b[0;34m(\u001b[0m\u001b[0;34m\"Нормальная строка\"\u001b[0m\u001b[0;34m)\u001b[0m \u001b[0;34m==\u001b[0m \u001b[0;34m\"Нормальная строка\"\u001b[0m\u001b[0;34m\u001b[0m\u001b[0;34m\u001b[0m\u001b[0m\n\u001b[1;32m      4\u001b[0m \u001b[0;32massert\u001b[0m \u001b[0mstring_normalizer\u001b[0m\u001b[0;34m(\u001b[0m\u001b[0;34m\"\\tну и табы\\t\"\u001b[0m\u001b[0;34m)\u001b[0m \u001b[0;34m==\u001b[0m \u001b[0;34m\"Ну и табы\"\u001b[0m\u001b[0;34m\u001b[0m\u001b[0;34m\u001b[0m\u001b[0m\n",
      "\u001b[0;31mAssertionError\u001b[0m: "
     ]
    }
   ],
   "source": [
    "assert string_normalizer(\"просто строка\") == \"Просто строка\"\n",
    "assert string_normalizer(\"         пробелы  вперели       \") == \"Пробелы  вперели\"\n",
    "assert string_normalizer(\"Нормальная строка\") == \"Нормальная строка\"\n",
    "assert string_normalizer(\"\\tну и табы\\t\") == \"Ну и табы\""
   ]
  },
  {
   "cell_type": "markdown",
   "metadata": {},
   "source": [
    "## Булев тип данных"
   ]
  },
  {
   "cell_type": "code",
   "execution_count": 25,
   "metadata": {},
   "outputs": [
    {
     "name": "stdout",
     "output_type": "stream",
     "text": [
      "<class 'bool'>\n",
      "4440172984 4440172984\n"
     ]
    }
   ],
   "source": [
    "print(type(False))\n",
    "\n",
    "# существует в единственном экземпляре\n",
    "a = True\n",
    "b = True\n",
    "print(id(a), id(b))"
   ]
  },
  {
   "cell_type": "code",
   "execution_count": 26,
   "metadata": {},
   "outputs": [
    {
     "name": "stdout",
     "output_type": "stream",
     "text": [
      "False\n",
      "False\n",
      "False\n",
      "True\n"
     ]
    }
   ],
   "source": [
    "# операторы ==, >=, <=, != проверяет равенство значений по адресу\n",
    "a = 100\n",
    "b = 200\n",
    "print(a == b)\n",
    "\n",
    "a = 10000\n",
    "b = 10000\n",
    "print(a == b)\n",
    "\n",
    "# оператор is проверяет равенство адресов\n",
    "a = 100\n",
    "b = 200\n",
    "print(a is b) # По сути это id(a) == id(b)\n",
    "\n",
    "a = 10000\n",
    "b = 10000\n",
    "print(a is b)"
   ]
  },
  {
   "cell_type": "code",
   "execution_count": 27,
   "metadata": {},
   "outputs": [
    {
     "name": "stdout",
     "output_type": "stream",
     "text": [
      "2\n",
      "1\n",
      "0\n"
     ]
    },
    {
     "ename": "ZeroDivisionError",
     "evalue": "division by zero",
     "output_type": "error",
     "traceback": [
      "\u001b[0;31m---------------------------------------------------------------------------\u001b[0m",
      "\u001b[0;31mZeroDivisionError\u001b[0m                         Traceback (most recent call last)",
      "\u001b[0;32m<ipython-input-27-5d130ed06de0>\u001b[0m in \u001b[0;36m<module>\u001b[0;34m\u001b[0m\n\u001b[1;32m      2\u001b[0m \u001b[0mprint\u001b[0m\u001b[0;34m(\u001b[0m\u001b[0;32mTrue\u001b[0m \u001b[0;34m+\u001b[0m \u001b[0;32mFalse\u001b[0m\u001b[0;34m)\u001b[0m\u001b[0;34m\u001b[0m\u001b[0;34m\u001b[0m\u001b[0m\n\u001b[1;32m      3\u001b[0m \u001b[0mprint\u001b[0m\u001b[0;34m(\u001b[0m\u001b[0;32mTrue\u001b[0m \u001b[0;34m*\u001b[0m \u001b[0;32mFalse\u001b[0m\u001b[0;34m)\u001b[0m\u001b[0;34m\u001b[0m\u001b[0;34m\u001b[0m\u001b[0m\n\u001b[0;32m----> 4\u001b[0;31m \u001b[0mprint\u001b[0m\u001b[0;34m(\u001b[0m\u001b[0;32mTrue\u001b[0m \u001b[0;34m/\u001b[0m \u001b[0;32mFalse\u001b[0m\u001b[0;34m)\u001b[0m\u001b[0;34m\u001b[0m\u001b[0;34m\u001b[0m\u001b[0m\n\u001b[0m",
      "\u001b[0;31mZeroDivisionError\u001b[0m: division by zero"
     ]
    }
   ],
   "source": [
    "print(True + True)\n",
    "print(True + False)\n",
    "print(True * False)\n",
    "print(True / False)"
   ]
  },
  {
   "cell_type": "code",
   "execution_count": 25,
   "metadata": {},
   "outputs": [
    {
     "data": {
      "text/plain": [
       "(1, 0)"
      ]
     },
     "execution_count": 25,
     "metadata": {},
     "output_type": "execute_result"
    }
   ],
   "source": [
    "int(True), int(False)"
   ]
  },
  {
   "cell_type": "code",
   "execution_count": 28,
   "metadata": {},
   "outputs": [
    {
     "name": "stdout",
     "output_type": "stream",
     "text": [
      "True\n",
      "False\n"
     ]
    }
   ],
   "source": [
    "# Как вы думаете, почему так?\n",
    "a = 5\n",
    "b = 5\n",
    "print(a is b)\n",
    "\n",
    "a = 1000\n",
    "b = 1000\n",
    "print(a is b)"
   ]
  },
  {
   "cell_type": "code",
   "execution_count": 29,
   "metadata": {},
   "outputs": [],
   "source": [
    "### [-5, 256]"
   ]
  },
  {
   "cell_type": "code",
   "execution_count": null,
   "metadata": {},
   "outputs": [],
   "source": [
    "# Составление булевых выражений\n",
    "# 1. ИЛИ\n",
    "# 2. И\n",
    "# 3. XOR\n"
   ]
  },
  {
   "cell_type": "code",
   "execution_count": null,
   "metadata": {},
   "outputs": [],
   "source": [
    "# if, оператор ветвления, необходимо, чтобы выполнялся не весь код последовательно, а только при выполнении какого-то\n",
    "# условия\n",
    "# Пример: Функция, возвращающая само число, если это число больше нуля\n",
    "# if <bool>: <code> else:\n",
    "\n",
    "def if_then_else_calculator(a, b, operator):\n",
    "    #TODO создадим простой калькулятор, который принимает a, b - числа (проверять не нужно!)\n",
    "    #и operator в виде строки \"plus\", \"minus\", \"divide\", \"mult\", \"pow\"\n",
    "    if operator == \"plus\":\n",
    "        return 0\n",
    "    if operator == \"minus\":\n",
    "        return 0\n",
    "    if operator == \"divide\":\n",
    "        return 0\n",
    "    if operator == \"mult\":\n",
    "        return 0\n",
    "    if operator == \"pow\":\n",
    "        return 0\n",
    "    raise ValueError(\"Bad operator call\")\n",
    "\n",
    "\n",
    "assert if_then_else_calculator(5, 877777777777777777777, \"plus\") == 877777777777777777782\n",
    "assert if_then_else_calculator(3467, 4987., \"plus\") == 8454.\n",
    "assert if_then_else_calculator(1000, 100, 'minus') == 900\n",
    "assert if_then_else_calculator(1000., 2000, 'minus') == -1000\n",
    "assert if_then_else_calculator(0., 100., 'minus') == -100\n",
    "assert if_then_else_calculator(1000, 100, 'mult') == 100000\n",
    "assert if_then_else_calculator(-2., 100, 'mult') == -200.\n",
    "assert if_then_else_calculator(-15., -2, 'mult') == 30.\n",
    "assert if_then_else_calculator(0., 100., 'mult') == 0.\n",
    "assert if_then_else_calculator(15, 3, 'divide') == 5\n",
    "assert if_then_else_calculator(7., 2., 'divide') == 3.5\n",
    "assert if_then_else_calculator(15, 3, 'pow') == 3375\n",
    "assert if_then_else_calculator(7., 2., 'pow') == 49."
   ]
  },
  {
   "cell_type": "code",
   "execution_count": null,
   "metadata": {},
   "outputs": [],
   "source": [
    "# Давайте с вами по-другому решим второе задание pythonchallenge, но сперва узнаем что такое циклы"
   ]
  },
  {
   "cell_type": "markdown",
   "metadata": {},
   "source": [
    "## Объект None\n",
    "\n",
    "    Ключевое слово null обычно используется во многих языках программирования, таких как Java, C++, C# и   JavaScript. Это значение, которое присваивается переменной.\n",
    "\n",
    "    Концепция ключевого слова null в том, что она дает переменной нейтральное или \"нулевое\" поведение."
   ]
  },
  {
   "cell_type": "code",
   "execution_count": 30,
   "metadata": {},
   "outputs": [
    {
     "name": "stdout",
     "output_type": "stream",
     "text": [
      "None <class 'NoneType'>\n"
     ]
    }
   ],
   "source": [
    "# Это тоже заранее созданный объект\n",
    "my_none_variable = None\n",
    "\n",
    "print(my_none_variable, type(my_none_variable))"
   ]
  },
  {
   "cell_type": "code",
   "execution_count": 31,
   "metadata": {},
   "outputs": [
    {
     "name": "stdout",
     "output_type": "stream",
     "text": [
      "False\n",
      "False\n"
     ]
    }
   ],
   "source": [
    "a = 10\n",
    "print(a is None) # вот так делать можно, адрес у него один поэтому это всегда корректно\n",
    "print(a == None) # так лучше не делать"
   ]
  },
  {
   "cell_type": "markdown",
   "metadata": {},
   "source": [
    "## Массивы\n",
    "\n",
    "Массивов в python как таковых нет. Есть понятие списка, у которого под капотом лежит динамический массив.\n",
    "У массивов есть определенный набор методов. Рассмотрим их ниже"
   ]
  },
  {
   "cell_type": "code",
   "execution_count": 32,
   "metadata": {
    "ExecuteTime": {
     "end_time": "2019-02-28T13:10:08.201391Z",
     "start_time": "2019-02-28T13:10:08.191342Z"
    }
   },
   "outputs": [],
   "source": [
    "#Список можно создать множеством способов, вот некоторые из них\n",
    "# Доступ по индексу a[0], a[1], ИЗМЕНЯЕМЫЕ! Что происходит при изменении?\n",
    "a = []\n",
    "a = list()\n",
    "a = [1, 2, 'яблоко']\n",
    "# a = [i for i in range(10)]\n",
    "a = [0] * 5"
   ]
  },
  {
   "cell_type": "markdown",
   "metadata": {},
   "source": [
    "Напишите функцию change(lst), которая принимает список и меняет местами его первый и последний элемент. \n",
    "В исходном списке минимум 2 элемента."
   ]
  },
  {
   "cell_type": "code",
   "execution_count": 20,
   "metadata": {},
   "outputs": [
    {
     "data": {
      "text/plain": [
       "['Ivan', 'Masha', 'Sasha', 'Olga', 'O', 'l', 'g', 'a']"
      ]
     },
     "execution_count": 20,
     "metadata": {},
     "output_type": "execute_result"
    }
   ],
   "source": [
    "# сколько элементов будет выведено?\n",
    "students = ['Ivan', 'Masha', 'Sasha']\n",
    "students += ['Olga']\n",
    "students += 'Olga' \n",
    "students"
   ]
  },
  {
   "cell_type": "code",
   "execution_count": 33,
   "metadata": {
    "ExecuteTime": {
     "end_time": "2019-02-28T13:10:08.214497Z",
     "start_time": "2019-02-28T13:10:08.206224Z"
    }
   },
   "outputs": [
    {
     "name": "stdout",
     "output_type": "stream",
     "text": [
      "3\n",
      "[3, 4, 5]\n",
      "3 4 5\n"
     ]
    }
   ],
   "source": [
    "#Вывести массив можно по-разному, как через print, так и преобразовав его\n",
    "a = [3, 4, 5]\n",
    "print(len(a))\n",
    "print(a)\n",
    "# print(\" \".join(str(i) for i in a))"
   ]
  },
  {
   "cell_type": "code",
   "execution_count": 35,
   "metadata": {
    "ExecuteTime": {
     "end_time": "2019-02-28T13:10:08.243788Z",
     "start_time": "2019-02-28T13:10:08.232549Z"
    }
   },
   "outputs": [
    {
     "name": "stdout",
     "output_type": "stream",
     "text": [
      "[0, 0.0, 'строка', False, <function <lambda> at 0x7fd53e938310>]\n",
      "   строка для нормализации\n"
     ]
    }
   ],
   "source": [
    "#К списку можно добавлять элементы, как в конец так и вставлять в середину\n",
    "a = []\n",
    "a.append(0)\n",
    "a.append(\"строка\")\n",
    "a.append(False)\n",
    "a.insert(1, 0.)\n",
    "print(a)\n",
    "print(a[4](\"   строка для нормализации\"))"
   ]
  },
  {
   "cell_type": "code",
   "execution_count": 34,
   "metadata": {
    "ExecuteTime": {
     "end_time": "2019-02-28T13:10:08.230021Z",
     "start_time": "2019-02-28T13:10:08.217267Z"
    }
   },
   "outputs": [
    {
     "name": "stdout",
     "output_type": "stream",
     "text": [
      "[0, 1, 2, 3, 4, 5, 6, 7, 8, 9]\n",
      "[0, 1, 2, 3]\n",
      "[0, 2, 4, 6, 8]\n",
      "[9, 8, 7, 6, 5, 4, 3, 2, 1, 0]\n"
     ]
    }
   ],
   "source": [
    "#Можно делать срезы списка, указывает list[a:b:c] a-первый индекс, b-последний индекс не включая, c-шаг\n",
    "a = [i for i in range(10)] # Рассказать про функцию range\n",
    "print(a)\n",
    "print(a[0:4])\n",
    "print(a[::2])\n",
    "print(a[::-1])\n",
    "\n",
    "# Перепишите через цикл и append добавление [i for i in range(10)]"
   ]
  },
  {
   "cell_type": "code",
   "execution_count": 36,
   "metadata": {
    "ExecuteTime": {
     "end_time": "2019-02-28T13:10:08.258276Z",
     "start_time": "2019-02-28T13:10:08.246201Z"
    }
   },
   "outputs": [
    {
     "name": "stdout",
     "output_type": "stream",
     "text": [
      "[0.0, 1.2, 3.4, 'строка']\n",
      "[0.0, 3.4, 'строка']\n",
      "[0.0, 3.4, 'новое значение']\n"
     ]
    }
   ],
   "source": [
    "#Элементы списка можно удалять, переопределять\n",
    "a = [0., 1.2, 3.4, \"строка\"]\n",
    "print(a)\n",
    "a.remove(1.2)\n",
    "print(a)\n",
    "a[2] = \"новое значение\"\n",
    "print(a)"
   ]
  },
  {
   "cell_type": "code",
   "execution_count": 38,
   "metadata": {
    "ExecuteTime": {
     "end_time": "2019-02-28T13:10:08.309815Z",
     "start_time": "2019-02-28T13:10:08.278801Z"
    }
   },
   "outputs": [
    {
     "name": "stdout",
     "output_type": "stream",
     "text": [
      "[100000000, 2, 3]\n",
      "[100000000, 2, 3]\n",
      "[-1, 2, 3]\n",
      "[100000000, 2, 3]\n",
      "[1, 2, [-1, 4]]\n",
      "[1, 2, [-1, 4]]\n"
     ]
    }
   ],
   "source": [
    "#Копирование списков!\n",
    "a = [1, 2, 3]\n",
    "b = a\n",
    "a[0]=100000000\n",
    "print(a)\n",
    "print(b)\n",
    "\n",
    "b = a[::] #аналогично вызову a.copy()\n",
    "a[0] = -1\n",
    "print(a)\n",
    "print(b)\n",
    "\n",
    "a = [1, 2, [3, 4]]\n",
    "b = a[::] \n",
    "a[2][0] = -1\n",
    "print(a)\n",
    "print(b)"
   ]
  },
  {
   "cell_type": "code",
   "execution_count": 39,
   "metadata": {
    "ExecuteTime": {
     "end_time": "2019-02-28T13:10:08.321335Z",
     "start_time": "2019-02-28T13:10:08.312173Z"
    }
   },
   "outputs": [
    {
     "name": "stdout",
     "output_type": "stream",
     "text": [
      "[0, 1, 2, 3]\n",
      "[]\n"
     ]
    }
   ],
   "source": [
    "#Очистка списка\n",
    "a = [0, 1, 2, 3]\n",
    "print(a)\n",
    "a.clear()\n",
    "print(a)"
   ]
  },
  {
   "cell_type": "markdown",
   "metadata": {},
   "source": [
    "### Проверим умеем ли мы что-то делать со списками"
   ]
  },
  {
   "cell_type": "code",
   "execution_count": 40,
   "metadata": {
    "ExecuteTime": {
     "end_time": "2019-02-28T13:10:08.335907Z",
     "start_time": "2019-02-28T13:10:08.322831Z"
    }
   },
   "outputs": [],
   "source": [
    "def list_calculator(a, operation, b=[]):\n",
    "    '''\n",
    "    :param a: список\n",
    "    :param operation: операция над массивом\n",
    "    :param b: опциональный параметр - список\n",
    "    :return преобразованный массив\n",
    "    Если operation \"revert\" возвращаться должен инвертированный массив a\n",
    "    operation == \"sum_ar\" должен возвращаться массив - результат сложения массивов a и b\n",
    "    operation == \"append\" должен возвращаться массив - результат добавления массива b к массиву a\n",
    "    operation == \"insert\" должен возвращаться массив с массивом b на 0 позиции массива a\n",
    "    '''\n",
    "    if operation == \"revert\":\n",
    "        return 0\n",
    "    if operation == \"sum_ar\":\n",
    "        return 0\n",
    "    if operation == \"append\":\n",
    "        return 0\n",
    "    if operation == \"insert\":\n",
    "        return 0\n",
    "    return a"
   ]
  },
  {
   "cell_type": "code",
   "execution_count": 41,
   "metadata": {
    "ExecuteTime": {
     "end_time": "2019-02-28T13:10:08.360803Z",
     "start_time": "2019-02-28T13:10:08.337941Z"
    }
   },
   "outputs": [
    {
     "ename": "AssertionError",
     "evalue": "",
     "output_type": "error",
     "traceback": [
      "\u001b[0;31m---------------------------------------------------------------------------\u001b[0m",
      "\u001b[0;31mAssertionError\u001b[0m                            Traceback (most recent call last)",
      "\u001b[0;32m<ipython-input-41-ba87b1343600>\u001b[0m in \u001b[0;36m<module>\u001b[0;34m\u001b[0m\n\u001b[0;32m----> 1\u001b[0;31m \u001b[0;32massert\u001b[0m \u001b[0mlist_calculator\u001b[0m\u001b[0;34m(\u001b[0m\u001b[0;34m[\u001b[0m\u001b[0;36m0\u001b[0m\u001b[0;34m,\u001b[0m \u001b[0;36m1\u001b[0m\u001b[0;34m,\u001b[0m \u001b[0;36m2\u001b[0m\u001b[0;34m]\u001b[0m\u001b[0;34m,\u001b[0m \u001b[0;34m\"revert\"\u001b[0m\u001b[0;34m)\u001b[0m \u001b[0;34m==\u001b[0m \u001b[0;34m[\u001b[0m\u001b[0;36m2\u001b[0m\u001b[0;34m,\u001b[0m \u001b[0;36m1\u001b[0m\u001b[0;34m,\u001b[0m \u001b[0;36m0\u001b[0m\u001b[0;34m]\u001b[0m\u001b[0;34m\u001b[0m\u001b[0;34m\u001b[0m\u001b[0m\n\u001b[0m\u001b[1;32m      2\u001b[0m \u001b[0;32massert\u001b[0m \u001b[0mlist_calculator\u001b[0m\u001b[0;34m(\u001b[0m\u001b[0;34m[\u001b[0m\u001b[0;34m-\u001b[0m\u001b[0;36m3\u001b[0m\u001b[0;34m]\u001b[0m\u001b[0;34m,\u001b[0m \u001b[0;34m\"revert\"\u001b[0m\u001b[0;34m)\u001b[0m \u001b[0;34m==\u001b[0m \u001b[0;34m[\u001b[0m\u001b[0;34m-\u001b[0m\u001b[0;36m3\u001b[0m\u001b[0;34m]\u001b[0m\u001b[0;34m\u001b[0m\u001b[0;34m\u001b[0m\u001b[0m\n\u001b[1;32m      3\u001b[0m \u001b[0;32massert\u001b[0m \u001b[0mlist_calculator\u001b[0m\u001b[0;34m(\u001b[0m\u001b[0;34m[\u001b[0m\u001b[0;36m0\u001b[0m\u001b[0;34m,\u001b[0m \u001b[0;36m1\u001b[0m\u001b[0;34m]\u001b[0m\u001b[0;34m,\u001b[0m \u001b[0;34m\"append\"\u001b[0m\u001b[0;34m,\u001b[0m \u001b[0;34m[\u001b[0m\u001b[0;36m3\u001b[0m\u001b[0;34m,\u001b[0m \u001b[0;36m4\u001b[0m\u001b[0;34m]\u001b[0m\u001b[0;34m)\u001b[0m \u001b[0;34m==\u001b[0m \u001b[0;34m[\u001b[0m\u001b[0;36m0\u001b[0m\u001b[0;34m,\u001b[0m \u001b[0;36m1\u001b[0m\u001b[0;34m,\u001b[0m \u001b[0;34m[\u001b[0m\u001b[0;36m3\u001b[0m\u001b[0;34m,\u001b[0m \u001b[0;36m4\u001b[0m\u001b[0;34m]\u001b[0m\u001b[0;34m]\u001b[0m\u001b[0;34m\u001b[0m\u001b[0;34m\u001b[0m\u001b[0m\n\u001b[1;32m      4\u001b[0m \u001b[0;32massert\u001b[0m \u001b[0mlist_calculator\u001b[0m\u001b[0;34m(\u001b[0m\u001b[0;34m[\u001b[0m\u001b[0;36m0\u001b[0m\u001b[0;34m,\u001b[0m \u001b[0;36m100\u001b[0m\u001b[0;34m,\u001b[0m \u001b[0;34m-\u001b[0m\u001b[0;36m34\u001b[0m\u001b[0;34m]\u001b[0m\u001b[0;34m,\u001b[0m \u001b[0;34m\"append\"\u001b[0m\u001b[0;34m,\u001b[0m \u001b[0;34m[\u001b[0m\u001b[0;36m0\u001b[0m\u001b[0;34m]\u001b[0m\u001b[0;34m)\u001b[0m \u001b[0;34m==\u001b[0m \u001b[0;34m[\u001b[0m\u001b[0;36m0\u001b[0m\u001b[0;34m,\u001b[0m \u001b[0;36m100\u001b[0m\u001b[0;34m,\u001b[0m \u001b[0;34m-\u001b[0m\u001b[0;36m34\u001b[0m\u001b[0;34m,\u001b[0m \u001b[0;34m[\u001b[0m\u001b[0;36m0\u001b[0m\u001b[0;34m]\u001b[0m\u001b[0;34m]\u001b[0m\u001b[0;34m\u001b[0m\u001b[0;34m\u001b[0m\u001b[0m\n\u001b[1;32m      5\u001b[0m \u001b[0;32massert\u001b[0m \u001b[0mlist_calculator\u001b[0m\u001b[0;34m(\u001b[0m\u001b[0;34m[\u001b[0m\u001b[0;36m0\u001b[0m\u001b[0;34m,\u001b[0m \u001b[0;34m-\u001b[0m\u001b[0;36m10\u001b[0m\u001b[0;34m,\u001b[0m \u001b[0;34m-\u001b[0m\u001b[0;36m4\u001b[0m\u001b[0;34m]\u001b[0m\u001b[0;34m,\u001b[0m \u001b[0;34m\"append\"\u001b[0m\u001b[0;34m)\u001b[0m \u001b[0;34m==\u001b[0m \u001b[0;34m[\u001b[0m\u001b[0;36m0\u001b[0m\u001b[0;34m,\u001b[0m \u001b[0;34m-\u001b[0m\u001b[0;36m10\u001b[0m\u001b[0;34m,\u001b[0m \u001b[0;34m-\u001b[0m\u001b[0;36m4\u001b[0m\u001b[0;34m,\u001b[0m \u001b[0;34m[\u001b[0m\u001b[0;34m]\u001b[0m\u001b[0;34m]\u001b[0m\u001b[0;34m\u001b[0m\u001b[0;34m\u001b[0m\u001b[0m\n",
      "\u001b[0;31mAssertionError\u001b[0m: "
     ]
    }
   ],
   "source": [
    "assert list_calculator([0, 1, 2], \"revert\") == [2, 1, 0]\n",
    "assert list_calculator([-3], \"revert\") == [-3]\n",
    "assert list_calculator([0, 1], \"append\", [3, 4]) == [0, 1, [3, 4]]\n",
    "assert list_calculator([0, 100, -34], \"append\", [0]) == [0, 100, -34, [0]]\n",
    "assert list_calculator([0, -10, -4], \"append\") == [0, -10, -4, []]\n",
    "assert list_calculator([10], \"sum_ar\") == [10]\n",
    "assert list_calculator([10, -2], \"sum_ar\", [0, -2]) == [10, -2, 0, -2]\n",
    "assert list_calculator([100, 200], \"insert\") == [[], 100, 200]\n",
    "assert list_calculator([-3, 400], \"insert\", [-45, 12]) == [[-45, 12], -3, 400]"
   ]
  },
  {
   "cell_type": "code",
   "execution_count": null,
   "metadata": {},
   "outputs": [],
   "source": [
    "# Функцию поиска максимального элемента. Сразу скажу что понадобится if и цикл."
   ]
  },
  {
   "cell_type": "markdown",
   "metadata": {},
   "source": [
    "## Кортежи (tuple)\n",
    "\n",
    "Неизменемые упорядоченные значения"
   ]
  },
  {
   "cell_type": "code",
   "execution_count": 26,
   "metadata": {
    "ExecuteTime": {
     "end_time": "2019-02-28T13:10:17.708828Z",
     "start_time": "2019-02-28T13:10:17.700476Z"
    }
   },
   "outputs": [
    {
     "name": "stdout",
     "output_type": "stream",
     "text": [
      "()\n",
      "(1, 2)\n"
     ]
    },
    {
     "ename": "TypeError",
     "evalue": "'tuple' object does not support item assignment",
     "output_type": "error",
     "traceback": [
      "\u001b[0;31m---------------------------------------------------------------------------\u001b[0m",
      "\u001b[0;31mTypeError\u001b[0m                                 Traceback (most recent call last)",
      "\u001b[0;32m<ipython-input-26-b06ed472396b>\u001b[0m in \u001b[0;36m<module>\u001b[0;34m\u001b[0m\n\u001b[1;32m      3\u001b[0m \u001b[0ma\u001b[0m \u001b[0;34m=\u001b[0m \u001b[0;34m(\u001b[0m\u001b[0;36m1\u001b[0m\u001b[0;34m,\u001b[0m \u001b[0;36m2\u001b[0m\u001b[0;34m)\u001b[0m\u001b[0;34m\u001b[0m\u001b[0;34m\u001b[0m\u001b[0m\n\u001b[1;32m      4\u001b[0m \u001b[0mprint\u001b[0m\u001b[0;34m(\u001b[0m\u001b[0ma\u001b[0m\u001b[0;34m)\u001b[0m\u001b[0;34m\u001b[0m\u001b[0;34m\u001b[0m\u001b[0m\n\u001b[0;32m----> 5\u001b[0;31m \u001b[0ma\u001b[0m\u001b[0;34m[\u001b[0m\u001b[0;36m0\u001b[0m\u001b[0;34m]\u001b[0m \u001b[0;34m=\u001b[0m \u001b[0;36m2\u001b[0m\u001b[0;34m\u001b[0m\u001b[0;34m\u001b[0m\u001b[0m\n\u001b[0m",
      "\u001b[0;31mTypeError\u001b[0m: 'tuple' object does not support item assignment"
     ]
    }
   ],
   "source": [
    "a = tuple()\n",
    "print(a)\n",
    "a = (1, 2)\n",
    "print(a)\n",
    "a[0] = 2"
   ]
  },
  {
   "cell_type": "code",
   "execution_count": 43,
   "metadata": {
    "ExecuteTime": {
     "end_time": "2019-02-28T13:10:17.721075Z",
     "start_time": "2019-02-28T13:10:17.710911Z"
    }
   },
   "outputs": [
    {
     "name": "stdout",
     "output_type": "stream",
     "text": [
      "1 3\n",
      "3\n"
     ]
    }
   ],
   "source": [
    "#С кортежами работают все методы списков, которые не изменяют содержимое\n",
    "a = (1, 2, 3)\n",
    "print(a[0], a[2])\n",
    "print(len(a))"
   ]
  },
  {
   "cell_type": "code",
   "execution_count": 44,
   "metadata": {
    "ExecuteTime": {
     "end_time": "2019-02-28T13:10:17.732023Z",
     "start_time": "2019-02-28T13:10:17.722984Z"
    }
   },
   "outputs": [
    {
     "name": "stdout",
     "output_type": "stream",
     "text": [
      "3\n",
      "1\n"
     ]
    }
   ],
   "source": [
    "#Например, аналогично спискам можем посчитать встречаемость объекта или индекс первого появления объекта\n",
    "t = (1, 2, 4, 1, 3, 2, 1)\n",
    "print(t.count(1))\n",
    "print(t.index(2))"
   ]
  },
  {
   "cell_type": "code",
   "execution_count": 45,
   "metadata": {
    "ExecuteTime": {
     "end_time": "2019-02-28T13:10:17.742753Z",
     "start_time": "2019-02-28T13:10:17.734094Z"
    }
   },
   "outputs": [
    {
     "name": "stdout",
     "output_type": "stream",
     "text": [
      "5\n",
      "3\n"
     ]
    }
   ],
   "source": [
    "#Легендарный питоновский swap переменных\n",
    "# Напишите функцию swap, сперва\n",
    "\n",
    "a = 3\n",
    "b = 5\n",
    "a, b = b, a\n",
    "print(a)\n",
    "print(b)"
   ]
  },
  {
   "cell_type": "markdown",
   "metadata": {},
   "source": [
    "## Словарь (dict)\n",
    "\n",
    "Словарь - это пары неизменяемый ключ и значение"
   ]
  },
  {
   "cell_type": "code",
   "execution_count": 46,
   "metadata": {
    "ExecuteTime": {
     "end_time": "2019-02-28T13:10:17.758578Z",
     "start_time": "2019-02-28T13:10:17.744356Z"
    }
   },
   "outputs": [],
   "source": [
    "#Создадим словарь\n",
    "d = dict(key=\"value\")\n",
    "d = {\"key\": \"value\"}\n",
    "\n",
    "d = dict([(\"key_1\", \"value_1\"), (\"key_2\", \"value_2\")])\n",
    "d = dict.fromkeys(['key_1', 'key_2'], \"value\")"
   ]
  },
  {
   "cell_type": "code",
   "execution_count": 47,
   "metadata": {
    "ExecuteTime": {
     "end_time": "2019-02-28T13:10:17.769835Z",
     "start_time": "2019-02-28T13:10:17.760490Z"
    }
   },
   "outputs": [],
   "source": [
    "d = {} # = dict()\n",
    "d['one'] = 1\n",
    "d['oone'] = 2"
   ]
  },
  {
   "cell_type": "code",
   "execution_count": 48,
   "metadata": {
    "ExecuteTime": {
     "end_time": "2019-02-28T13:10:17.787053Z",
     "start_time": "2019-02-28T13:10:17.771474Z"
    }
   },
   "outputs": [
    {
     "name": "stdout",
     "output_type": "stream",
     "text": [
      "dict_keys(['key_0', 'key_1', 'key_2', 'key_3', 'key_4', 'key_5', 'key_6', 'key_7', 'key_8', 'key_9'])\n",
      "dict_values(['value', 'value', 'value', 'value', 'value', 'value', 'value', 'value', 'value', 'value'])\n",
      "dict_items([('key_0', 'value'), ('key_1', 'value'), ('key_2', 'value'), ('key_3', 'value'), ('key_4', 'value'), ('key_5', 'value'), ('key_6', 'value'), ('key_7', 'value'), ('key_8', 'value'), ('key_9', 'value')])\n"
     ]
    }
   ],
   "source": [
    "#Посмотрим на ключи, значения и пары ключ-значение. Позднее мы научимся итерироваться по ним\n",
    "d = {\"key_\" + str(i):\"value\" for i in range(10)}\n",
    "print(d.keys())\n",
    "print(d.values())\n",
    "print(d.items())"
   ]
  },
  {
   "cell_type": "code",
   "execution_count": 49,
   "metadata": {
    "ExecuteTime": {
     "end_time": "2019-02-28T13:10:17.797816Z",
     "start_time": "2019-02-28T13:10:17.788725Z"
    }
   },
   "outputs": [
    {
     "name": "stdout",
     "output_type": "stream",
     "text": [
      "<class 'dict_keys'> <class 'dict_values'> <class 'dict_items'>\n"
     ]
    }
   ],
   "source": [
    "print(type(d.keys()), type(d.values()), type(d.items()))"
   ]
  },
  {
   "cell_type": "code",
   "execution_count": 50,
   "metadata": {
    "ExecuteTime": {
     "end_time": "2019-02-28T13:10:17.814752Z",
     "start_time": "2019-02-28T13:10:17.799721Z"
    }
   },
   "outputs": [
    {
     "name": "stdout",
     "output_type": "stream",
     "text": [
      "value_non\n",
      "value\n",
      "new_value\n"
     ]
    }
   ],
   "source": [
    "#Если запросить ключ, который не лежит в мапе через d[], то вылетит ошибка. Лучше использовать get(key, \"default_value\")\n",
    "print(d.get(\"no_key\", \"value_non\"))\n",
    "print(d['key_1'])\n",
    "d['key_1'] = 'new_value'\n",
    "print(d['key_1'])"
   ]
  },
  {
   "cell_type": "code",
   "execution_count": 51,
   "metadata": {
    "ExecuteTime": {
     "end_time": "2019-02-28T13:10:17.825265Z",
     "start_time": "2019-02-28T13:10:17.816487Z"
    }
   },
   "outputs": [
    {
     "name": "stdout",
     "output_type": "stream",
     "text": [
      "{'key_1': 'value_1', 'key_2': 'value_2'}\n",
      "before {'key_1': 'value_1'}\n",
      "after {'key_1': 'value_1', 'key_2': 'value_2'}\n"
     ]
    }
   ],
   "source": [
    "#Бывает нужно \"слить\" два словаря. Можно это сделать по-разному\n",
    "d_1 = {\"key_1\": \"value_1\"}\n",
    "d_2 = {\"key_2\": \"value_2\"}\n",
    "d = dict(d_1, **d_2)\n",
    "d = {**d_1, **d_2}\n",
    "print(d)\n",
    "\n",
    "print('before', d_1)\n",
    "d_1.update(d_2)\n",
    "print('after', d_1)"
   ]
  },
  {
   "cell_type": "code",
   "execution_count": 52,
   "metadata": {},
   "outputs": [
    {
     "data": {
      "text/plain": [
       "{'key_2': 'value_2'}"
      ]
     },
     "execution_count": 52,
     "metadata": {},
     "output_type": "execute_result"
    }
   ],
   "source": [
    "popped_value = d_1.pop('key_1') # возвращает значение И удаляет\n",
    "d_1"
   ]
  },
  {
   "cell_type": "code",
   "execution_count": 53,
   "metadata": {
    "ExecuteTime": {
     "end_time": "2019-02-28T13:10:17.881564Z",
     "start_time": "2019-02-28T13:10:17.875901Z"
    }
   },
   "outputs": [],
   "source": [
    "del d_1['key_2'] # удаляем элемент из словаря"
   ]
  },
  {
   "cell_type": "code",
   "execution_count": 54,
   "metadata": {
    "ExecuteTime": {
     "end_time": "2019-02-28T13:10:17.896860Z",
     "start_time": "2019-02-28T13:10:17.883283Z"
    }
   },
   "outputs": [
    {
     "data": {
      "text/plain": [
       "{}"
      ]
     },
     "execution_count": 54,
     "metadata": {},
     "output_type": "execute_result"
    }
   ],
   "source": [
    "d_1"
   ]
  },
  {
   "cell_type": "code",
   "execution_count": 55,
   "metadata": {},
   "outputs": [],
   "source": [
    "d_1 = {\"key_1\": \"value_1\"}\n",
    "_ = d_1.pop('key_1')"
   ]
  },
  {
   "cell_type": "markdown",
   "metadata": {},
   "source": [
    "https://pythonworld.ru/tipy-dannyx-v-python/slovari-dict-funkcii-i-metody-slovarej.html"
   ]
  },
  {
   "cell_type": "markdown",
   "metadata": {},
   "source": [
    "## Множества (set)\n",
    "\n",
    "Множества реализованы как хеш-таблицы с заглушками вместо элементов-значений. \n",
    "\n",
    "\n",
    "В отличие от массивов, где элементы хранятся в виде последовательного списка, в множествах порядок хранения элементов неопределен (более того, элементы множества хранятся не подряд, как в списке, а при помощи хитрых алгоритмов). Это позволяет выполнять операции типа “проверить принадлежность элемента множеству” быстрее, чем просто перебирая все элементы множества."
   ]
  },
  {
   "cell_type": "code",
   "execution_count": 56,
   "metadata": {
    "ExecuteTime": {
     "end_time": "2019-02-28T13:10:17.907942Z",
     "start_time": "2019-02-28T13:10:17.899070Z"
    }
   },
   "outputs": [
    {
     "name": "stdout",
     "output_type": "stream",
     "text": [
      "{'l', 'e', 'o', 'h'}\n",
      "{'k_1', 'k_2'}\n"
     ]
    }
   ],
   "source": [
    "#Создадим несколько множеств\n",
    "a = set('hello')\n",
    "print(a)\n",
    "a = set([\"k_1\", \"k_1\", \"k_1\", \"k_2\"])\n",
    "print(a)"
   ]
  },
  {
   "cell_type": "code",
   "execution_count": 57,
   "metadata": {
    "ExecuteTime": {
     "end_time": "2019-02-28T13:10:17.927899Z",
     "start_time": "2019-02-28T13:10:17.910646Z"
    }
   },
   "outputs": [
    {
     "name": "stdout",
     "output_type": "stream",
     "text": [
      "{'i', 'q', 'r', 'b', 'c', 'o', 's', 't', 'e', 'u'}\n",
      "{'i', 'q', 'r', 'b', 'c', 'o', 's', 't', 'e', 'u'}\n",
      "{'i', 'q', 'r', 'b', 'c', 'o', 's', 't', 'e', 'u', 'y'}\n",
      "{'i', 'q', 'r', 'b', 'c', 'o', 's', 't', 'u', 'y'}\n",
      "Ошибка\n",
      "Нет ошибки\n"
     ]
    }
   ],
   "source": [
    "#В множество можно добавлять элементы и удалять их оттуда\n",
    "a = set(\"qbitcourse\")\n",
    "print(a)\n",
    "a.add(\"t\")\n",
    "print(a)\n",
    "a.add(\"y\")\n",
    "print(a)\n",
    "a.remove(\"e\")\n",
    "print(a)\n",
    "\n",
    "try:\n",
    "    a.remove(\"z\")\n",
    "except KeyError:\n",
    "    print(\"Ошибка\")\n",
    "    \n",
    "try:\n",
    "    a.discard(\"z\") # удаляем элемент если он существует\n",
    "    print(\"Нет ошибки\")\n",
    "except KeyError:\n",
    "    print(\"Ошибка\")"
   ]
  },
  {
   "cell_type": "code",
   "execution_count": 58,
   "metadata": {
    "ExecuteTime": {
     "end_time": "2019-02-28T13:10:17.951085Z",
     "start_time": "2019-02-28T13:10:17.931552Z"
    }
   },
   "outputs": [
    {
     "name": "stdout",
     "output_type": "stream",
     "text": [
      "{'i', 'q', 'r', 'b', 'c', 'o', 's', 't', 'e', 'u'} {'l', 'o', 't', 'e', 'h'}\n",
      "{'i', 'q', 'r', 'l', 'b', 'c', 'o', 's', 't', 'e', 'h', 'u'}\n",
      "{'t', 'e', 'o'}\n",
      "False\n",
      "{'i', 'q', 'r', 'b', 'c', 's', 'u'}\n",
      "False\n"
     ]
    }
   ],
   "source": [
    "#Над множествами работают все теоретико-множественные операции\n",
    "a = set(\"qbitcourse\")\n",
    "b = set(\"tehello\")\n",
    "print(a, b)\n",
    "\n",
    "#Объединение\n",
    "print(a.union(b))\n",
    "\n",
    "#Пересечение\n",
    "print(a.intersection(b))\n",
    "\n",
    "#Проверка непересечения -True если нет общих элементов\n",
    "print(a.isdisjoint(b))\n",
    "\n",
    "#Вычитание\n",
    "print(a.difference(b))\n",
    "\n",
    "#Проверка вхождения\n",
    "print(\"h\" in a)"
   ]
  },
  {
   "cell_type": "code",
   "execution_count": 59,
   "metadata": {
    "ExecuteTime": {
     "end_time": "2019-02-28T13:10:17.964820Z",
     "start_time": "2019-02-28T13:10:17.953504Z"
    }
   },
   "outputs": [],
   "source": [
    "# Сравним set с list в случае, если нам нужно проводить проверку наличия\n",
    "# в ограниченном списке большого числа элементов\n",
    "# Проверяем if element in set / list\n",
    "\n",
    "num_list = [i for i in range(10000)]\n",
    "num_set = set([i for i in range(10000)])"
   ]
  },
  {
   "cell_type": "code",
   "execution_count": null,
   "metadata": {
    "ExecuteTime": {
     "end_time": "2019-02-28T13:10:17.998376Z",
     "start_time": "2019-02-28T13:10:17.966896Z"
    }
   },
   "outputs": [],
   "source": [
    "%%timeit # магическая команда, помогает измерить время выполнения кода в ячейке\n",
    "\n",
    "counter = 0\n",
    "for i in range(100000):\n",
    "    if i in num_set:\n",
    "        counter += 1"
   ]
  },
  {
   "cell_type": "code",
   "execution_count": null,
   "metadata": {
    "ExecuteTime": {
     "end_time": "2019-02-28T13:10:31.677651Z",
     "start_time": "2019-02-28T13:10:18.000298Z"
    }
   },
   "outputs": [],
   "source": [
    "%%timeit\n",
    "\n",
    "counter = 0\n",
    "for i in range(100000):\n",
    "    if i in num_list:\n",
    "        counter += 1"
   ]
  },
  {
   "cell_type": "code",
   "execution_count": null,
   "metadata": {},
   "outputs": [],
   "source": []
  },
  {
   "cell_type": "code",
   "execution_count": null,
   "metadata": {},
   "outputs": [],
   "source": []
  }
 ],
 "metadata": {
  "kernelspec": {
   "display_name": "Python 3",
   "language": "python",
   "name": "python3"
  },
  "language_info": {
   "codemirror_mode": {
    "name": "ipython",
    "version": 3
   },
   "file_extension": ".py",
   "mimetype": "text/x-python",
   "name": "python",
   "nbconvert_exporter": "python",
   "pygments_lexer": "ipython3",
   "version": "3.8.8"
  }
 },
 "nbformat": 4,
 "nbformat_minor": 2
}

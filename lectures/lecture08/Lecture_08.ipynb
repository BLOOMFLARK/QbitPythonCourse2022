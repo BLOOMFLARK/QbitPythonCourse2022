{
 "cells": [
  {
   "cell_type": "markdown",
   "metadata": {},
   "source": [
    "# Повторение + кортежи. Модули. Задачи\n",
    "# Изменяемые, неизменяемые типы данных"
   ]
  },
  {
   "cell_type": "markdown",
   "metadata": {},
   "source": [
    "# Задачи на списки\n",
    "    1.Инвертировать список\n",
    "    2.Написать функцию подсчета суммы чисел в произвольном списке\n",
    "    3.Функция меняющая местами i, j элементы\n",
    "        def swap_elements(lst, i, j):\n",
    "            pass\n",
    "    4.Написать функцию, которая проходится по всем числам от 1 до 100000 и отдает список только четных числел\n",
    "        def get_only_even_numbers(numbers):\n",
    "            pass\n",
    "    5. # как мне обращаясь к списку lst через [idx] - достать числа 11, 12, 14, 15, \n",
    "        lst=[1, [2, 3, [4, 5, 6, [7, 8, [9, 10, 11], 12, 13], 14], 15, 16]\n",
    "    6. Функцию поиска минимального элемента в списке. У вас дан какой-то произвольный список из чисел,\n",
    "    нужно найти минимальный элемент. ПОнадобится цикл и if.\n",
    "    Алгоритм: пройтись циклом по списку, во временную переменную сохранять минимальное число из просмотренных на данную итерацию, то есть например на 10 итерации мы должны быть уверены, что мы уже знаем минимум списке состоящем из первых 10 элементов\n",
    "    Еще нагляднее:\n",
    "     current_minimum = lst[0], current_minimum = min(lst[0], lst[1]), current_minimum = min(lst[0], lstp[1], lst[2]) и тд\n",
    "     \n",
    "    def find_min(lst):\n",
    "        pass\n",
    "    7. Тоже самое с максимальным элементом\n",
    " \n",
    "# Задачи на словари:\n",
    "    1. Подсчет символов в строке (делали)\n",
    "    2. Скрабл https://proglib.io/p/slovari-v-python-12-zadach-dlya-nachinayushchih-s-resheniyami-2022-01-28\n",
    "    3. Подсчет цифр в строке, сколько и каких цифр в строке. Есть такой метод строк / односимвольных строк 'Моя строка'.isidigit() -> True, False\n",
    "\n",
    "# Boolean\n",
    "    1. Написать функцию xor\n",
    "    XOR: (True, True) -> False, (True, False) -> True, (False, True) -> True, (False, False) -> False\n",
    "    def my_xor(bool1, bool2):\n",
    "        pass\n",
    "\n",
    "# String\n",
    "    1. Функция is_palindrom(str), говорит является ли str палиндромом. \"довод\" -> True, \"кот\" -> False\n",
    "    2. Заменить убрать все пробельные символы в строке. Метод строк - replace.\n",
    "    \n",
    "    \n",
    "# Int\n",
    "    1. Что больше pi**e, или e**p\n",
    "    2. 11 * 2 ** 2 – 13 / 4 + 7. -> порядок операций и что получится\n",
    "    3. Используя стандартные арифметические операции представьте самое большое целое число из цифр 4, 4, 4 и приведите его значение.\n",
    "\n"
   ]
  },
  {
   "cell_type": "markdown",
   "metadata": {},
   "source": [
    "# Повторяем"
   ]
  },
  {
   "cell_type": "markdown",
   "metadata": {},
   "source": [
    "# Еще раз про переменные\n",
    "    https://dvmn.org/encyclopedia/python_basic_level/variables_basics/"
   ]
  },
  {
   "cell_type": "markdown",
   "metadata": {},
   "source": [
    "# Еще раз про функции\n",
    "    https://dvmn.org/encyclopedia/python_basic_level/what_are_functions/"
   ]
  },
  {
   "cell_type": "code",
   "execution_count": null,
   "metadata": {},
   "outputs": [],
   "source": [
    "# Циклы: while, for each, чем отличаются?\n",
    "# Списки: коллекция из объектов, а в питоне - все есть объект, [a, b, 1, 'dasd', dictionary]\n",
    "# Словарь: отображение ключей на значения. {key: value}"
   ]
  },
  {
   "cell_type": "code",
   "execution_count": null,
   "metadata": {},
   "outputs": [],
   "source": [
    "# Операция вхождения \"in\" есть у многих типов данных (у контейнерных и словарей)\n",
    "# 'a' in dictionary - проверяет есть ли ключ 'a' в словаре\n",
    "# 12 in list - проверяет, если ли число 12 (любой объект) в списке\n",
    "# 'строка' in string - проверяет есть ли слово строка в данной строке"
   ]
  },
  {
   "cell_type": "markdown",
   "metadata": {},
   "source": [
    "## Кортежи (tuple)\n",
    "\n",
    "Неизменемые упорядоченные значения"
   ]
  },
  {
   "cell_type": "code",
   "execution_count": null,
   "metadata": {
    "ExecuteTime": {
     "end_time": "2019-02-28T13:10:17.708828Z",
     "start_time": "2019-02-28T13:10:17.700476Z"
    }
   },
   "outputs": [],
   "source": [
    "a = tuple()\n",
    "print(a)\n",
    "a = (1, 2)\n",
    "print(a)\n",
    "a[0] = 2"
   ]
  },
  {
   "cell_type": "markdown",
   "metadata": {},
   "source": [
    "## Множества (set)\n",
    "\n",
    "Множества реализованы как хеш-таблицы с заглушками вместо элементов-значений. \n",
    "\n",
    "\n",
    "В отличие от массивов, где элементы хранятся в виде последовательного списка, в множествах порядок хранения элементов неопределен (более того, элементы множества хранятся не подряд, как в списке, а при помощи хитрых алгоритмов). Это позволяет выполнять операции типа “проверить принадлежность элемента множеству” быстрее, чем просто перебирая все элементы множества."
   ]
  },
  {
   "cell_type": "code",
   "execution_count": null,
   "metadata": {
    "ExecuteTime": {
     "end_time": "2019-02-28T13:10:17.907942Z",
     "start_time": "2019-02-28T13:10:17.899070Z"
    }
   },
   "outputs": [],
   "source": [
    "#Создадим несколько множеств\n",
    "a = set('hello')\n",
    "print(a)\n",
    "a = set([\"k_1\", \"k_1\", \"k_1\", \"k_2\"])\n",
    "print(a)"
   ]
  },
  {
   "cell_type": "code",
   "execution_count": null,
   "metadata": {
    "ExecuteTime": {
     "end_time": "2019-02-28T13:10:17.927899Z",
     "start_time": "2019-02-28T13:10:17.910646Z"
    }
   },
   "outputs": [],
   "source": [
    "#В множество можно добавлять элементы и удалять их оттуда\n",
    "a = set(\"qbitcourse\") # в какой-то степени это список из уникальных элементов\n",
    "print(a)\n",
    "a.add(\"t\")\n",
    "print(a, \"после добавления t\")\n",
    "a.add(\"y\", ' после добавления a')\n",
    "print(a)\n",
    "a.remove(\"e\", \"после удаления a\")\n",
    "print(a)"
   ]
  },
  {
   "cell_type": "code",
   "execution_count": null,
   "metadata": {
    "ExecuteTime": {
     "end_time": "2019-02-28T13:10:17.951085Z",
     "start_time": "2019-02-28T13:10:17.931552Z"
    }
   },
   "outputs": [],
   "source": [
    "#Над множествами работают все теоретико-множественные операции\n",
    "a = set(\"qbitcourse\")\n",
    "b = set(\"tehello\")\n",
    "\n",
    "print(a, b)\n",
    "\n",
    "#Объединение\n",
    "print(a.union(b))\n",
    "\n",
    "#Пересечение\n",
    "print(a.intersection(b))\n",
    "\n",
    "#Проверка непересечения -True если нет общих элементов\n",
    "print(a.isdisjoint(b))\n",
    "\n",
    "#Вычитание\n",
    "print(a.difference(b))\n",
    "\n",
    "#Проверка вхождения\n",
    "print(\"h\" in a)"
   ]
  },
  {
   "cell_type": "code",
   "execution_count": null,
   "metadata": {
    "ExecuteTime": {
     "end_time": "2019-02-28T13:10:17.964820Z",
     "start_time": "2019-02-28T13:10:17.953504Z"
    }
   },
   "outputs": [],
   "source": [
    "# Сравним set с list в случае, если нам нужно проводить проверку наличия\n",
    "# в ограниченном списке большого числа элементов\n",
    "# Проверяем if element in set / list\n",
    "\n",
    "num_list = [i for i in range(10000)]\n",
    "num_set = set([i for i in range(10000)])"
   ]
  },
  {
   "cell_type": "code",
   "execution_count": null,
   "metadata": {
    "ExecuteTime": {
     "end_time": "2019-02-28T13:10:17.998376Z",
     "start_time": "2019-02-28T13:10:17.966896Z"
    }
   },
   "outputs": [],
   "source": [
    "%%timeit # магическая команда, помогает измерить время выполнения кода в ячейке\n",
    "\n",
    "counter = 0\n",
    "for i in range(100000):\n",
    "    if i in num_set:\n",
    "        counter += 1"
   ]
  },
  {
   "cell_type": "code",
   "execution_count": null,
   "metadata": {
    "ExecuteTime": {
     "end_time": "2019-02-28T13:10:31.677651Z",
     "start_time": "2019-02-28T13:10:18.000298Z"
    }
   },
   "outputs": [],
   "source": [
    "%%timeit\n",
    "\n",
    "counter = 0\n",
    "for i in range(100000):\n",
    "    if i in num_list:\n",
    "        counter += 1"
   ]
  },
  {
   "cell_type": "markdown",
   "metadata": {},
   "source": [
    "# Модули"
   ]
  },
  {
   "cell_type": "markdown",
   "metadata": {},
   "source": [
    "    Модуль – кусок кода, который можно использовать в другом коде. В самом простом случае это файл. В любом проекте функциональность разбивается на куски, каждый кусок селится в свой модуль."
   ]
  },
  {
   "cell_type": "code",
   "execution_count": null,
   "metadata": {},
   "outputs": [],
   "source": [
    "# Давайте напишем свой модуль - по сути скрипт, который умеет что-то делать"
   ]
  },
  {
   "cell_type": "code",
   "execution_count": null,
   "metadata": {},
   "outputs": [],
   "source": [
    "import mymodule"
   ]
  },
  {
   "cell_type": "markdown",
   "metadata": {},
   "source": [
    "    Когда Питон видит import mymodule, он находит файл mymodule.py и выполняет его. Реально выполняет: если в нём есть код, он будет выполнен. Даже если это не просто объявления функций, а их вызов."
   ]
  },
  {
   "cell_type": "code",
   "execution_count": null,
   "metadata": {},
   "outputs": [],
   "source": [
    "mymodule.summator(1, 2)"
   ]
  },
  {
   "cell_type": "markdown",
   "metadata": {},
   "source": [
    "    Как питон ищет модули?\n",
    "    Сначала он ищет подходящие файлы в рабочей директории. Если не находит, то проходит по папкам в sys.path и ищет нужный файл."
   ]
  },
  {
   "cell_type": "code",
   "execution_count": null,
   "metadata": {},
   "outputs": [],
   "source": [
    "# Теперь импортируем модуль написанный не мной, а кем-то до меня, не важно кто это, важно что он выложил свой код\n",
    "# вы публичный модуль и я могу его использовать\n",
    "import sys\n",
    "\n",
    "# Вот эти пути, по которым он ищет модули\n",
    "print(sys.path)"
   ]
  },
  {
   "cell_type": "markdown",
   "metadata": {},
   "source": [
    "# Кому интересно почитать - вот ссылка https://pythonworld.ru/moduli/modul-sys.html"
   ]
  },
  {
   "cell_type": "markdown",
   "metadata": {},
   "source": [
    "# Давайте наконец-таки извлечем с вами корень"
   ]
  },
  {
   "cell_type": "code",
   "execution_count": null,
   "metadata": {},
   "outputs": [],
   "source": [
    "import math"
   ]
  },
  {
   "cell_type": "code",
   "execution_count": null,
   "metadata": {},
   "outputs": [],
   "source": [
    "help(math)"
   ]
  },
  {
   "cell_type": "code",
   "execution_count": null,
   "metadata": {},
   "outputs": [],
   "source": [
    "math.sqrt(4), math.sqrt(10)"
   ]
  },
  {
   "cell_type": "code",
   "execution_count": null,
   "metadata": {},
   "outputs": [],
   "source": [
    "math.sin(100)"
   ]
  },
  {
   "cell_type": "code",
   "execution_count": null,
   "metadata": {},
   "outputs": [],
   "source": [
    "math.log(math.e), math.log(math.pi)"
   ]
  },
  {
   "cell_type": "code",
   "execution_count": null,
   "metadata": {},
   "outputs": [],
   "source": []
  }
 ],
 "metadata": {
  "kernelspec": {
   "display_name": "Python 3",
   "language": "python",
   "name": "python3"
  },
  "language_info": {
   "codemirror_mode": {
    "name": "ipython",
    "version": 3
   },
   "file_extension": ".py",
   "mimetype": "text/x-python",
   "name": "python",
   "nbconvert_exporter": "python",
   "pygments_lexer": "ipython3",
   "version": "3.8.8"
  }
 },
 "nbformat": 4,
 "nbformat_minor": 2
}
